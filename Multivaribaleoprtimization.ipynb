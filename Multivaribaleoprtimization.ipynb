{
  "nbformat": 4,
  "nbformat_minor": 0,
  "metadata": {
    "colab": {
      "provenance": [],
      "authorship_tag": "ABX9TyOhamHTG90V7RyVeV8uMML9",
      "include_colab_link": true
    },
    "kernelspec": {
      "name": "python3",
      "display_name": "Python 3"
    },
    "language_info": {
      "name": "python"
    }
  },
  "cells": [
    {
      "cell_type": "markdown",
      "metadata": {
        "id": "view-in-github",
        "colab_type": "text"
      },
      "source": [
        "<a href=\"https://colab.research.google.com/github/vvrgit/AI/blob/main/Multivaribaleoprtimization.ipynb\" target=\"_parent\"><img src=\"https://colab.research.google.com/assets/colab-badge.svg\" alt=\"Open In Colab\"/></a>"
      ]
    },
    {
      "cell_type": "markdown",
      "source": [
        "Minimize f(x,y)=x^2 + y^2 +10"
      ],
      "metadata": {
        "id": "VtIc4jXKB9cu"
      }
    },
    {
      "cell_type": "code",
      "execution_count": 1,
      "metadata": {
        "id": "YpQ1_itIB2-j"
      },
      "outputs": [],
      "source": [
        "x=2\n",
        "y=-2\n",
        "eta=0.1     #learning rate\n",
        "itermax=100"
      ]
    },
    {
      "cell_type": "code",
      "source": [
        "for iter in range(itermax):\n",
        "  derx=2*x  #derivative of function f(x,y) with repsect to x\n",
        "  dery=2*y  #derivative of function f(x,y) with repsect to y\n",
        "  delx=-eta*derx\n",
        "  dely=-eta*dery\n",
        "  x=x+delx\n",
        "  y=y+dely\n",
        "print(round(x))\n",
        "print(round(y))"
      ],
      "metadata": {
        "colab": {
          "base_uri": "https://localhost:8080/"
        },
        "id": "3DM0oDPZCxA4",
        "outputId": "fbb0e8f6-ef41-4bc0-da59-47d27fe03749"
      },
      "execution_count": 5,
      "outputs": [
        {
          "output_type": "stream",
          "name": "stdout",
          "text": [
            "0\n",
            "0\n"
          ]
        }
      ]
    }
  ]
}
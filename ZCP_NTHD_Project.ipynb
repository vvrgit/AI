{
  "nbformat": 4,
  "nbformat_minor": 0,
  "metadata": {
    "colab": {
      "name": "ZCP-NTHD-Project.ipynb",
      "provenance": [],
      "authorship_tag": "ABX9TyNE1gJzxPQzojDIZlScjOSd",
      "include_colab_link": true
    },
    "kernelspec": {
      "name": "python3",
      "display_name": "Python 3"
    },
    "language_info": {
      "name": "python"
    }
  },
  "cells": [
    {
      "cell_type": "markdown",
      "metadata": {
        "id": "view-in-github",
        "colab_type": "text"
      },
      "source": [
        "<a href=\"https://colab.research.google.com/github/vvrgit/AI/blob/main/ZCP_NTHD_Project.ipynb\" target=\"_parent\"><img src=\"https://colab.research.google.com/assets/colab-badge.svg\" alt=\"Open In Colab\"/></a>"
      ]
    },
    {
      "cell_type": "markdown",
      "source": [
        "#Mount Google Drive#"
      ],
      "metadata": {
        "id": "gDeMNMsaufKq"
      }
    },
    {
      "cell_type": "code",
      "execution_count": 1,
      "metadata": {
        "colab": {
          "base_uri": "https://localhost:8080/"
        },
        "id": "5_2k3MpAoh92",
        "outputId": "2d318e4a-038f-4917-f27a-3a0757a4d1eb"
      },
      "outputs": [
        {
          "output_type": "stream",
          "name": "stdout",
          "text": [
            "Mounted at /content/drive\n"
          ]
        }
      ],
      "source": [
        "from google.colab import drive\n",
        "drive.mount('/content/drive')"
      ]
    },
    {
      "cell_type": "markdown",
      "source": [
        "#Import Libraries#"
      ],
      "metadata": {
        "id": "UEKmIlBVujIq"
      }
    },
    {
      "cell_type": "code",
      "source": [
        "# importing libraries  \n",
        "import numpy as nm  \n",
        "import matplotlib.pyplot as mtp  \n",
        "import pandas as pd"
      ],
      "metadata": {
        "id": "oClZC6L3pnjI"
      },
      "execution_count": 2,
      "outputs": []
    },
    {
      "cell_type": "markdown",
      "source": [
        "#ZCP-Dataset-01#"
      ],
      "metadata": {
        "id": "KdXmf8NyzHqs"
      }
    },
    {
      "cell_type": "markdown",
      "source": [
        "#Load Data#"
      ],
      "metadata": {
        "id": "xFfLGx6DumWJ"
      }
    },
    {
      "cell_type": "code",
      "source": [
        "# load dataset\n",
        "dataset03 = pd.read_csv(\"/content/drive/MyDrive/ZCP-NTHD-Data/ZCP-NTHD-01.csv\")\n",
        "dataset03.head()"
      ],
      "metadata": {
        "colab": {
          "base_uri": "https://localhost:8080/",
          "height": 206
        },
        "id": "x5u54xayptVG",
        "outputId": "58b43db4-022b-4fa3-87ca-107c13ffb52a"
      },
      "execution_count": 22,
      "outputs": [
        {
          "output_type": "execute_result",
          "data": {
            "text/html": [
              "\n",
              "  <div id=\"df-f581cbc4-1f23-4b90-a754-7af06634f69b\">\n",
              "    <div class=\"colab-df-container\">\n",
              "      <div>\n",
              "<style scoped>\n",
              "    .dataframe tbody tr th:only-of-type {\n",
              "        vertical-align: middle;\n",
              "    }\n",
              "\n",
              "    .dataframe tbody tr th {\n",
              "        vertical-align: top;\n",
              "    }\n",
              "\n",
              "    .dataframe thead th {\n",
              "        text-align: right;\n",
              "    }\n",
              "</style>\n",
              "<table border=\"1\" class=\"dataframe\">\n",
              "  <thead>\n",
              "    <tr style=\"text-align: right;\">\n",
              "      <th></th>\n",
              "      <th>Slope</th>\n",
              "      <th>Intercept</th>\n",
              "      <th>R</th>\n",
              "      <th>RMSE</th>\n",
              "      <th>lable</th>\n",
              "    </tr>\n",
              "  </thead>\n",
              "  <tbody>\n",
              "    <tr>\n",
              "      <th>0</th>\n",
              "      <td>593.780903</td>\n",
              "      <td>0.000043</td>\n",
              "      <td>0.999070</td>\n",
              "      <td>0.068771</td>\n",
              "      <td>1</td>\n",
              "    </tr>\n",
              "    <tr>\n",
              "      <th>1</th>\n",
              "      <td>592.285272</td>\n",
              "      <td>0.000363</td>\n",
              "      <td>0.999065</td>\n",
              "      <td>0.092947</td>\n",
              "      <td>0</td>\n",
              "    </tr>\n",
              "    <tr>\n",
              "      <th>2</th>\n",
              "      <td>570.599954</td>\n",
              "      <td>0.006284</td>\n",
              "      <td>0.998001</td>\n",
              "      <td>0.115407</td>\n",
              "      <td>0</td>\n",
              "    </tr>\n",
              "    <tr>\n",
              "      <th>3</th>\n",
              "      <td>514.662011</td>\n",
              "      <td>0.028757</td>\n",
              "      <td>0.992195</td>\n",
              "      <td>0.133313</td>\n",
              "      <td>0</td>\n",
              "    </tr>\n",
              "    <tr>\n",
              "      <th>4</th>\n",
              "      <td>393.957945</td>\n",
              "      <td>0.094933</td>\n",
              "      <td>0.985207</td>\n",
              "      <td>0.144945</td>\n",
              "      <td>0</td>\n",
              "    </tr>\n",
              "  </tbody>\n",
              "</table>\n",
              "</div>\n",
              "      <button class=\"colab-df-convert\" onclick=\"convertToInteractive('df-f581cbc4-1f23-4b90-a754-7af06634f69b')\"\n",
              "              title=\"Convert this dataframe to an interactive table.\"\n",
              "              style=\"display:none;\">\n",
              "        \n",
              "  <svg xmlns=\"http://www.w3.org/2000/svg\" height=\"24px\"viewBox=\"0 0 24 24\"\n",
              "       width=\"24px\">\n",
              "    <path d=\"M0 0h24v24H0V0z\" fill=\"none\"/>\n",
              "    <path d=\"M18.56 5.44l.94 2.06.94-2.06 2.06-.94-2.06-.94-.94-2.06-.94 2.06-2.06.94zm-11 1L8.5 8.5l.94-2.06 2.06-.94-2.06-.94L8.5 2.5l-.94 2.06-2.06.94zm10 10l.94 2.06.94-2.06 2.06-.94-2.06-.94-.94-2.06-.94 2.06-2.06.94z\"/><path d=\"M17.41 7.96l-1.37-1.37c-.4-.4-.92-.59-1.43-.59-.52 0-1.04.2-1.43.59L10.3 9.45l-7.72 7.72c-.78.78-.78 2.05 0 2.83L4 21.41c.39.39.9.59 1.41.59.51 0 1.02-.2 1.41-.59l7.78-7.78 2.81-2.81c.8-.78.8-2.07 0-2.86zM5.41 20L4 18.59l7.72-7.72 1.47 1.35L5.41 20z\"/>\n",
              "  </svg>\n",
              "      </button>\n",
              "      \n",
              "  <style>\n",
              "    .colab-df-container {\n",
              "      display:flex;\n",
              "      flex-wrap:wrap;\n",
              "      gap: 12px;\n",
              "    }\n",
              "\n",
              "    .colab-df-convert {\n",
              "      background-color: #E8F0FE;\n",
              "      border: none;\n",
              "      border-radius: 50%;\n",
              "      cursor: pointer;\n",
              "      display: none;\n",
              "      fill: #1967D2;\n",
              "      height: 32px;\n",
              "      padding: 0 0 0 0;\n",
              "      width: 32px;\n",
              "    }\n",
              "\n",
              "    .colab-df-convert:hover {\n",
              "      background-color: #E2EBFA;\n",
              "      box-shadow: 0px 1px 2px rgba(60, 64, 67, 0.3), 0px 1px 3px 1px rgba(60, 64, 67, 0.15);\n",
              "      fill: #174EA6;\n",
              "    }\n",
              "\n",
              "    [theme=dark] .colab-df-convert {\n",
              "      background-color: #3B4455;\n",
              "      fill: #D2E3FC;\n",
              "    }\n",
              "\n",
              "    [theme=dark] .colab-df-convert:hover {\n",
              "      background-color: #434B5C;\n",
              "      box-shadow: 0px 1px 3px 1px rgba(0, 0, 0, 0.15);\n",
              "      filter: drop-shadow(0px 1px 2px rgba(0, 0, 0, 0.3));\n",
              "      fill: #FFFFFF;\n",
              "    }\n",
              "  </style>\n",
              "\n",
              "      <script>\n",
              "        const buttonEl =\n",
              "          document.querySelector('#df-f581cbc4-1f23-4b90-a754-7af06634f69b button.colab-df-convert');\n",
              "        buttonEl.style.display =\n",
              "          google.colab.kernel.accessAllowed ? 'block' : 'none';\n",
              "\n",
              "        async function convertToInteractive(key) {\n",
              "          const element = document.querySelector('#df-f581cbc4-1f23-4b90-a754-7af06634f69b');\n",
              "          const dataTable =\n",
              "            await google.colab.kernel.invokeFunction('convertToInteractive',\n",
              "                                                     [key], {});\n",
              "          if (!dataTable) return;\n",
              "\n",
              "          const docLinkHtml = 'Like what you see? Visit the ' +\n",
              "            '<a target=\"_blank\" href=https://colab.research.google.com/notebooks/data_table.ipynb>data table notebook</a>'\n",
              "            + ' to learn more about interactive tables.';\n",
              "          element.innerHTML = '';\n",
              "          dataTable['output_type'] = 'display_data';\n",
              "          await google.colab.output.renderOutput(dataTable, element);\n",
              "          const docLink = document.createElement('div');\n",
              "          docLink.innerHTML = docLinkHtml;\n",
              "          element.appendChild(docLink);\n",
              "        }\n",
              "      </script>\n",
              "    </div>\n",
              "  </div>\n",
              "  "
            ],
            "text/plain": [
              "        Slope  Intercept         R      RMSE  lable\n",
              "0  593.780903   0.000043  0.999070  0.068771      1\n",
              "1  592.285272   0.000363  0.999065  0.092947      0\n",
              "2  570.599954   0.006284  0.998001  0.115407      0\n",
              "3  514.662011   0.028757  0.992195  0.133313      0\n",
              "4  393.957945   0.094933  0.985207  0.144945      0"
            ]
          },
          "metadata": {},
          "execution_count": 22
        }
      ]
    },
    {
      "cell_type": "markdown",
      "source": [
        "#Data Normalization#"
      ],
      "metadata": {
        "id": "pPfYn-laupYa"
      }
    },
    {
      "cell_type": "code",
      "source": [
        "from sklearn.preprocessing import MinMaxScaler\n",
        "scaler = MinMaxScaler()\n",
        "data = scaler.fit_transform(dataset03)\n",
        "data"
      ],
      "metadata": {
        "colab": {
          "base_uri": "https://localhost:8080/"
        },
        "id": "1lm75ImzuR_C",
        "outputId": "52f76d45-e055-41bb-e36e-6d0f5d1cf684"
      },
      "execution_count": 23,
      "outputs": [
        {
          "output_type": "execute_result",
          "data": {
            "text/plain": [
              "array([[0.78493007, 0.49554569, 0.99956262, 0.14746427, 1.        ],\n",
              "       [0.78420932, 0.49554759, 0.99956021, 0.2428233 , 0.        ],\n",
              "       [0.77375913, 0.49558265, 0.99901641, 0.33141715, 0.        ],\n",
              "       ...,\n",
              "       [0.70292468, 0.24439721, 0.99582845, 0.27928235, 0.        ],\n",
              "       [0.74599888, 0.19167674, 0.99234551, 0.22251018, 0.        ],\n",
              "       [0.78377301, 0.14537147, 0.99610378, 0.16187009, 1.        ]])"
            ]
          },
          "metadata": {},
          "execution_count": 23
        }
      ]
    },
    {
      "cell_type": "markdown",
      "source": [
        "#Data Split#"
      ],
      "metadata": {
        "id": "rPdMGF_lxdQ0"
      }
    },
    {
      "cell_type": "code",
      "source": [
        "from sklearn.model_selection import train_test_split\n",
        "df_train, df_test = train_test_split(data, train_size = 0.7, test_size = 0.3, random_state = 100)"
      ],
      "metadata": {
        "id": "LlZbTBEep_oG"
      },
      "execution_count": 24,
      "outputs": []
    },
    {
      "cell_type": "code",
      "source": [
        "y_train = df_train[:,4]\n",
        "X_train = df_train[:,0:4]\n",
        "y_test = df_test[:,4]\n",
        "X_test = df_test[:,0:4]"
      ],
      "metadata": {
        "id": "BLrvtZCsqVHO"
      },
      "execution_count": 30,
      "outputs": []
    },
    {
      "cell_type": "markdown",
      "source": [
        "#Random Forest Model#"
      ],
      "metadata": {
        "id": "h043GTfsxgYM"
      }
    },
    {
      "cell_type": "code",
      "source": [
        "#Fitting Decision Tree classifier to the training set  \n",
        "from sklearn.ensemble import RandomForestClassifier  \n",
        "classifier= RandomForestClassifier(n_estimators= 1, criterion=\"entropy\")  #criterion=\"gini\"\n",
        "classifier.fit(X_train, y_train)"
      ],
      "metadata": {
        "colab": {
          "base_uri": "https://localhost:8080/"
        },
        "id": "JzReEsqFw4R8",
        "outputId": "3ef8d4ee-3065-4229-c7e5-e9641f551c4e"
      },
      "execution_count": 31,
      "outputs": [
        {
          "output_type": "execute_result",
          "data": {
            "text/plain": [
              "RandomForestClassifier(criterion='entropy', n_estimators=1)"
            ]
          },
          "metadata": {},
          "execution_count": 31
        }
      ]
    },
    {
      "cell_type": "code",
      "source": [
        "#Predicting the test set result  \n",
        "y_pred_test= classifier.predict(X_test)\n",
        "y_pred_train= classifier.predict(X_train)"
      ],
      "metadata": {
        "id": "Ja2XAiKgyApn"
      },
      "execution_count": 32,
      "outputs": []
    },
    {
      "cell_type": "code",
      "source": [
        "from sklearn import metrics #Import scikit-learn metrics module for accuracy calculation\n",
        "print(\"Testing Accuracy:\",metrics.accuracy_score(y_test, y_pred_test))\n",
        "print(\"Training Accuracy:\",metrics.accuracy_score(y_train, y_pred_train))"
      ],
      "metadata": {
        "colab": {
          "base_uri": "https://localhost:8080/"
        },
        "id": "Caigl485yMmP",
        "outputId": "cea4da98-9a62-4bb0-ba9a-a5508095d3d6"
      },
      "execution_count": 33,
      "outputs": [
        {
          "output_type": "stream",
          "name": "stdout",
          "text": [
            "Testing Accuracy: 0.9933333333333333\n",
            "Training Accuracy: 0.9928263988522238\n"
          ]
        }
      ]
    },
    {
      "cell_type": "markdown",
      "source": [
        "#ZCP-Dataset-02#"
      ],
      "metadata": {
        "id": "u3AEUDBazPbs"
      }
    },
    {
      "cell_type": "code",
      "source": [
        ""
      ],
      "metadata": {
        "id": "Dns2C1SGyo7D"
      },
      "execution_count": null,
      "outputs": []
    }
  ]
}
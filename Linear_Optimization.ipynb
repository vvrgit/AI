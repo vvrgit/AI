{
  "nbformat": 4,
  "nbformat_minor": 0,
  "metadata": {
    "colab": {
      "name": "Linear Optimization.ipynb",
      "provenance": [],
      "authorship_tag": "ABX9TyOs3S95Z5caoFLDSdneHEWp",
      "include_colab_link": true
    },
    "kernelspec": {
      "name": "python3",
      "display_name": "Python 3"
    },
    "language_info": {
      "name": "python"
    }
  },
  "cells": [
    {
      "cell_type": "markdown",
      "metadata": {
        "id": "view-in-github",
        "colab_type": "text"
      },
      "source": [
        "<a href=\"https://colab.research.google.com/github/vvrgit/AI/blob/main/Linear_Optimization.ipynb\" target=\"_parent\"><img src=\"https://colab.research.google.com/assets/colab-badge.svg\" alt=\"Open In Colab\"/></a>"
      ]
    },
    {
      "cell_type": "code",
      "metadata": {
        "colab": {
          "base_uri": "https://localhost:8080/"
        },
        "id": "ttz-mZEuJgL_",
        "outputId": "eea29c53-16cb-4046-e607-261cbe5c79cb"
      },
      "source": [
        "from scipy.optimize import linprog\n",
        "obj=[-6,-5]   # objective function matrix\n",
        "A_ieq=[[1,1],[3,2]] # Inequality constraints coeff. matrix\n",
        "b_ieq=[5,12] # Inequality constraints cont. matrix\n",
        "\n",
        "boundery=[(0,float('inf')),(0,float('inf'))]   #limits for a and b\n",
        "opt=linprog(c=obj,A_ub=A_ieq,b_ub=b_ieq,A_eq=None,b_eq=None,bounds=boundery,method=\"Simplex\")\n",
        "opt.x\n",
        "print('no. of A type chacolates=',round(opt.x[0]))\n",
        "print('no. of B type chacolates=',round(opt.x[1]))"
      ],
      "execution_count": 5,
      "outputs": [
        {
          "output_type": "stream",
          "text": [
            "no. of A type chacolates= 2\n",
            "no. of B type chacolates= 3\n"
          ],
          "name": "stdout"
        }
      ]
    },
    {
      "cell_type": "code",
      "metadata": {
        "id": "N9ShMFnZN0TR"
      },
      "source": [
        ""
      ],
      "execution_count": null,
      "outputs": []
    }
  ]
}
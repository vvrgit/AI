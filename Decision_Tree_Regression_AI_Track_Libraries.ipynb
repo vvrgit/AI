{
  "nbformat": 4,
  "nbformat_minor": 0,
  "metadata": {
    "colab": {
      "name": "Decision Tree-Regression-AI Track - Libraries",
      "provenance": [],
      "mount_file_id": "1EMY_3OkCvL-_9Ejs36q0GJINTHKlm8iB",
      "authorship_tag": "ABX9TyP3+PegEBCsyr7LXkRzq7z5",
      "include_colab_link": true
    },
    "kernelspec": {
      "name": "python3",
      "display_name": "Python 3"
    },
    "language_info": {
      "name": "python"
    }
  },
  "cells": [
    {
      "cell_type": "markdown",
      "metadata": {
        "id": "view-in-github",
        "colab_type": "text"
      },
      "source": [
        "<a href=\"https://colab.research.google.com/github/vvrgit/AI/blob/main/Decision_Tree_Regression_AI_Track_Libraries.ipynb\" target=\"_parent\"><img src=\"https://colab.research.google.com/assets/colab-badge.svg\" alt=\"Open In Colab\"/></a>"
      ]
    },
    {
      "cell_type": "markdown",
      "metadata": {
        "id": "lOcTFp4VdO3H"
      },
      "source": [
        "#Mount Google Drive"
      ]
    },
    {
      "cell_type": "code",
      "metadata": {
        "colab": {
          "base_uri": "https://localhost:8080/"
        },
        "id": "CfbGt1b8dIvI",
        "outputId": "59f1a547-3652-401a-9ff0-19dba4d49d31"
      },
      "source": [
        "from google.colab import drive\n",
        "drive.mount('/content/drive')"
      ],
      "execution_count": 20,
      "outputs": [
        {
          "output_type": "stream",
          "name": "stdout",
          "text": [
            "Drive already mounted at /content/drive; to attempt to forcibly remount, call drive.mount(\"/content/drive\", force_remount=True).\n"
          ]
        }
      ]
    },
    {
      "cell_type": "markdown",
      "metadata": {
        "id": "5QjscJaLdSQH"
      },
      "source": [
        "# Load Libraries"
      ]
    },
    {
      "cell_type": "code",
      "metadata": {
        "id": "qpi6lJRxPgPb"
      },
      "source": [
        "import numpy as np\n",
        "import matplotlib.pyplot as plt\n",
        "import pandas as pd"
      ],
      "execution_count": 21,
      "outputs": []
    },
    {
      "cell_type": "markdown",
      "metadata": {
        "id": "isuY3joxdYKX"
      },
      "source": [
        "#Load Data"
      ]
    },
    {
      "cell_type": "code",
      "metadata": {
        "colab": {
          "base_uri": "https://localhost:8080/",
          "height": 205
        },
        "id": "K-NgjfexPpoW",
        "outputId": "2f838e14-1566-47f9-9a49-c1f5c8ace90c"
      },
      "source": [
        "dataset = pd.read_csv('/content/drive/MyDrive/AI Data/IceCreamData.csv')\n",
        "X = dataset['Temperature'].values\n",
        "y = dataset['Revenue'].values\n",
        "dataset.head(5)"
      ],
      "execution_count": 22,
      "outputs": [
        {
          "output_type": "execute_result",
          "data": {
            "text/html": [
              "<div>\n",
              "<style scoped>\n",
              "    .dataframe tbody tr th:only-of-type {\n",
              "        vertical-align: middle;\n",
              "    }\n",
              "\n",
              "    .dataframe tbody tr th {\n",
              "        vertical-align: top;\n",
              "    }\n",
              "\n",
              "    .dataframe thead th {\n",
              "        text-align: right;\n",
              "    }\n",
              "</style>\n",
              "<table border=\"1\" class=\"dataframe\">\n",
              "  <thead>\n",
              "    <tr style=\"text-align: right;\">\n",
              "      <th></th>\n",
              "      <th>Temperature</th>\n",
              "      <th>Revenue</th>\n",
              "    </tr>\n",
              "  </thead>\n",
              "  <tbody>\n",
              "    <tr>\n",
              "      <th>0</th>\n",
              "      <td>24.566884</td>\n",
              "      <td>534.799028</td>\n",
              "    </tr>\n",
              "    <tr>\n",
              "      <th>1</th>\n",
              "      <td>26.005191</td>\n",
              "      <td>625.190122</td>\n",
              "    </tr>\n",
              "    <tr>\n",
              "      <th>2</th>\n",
              "      <td>27.790554</td>\n",
              "      <td>660.632289</td>\n",
              "    </tr>\n",
              "    <tr>\n",
              "      <th>3</th>\n",
              "      <td>20.595335</td>\n",
              "      <td>487.706960</td>\n",
              "    </tr>\n",
              "    <tr>\n",
              "      <th>4</th>\n",
              "      <td>11.503498</td>\n",
              "      <td>316.240194</td>\n",
              "    </tr>\n",
              "  </tbody>\n",
              "</table>\n",
              "</div>"
            ],
            "text/plain": [
              "   Temperature     Revenue\n",
              "0    24.566884  534.799028\n",
              "1    26.005191  625.190122\n",
              "2    27.790554  660.632289\n",
              "3    20.595335  487.706960\n",
              "4    11.503498  316.240194"
            ]
          },
          "metadata": {},
          "execution_count": 22
        }
      ]
    },
    {
      "cell_type": "markdown",
      "metadata": {
        "id": "PjgjvhMOdg__"
      },
      "source": [
        "#Data Split"
      ]
    },
    {
      "cell_type": "code",
      "metadata": {
        "id": "AUC-obLtTOk3"
      },
      "source": [
        "from sklearn.model_selection import train_test_split\n",
        "X_train, X_test, y_train, y_test = train_test_split(X, y, test_size = 0.05)"
      ],
      "execution_count": 23,
      "outputs": []
    },
    {
      "cell_type": "markdown",
      "metadata": {
        "id": "lNjeL69Ydje3"
      },
      "source": [
        "#Model Training"
      ]
    },
    {
      "cell_type": "code",
      "metadata": {
        "colab": {
          "base_uri": "https://localhost:8080/"
        },
        "id": "b3hDs70fTXdH",
        "outputId": "be13b606-8f6b-4184-f958-dcffa7da0e72"
      },
      "source": [
        "# Fitting Decision Tree Regression to the dataset\n",
        "from sklearn.tree import DecisionTreeRegressor\n",
        "regressor = DecisionTreeRegressor()\n",
        "regressor.fit(X_train.reshape(-1,1), y_train.reshape(-1,1))"
      ],
      "execution_count": 24,
      "outputs": [
        {
          "output_type": "execute_result",
          "data": {
            "text/plain": [
              "DecisionTreeRegressor(ccp_alpha=0.0, criterion='mse', max_depth=None,\n",
              "                      max_features=None, max_leaf_nodes=None,\n",
              "                      min_impurity_decrease=0.0, min_impurity_split=None,\n",
              "                      min_samples_leaf=1, min_samples_split=2,\n",
              "                      min_weight_fraction_leaf=0.0, presort='deprecated',\n",
              "                      random_state=None, splitter='best')"
            ]
          },
          "metadata": {},
          "execution_count": 24
        }
      ]
    },
    {
      "cell_type": "markdown",
      "metadata": {
        "id": "3OW49Oahdl2X"
      },
      "source": [
        "#Model Prediction"
      ]
    },
    {
      "cell_type": "code",
      "metadata": {
        "colab": {
          "base_uri": "https://localhost:8080/",
          "height": 828
        },
        "id": "yx0NQV99TeR9",
        "outputId": "30fbc5b1-8cb8-47e8-979f-98f0068f0a34"
      },
      "source": [
        "y_pred = regressor.predict(X_test.reshape(-1,1))\n",
        "df = pd.DataFrame({'Real Values':y_test.reshape(-1), 'Predicted Values':y_pred.reshape(-1)})\n",
        "df"
      ],
      "execution_count": 25,
      "outputs": [
        {
          "output_type": "execute_result",
          "data": {
            "text/html": [
              "<div>\n",
              "<style scoped>\n",
              "    .dataframe tbody tr th:only-of-type {\n",
              "        vertical-align: middle;\n",
              "    }\n",
              "\n",
              "    .dataframe tbody tr th {\n",
              "        vertical-align: top;\n",
              "    }\n",
              "\n",
              "    .dataframe thead th {\n",
              "        text-align: right;\n",
              "    }\n",
              "</style>\n",
              "<table border=\"1\" class=\"dataframe\">\n",
              "  <thead>\n",
              "    <tr style=\"text-align: right;\">\n",
              "      <th></th>\n",
              "      <th>Real Values</th>\n",
              "      <th>Predicted Values</th>\n",
              "    </tr>\n",
              "  </thead>\n",
              "  <tbody>\n",
              "    <tr>\n",
              "      <th>0</th>\n",
              "      <td>603.232942</td>\n",
              "      <td>559.135869</td>\n",
              "    </tr>\n",
              "    <tr>\n",
              "      <th>1</th>\n",
              "      <td>428.854356</td>\n",
              "      <td>390.879119</td>\n",
              "    </tr>\n",
              "    <tr>\n",
              "      <th>2</th>\n",
              "      <td>702.901717</td>\n",
              "      <td>651.861536</td>\n",
              "    </tr>\n",
              "    <tr>\n",
              "      <th>3</th>\n",
              "      <td>496.011295</td>\n",
              "      <td>471.701557</td>\n",
              "    </tr>\n",
              "    <tr>\n",
              "      <th>4</th>\n",
              "      <td>537.113833</td>\n",
              "      <td>578.360435</td>\n",
              "    </tr>\n",
              "    <tr>\n",
              "      <th>5</th>\n",
              "      <td>594.651009</td>\n",
              "      <td>658.593732</td>\n",
              "    </tr>\n",
              "    <tr>\n",
              "      <th>6</th>\n",
              "      <td>448.930443</td>\n",
              "      <td>456.524341</td>\n",
              "    </tr>\n",
              "    <tr>\n",
              "      <th>7</th>\n",
              "      <td>296.906532</td>\n",
              "      <td>384.699415</td>\n",
              "    </tr>\n",
              "    <tr>\n",
              "      <th>8</th>\n",
              "      <td>569.618756</td>\n",
              "      <td>565.875000</td>\n",
              "    </tr>\n",
              "    <tr>\n",
              "      <th>9</th>\n",
              "      <td>594.311675</td>\n",
              "      <td>572.672047</td>\n",
              "    </tr>\n",
              "    <tr>\n",
              "      <th>10</th>\n",
              "      <td>520.470310</td>\n",
              "      <td>488.170809</td>\n",
              "    </tr>\n",
              "    <tr>\n",
              "      <th>11</th>\n",
              "      <td>649.729072</td>\n",
              "      <td>661.467519</td>\n",
              "    </tr>\n",
              "    <tr>\n",
              "      <th>12</th>\n",
              "      <td>475.538209</td>\n",
              "      <td>498.252146</td>\n",
              "    </tr>\n",
              "    <tr>\n",
              "      <th>13</th>\n",
              "      <td>691.855484</td>\n",
              "      <td>698.971806</td>\n",
              "    </tr>\n",
              "    <tr>\n",
              "      <th>14</th>\n",
              "      <td>646.266946</td>\n",
              "      <td>609.417479</td>\n",
              "    </tr>\n",
              "    <tr>\n",
              "      <th>15</th>\n",
              "      <td>478.598509</td>\n",
              "      <td>505.743867</td>\n",
              "    </tr>\n",
              "    <tr>\n",
              "      <th>16</th>\n",
              "      <td>297.499120</td>\n",
              "      <td>335.770416</td>\n",
              "    </tr>\n",
              "    <tr>\n",
              "      <th>17</th>\n",
              "      <td>186.476487</td>\n",
              "      <td>170.237756</td>\n",
              "    </tr>\n",
              "    <tr>\n",
              "      <th>18</th>\n",
              "      <td>679.317791</td>\n",
              "      <td>654.747461</td>\n",
              "    </tr>\n",
              "    <tr>\n",
              "      <th>19</th>\n",
              "      <td>222.872317</td>\n",
              "      <td>212.591740</td>\n",
              "    </tr>\n",
              "    <tr>\n",
              "      <th>20</th>\n",
              "      <td>343.362905</td>\n",
              "      <td>322.983977</td>\n",
              "    </tr>\n",
              "    <tr>\n",
              "      <th>21</th>\n",
              "      <td>675.807151</td>\n",
              "      <td>711.174065</td>\n",
              "    </tr>\n",
              "    <tr>\n",
              "      <th>22</th>\n",
              "      <td>662.558990</td>\n",
              "      <td>641.025389</td>\n",
              "    </tr>\n",
              "    <tr>\n",
              "      <th>23</th>\n",
              "      <td>627.901841</td>\n",
              "      <td>612.243721</td>\n",
              "    </tr>\n",
              "    <tr>\n",
              "      <th>24</th>\n",
              "      <td>632.901914</td>\n",
              "      <td>639.538012</td>\n",
              "    </tr>\n",
              "  </tbody>\n",
              "</table>\n",
              "</div>"
            ],
            "text/plain": [
              "    Real Values  Predicted Values\n",
              "0    603.232942        559.135869\n",
              "1    428.854356        390.879119\n",
              "2    702.901717        651.861536\n",
              "3    496.011295        471.701557\n",
              "4    537.113833        578.360435\n",
              "5    594.651009        658.593732\n",
              "6    448.930443        456.524341\n",
              "7    296.906532        384.699415\n",
              "8    569.618756        565.875000\n",
              "9    594.311675        572.672047\n",
              "10   520.470310        488.170809\n",
              "11   649.729072        661.467519\n",
              "12   475.538209        498.252146\n",
              "13   691.855484        698.971806\n",
              "14   646.266946        609.417479\n",
              "15   478.598509        505.743867\n",
              "16   297.499120        335.770416\n",
              "17   186.476487        170.237756\n",
              "18   679.317791        654.747461\n",
              "19   222.872317        212.591740\n",
              "20   343.362905        322.983977\n",
              "21   675.807151        711.174065\n",
              "22   662.558990        641.025389\n",
              "23   627.901841        612.243721\n",
              "24   632.901914        639.538012"
            ]
          },
          "metadata": {},
          "execution_count": 25
        }
      ]
    },
    {
      "cell_type": "markdown",
      "metadata": {
        "id": "00KfWj0EdpwH"
      },
      "source": [
        "#Predicted Data Visulization"
      ]
    },
    {
      "cell_type": "code",
      "metadata": {
        "colab": {
          "base_uri": "https://localhost:8080/",
          "height": 295
        },
        "id": "74k4HeieaNcO",
        "outputId": "9d63e7ff-db09-4e92-8a4d-93579cdadbb3"
      },
      "source": [
        "plt.scatter(X_test, y_test, color = 'red')\n",
        "plt.scatter(X_test, y_pred, color = 'green')\n",
        "plt.title('Decision Tree Regression')\n",
        "plt.xlabel('Temperature')\n",
        "plt.ylabel('Revenue')\n",
        "plt.show()"
      ],
      "execution_count": 26,
      "outputs": [
        {
          "output_type": "display_data",
          "data": {
            "image/png": "[encoded data removed]",
            "text/plain": [
              "<Figure size 432x288 with 1 Axes>"
            ]
          },
          "metadata": {
            "needs_background": "light"
          }
        }
      ]
    },
    {
      "cell_type": "markdown",
      "metadata": {
        "id": "QbPeXUqZduwo"
      },
      "source": [
        "# Error Metrics"
      ]
    },
    {
      "cell_type": "code",
      "metadata": {
        "colab": {
          "base_uri": "https://localhost:8080/"
        },
        "id": "BH_CTIaZa7u3",
        "outputId": "27cbc32b-a6c3-4905-d402-d90b535b3fe9"
      },
      "source": [
        "import math\n",
        "from sklearn.metrics import mean_squared_error \n",
        "from sklearn.metrics import mean_absolute_error\n",
        "\n",
        "\n",
        "#Testing Accuracies\n",
        "rmse = math.sqrt(mean_squared_error(y_test, y_pred)) \n",
        "print('Root mean square error', rmse) \n",
        "mse = (mean_squared_error(y_test, y_pred)) \n",
        "print('Mean square error', mse) \n",
        "mae=mean_absolute_error(y_test, y_pred)\n",
        "print('Mean absolute error', mae)"
      ],
      "execution_count": 27,
      "outputs": [
        {
          "output_type": "stream",
          "name": "stdout",
          "text": [
            "Root mean square error 34.245824185243414\n",
            "Mean square error 1172.7764741266028\n",
            "Mean absolute error 28.407173752000002\n"
          ]
        }
      ]
    },
    {
      "cell_type": "markdown",
      "metadata": {
        "id": "52s2IXOfdx7g"
      },
      "source": [
        "#Save Model"
      ]
    },
    {
      "cell_type": "code",
      "metadata": {
        "id": "bZefNhbzbzxd"
      },
      "source": [
        "import pickle\n",
        "# Save the model\n",
        "filename = 'model.pkl'\n",
        "pickle.dump(regressor, open(filename, 'wb'))"
      ],
      "execution_count": 28,
      "outputs": []
    },
    {
      "cell_type": "markdown",
      "metadata": {
        "id": "7xvD9x88dzx3"
      },
      "source": [
        "# Deployment"
      ]
    },
    {
      "cell_type": "code",
      "metadata": {
        "colab": {
          "base_uri": "https://localhost:8080/"
        },
        "id": "pub2IYfKcJBu",
        "outputId": "5e854b23-be69-4295-bfee-b2a937feabf5"
      },
      "source": [
        "user_ip=input('enter temperature')\n",
        "temp=np.array(float(user_ip))\n",
        "temp=temp.reshape(-1,1)\n",
        "\n",
        "model = pickle.load(open('model.pkl', 'rb'))\n",
        "prediction = model.predict(temperature)\n",
        "Revenue = prediction[0]\n",
        "print('Revenue of Ice Cream Parl',Revenue)"
      ],
      "execution_count": 29,
      "outputs": [
        {
          "output_type": "stream",
          "name": "stdout",
          "text": [
            "enter temperature50\n",
            "Revenue of Ice Cream Parl 1000.0\n"
          ]
        }
      ]
    }
  ]
}
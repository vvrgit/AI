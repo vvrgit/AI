{
  "nbformat": 4,
  "nbformat_minor": 0,
  "metadata": {
    "colab": {
      "name": "LogisticlRegression-AITrack-SampleData.ipynb",
      "provenance": [],
      "authorship_tag": "ABX9TyP1TuDPDlTdh+FfJpAW6RmZ",
      "include_colab_link": true
    },
    "kernelspec": {
      "name": "python3",
      "display_name": "Python 3"
    },
    "language_info": {
      "name": "python"
    }
  },
  "cells": [
    {
      "cell_type": "markdown",
      "metadata": {
        "id": "view-in-github",
        "colab_type": "text"
      },
      "source": [
        "<a href=\"https://colab.research.google.com/github/vvrgit/AI/blob/main/LogisticlRegression_AITrack_SampleData.ipynb\" target=\"_parent\"><img src=\"https://colab.research.google.com/assets/colab-badge.svg\" alt=\"Open In Colab\"/></a>"
      ]
    },
    {
      "cell_type": "markdown",
      "metadata": {
        "id": "JMM6c31pww0x"
      },
      "source": [
        "## Logistic Regression"
      ]
    },
    {
      "cell_type": "markdown",
      "metadata": {
        "id": "stLx4IXexC1p"
      },
      "source": [
        "![image.png](data:image/png;base64,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)"
      ]
    },
    {
      "cell_type": "markdown",
      "metadata": {
        "id": "s1aEY6m75rwi"
      },
      "source": [
        "# Mount Google Drive"
      ]
    },
    {
      "cell_type": "code",
      "metadata": {
        "colab": {
          "base_uri": "https://localhost:8080/"
        },
        "id": "bbpZkq3Iw065",
        "outputId": "e8a834b2-dc33-440b-95ed-694df2a97431"
      },
      "source": [
        "from google.colab import drive\n",
        "drive.mount('/content/drive')"
      ],
      "execution_count": 1,
      "outputs": [
        {
          "output_type": "stream",
          "name": "stdout",
          "text": [
            "Mounted at /content/drive\n"
          ]
        }
      ]
    },
    {
      "cell_type": "markdown",
      "metadata": {
        "id": "OW_dYouU5u3K"
      },
      "source": [
        "## Import required libraries"
      ]
    },
    {
      "cell_type": "code",
      "metadata": {
        "id": "TubjuMC8xl4B"
      },
      "source": [
        "import numpy as np\n",
        "import math as mt\n",
        "import random\n",
        "import pandas as pd"
      ],
      "execution_count": 13,
      "outputs": []
    },
    {
      "cell_type": "markdown",
      "metadata": {
        "id": "fBAAN4ZO5yxx"
      },
      "source": [
        "#Import Data"
      ]
    },
    {
      "cell_type": "code",
      "metadata": {
        "colab": {
          "base_uri": "https://localhost:8080/",
          "height": 205
        },
        "id": "gbqJoC8vxxC5",
        "outputId": "a473dbe6-6546-46bf-cb1e-565462b6438b"
      },
      "source": [
        "data = pd.read_csv('/content/drive/MyDrive/AI Data/sampledata_04.csv')\n",
        "data.head()"
      ],
      "execution_count": 14,
      "outputs": [
        {
          "output_type": "execute_result",
          "data": {
            "text/html": [
              "<div>\n",
              "<style scoped>\n",
              "    .dataframe tbody tr th:only-of-type {\n",
              "        vertical-align: middle;\n",
              "    }\n",
              "\n",
              "    .dataframe tbody tr th {\n",
              "        vertical-align: top;\n",
              "    }\n",
              "\n",
              "    .dataframe thead th {\n",
              "        text-align: right;\n",
              "    }\n",
              "</style>\n",
              "<table border=\"1\" class=\"dataframe\">\n",
              "  <thead>\n",
              "    <tr style=\"text-align: right;\">\n",
              "      <th></th>\n",
              "      <th>a</th>\n",
              "      <th>b</th>\n",
              "      <th>c</th>\n",
              "      <th>Q</th>\n",
              "    </tr>\n",
              "  </thead>\n",
              "  <tbody>\n",
              "    <tr>\n",
              "      <th>0</th>\n",
              "      <td>1</td>\n",
              "      <td>1</td>\n",
              "      <td>1</td>\n",
              "      <td>1</td>\n",
              "    </tr>\n",
              "    <tr>\n",
              "      <th>1</th>\n",
              "      <td>1</td>\n",
              "      <td>1</td>\n",
              "      <td>0</td>\n",
              "      <td>1</td>\n",
              "    </tr>\n",
              "    <tr>\n",
              "      <th>2</th>\n",
              "      <td>1</td>\n",
              "      <td>0</td>\n",
              "      <td>1</td>\n",
              "      <td>1</td>\n",
              "    </tr>\n",
              "    <tr>\n",
              "      <th>3</th>\n",
              "      <td>1</td>\n",
              "      <td>0</td>\n",
              "      <td>0</td>\n",
              "      <td>1</td>\n",
              "    </tr>\n",
              "    <tr>\n",
              "      <th>4</th>\n",
              "      <td>0</td>\n",
              "      <td>1</td>\n",
              "      <td>1</td>\n",
              "      <td>0</td>\n",
              "    </tr>\n",
              "  </tbody>\n",
              "</table>\n",
              "</div>"
            ],
            "text/plain": [
              "   a  b  c  Q\n",
              "0  1  1  1  1\n",
              "1  1  1  0  1\n",
              "2  1  0  1  1\n",
              "3  1  0  0  1\n",
              "4  0  1  1  0"
            ]
          },
          "metadata": {},
          "execution_count": 14
        }
      ]
    },
    {
      "cell_type": "markdown",
      "metadata": {
        "id": "qx7IBFds52Y5"
      },
      "source": [
        "#Outliers Detection"
      ]
    },
    {
      "cell_type": "code",
      "metadata": {
        "id": "5dwoOYnBxzxR"
      },
      "source": [
        "outliers = []\n",
        "def detect_outliers_zscore(data):\n",
        "    thres = 3\n",
        "    mean = np.mean(data)\n",
        "    std = np.std(data)\n",
        "    # print(mean, std)\n",
        "    for i in data:\n",
        "        z_score = (i-mean)/std\n",
        "        if (np.abs(z_score) > thres):\n",
        "            outliers.append(i)\n",
        "    return outliers# Driver code"
      ],
      "execution_count": 15,
      "outputs": []
    },
    {
      "cell_type": "code",
      "metadata": {
        "colab": {
          "base_uri": "https://localhost:8080/"
        },
        "id": "e9_ZQL4Wx3dh",
        "outputId": "c9873be5-866a-43dc-b027-f9605d569dfe"
      },
      "source": [
        "sample_outliers_a = detect_outliers_zscore(data['a'])\n",
        "sample_outliers_b = detect_outliers_zscore(data['b'])\n",
        "sample_outliers_c = detect_outliers_zscore(data['c'])\n",
        "sample_outliers_Q = detect_outliers_zscore(data['Q'])\n",
        "\n",
        "print(\"Outliers in a column from Z-scores method: \", sample_outliers_a)\n",
        "print(\"Outliers in b column from Z-scores method: \", sample_outliers_b)\n",
        "print(\"Outliers in c column from Z-scores method: \", sample_outliers_c)\n",
        "print(\"Outliers in e column from Z-scores method: \", sample_outliers_Q)"
      ],
      "execution_count": 16,
      "outputs": [
        {
          "output_type": "stream",
          "name": "stdout",
          "text": [
            "Outliers in a column from Z-scores method:  []\n",
            "Outliers in b column from Z-scores method:  []\n",
            "Outliers in c column from Z-scores method:  []\n",
            "Outliers in e column from Z-scores method:  []\n"
          ]
        }
      ]
    },
    {
      "cell_type": "markdown",
      "metadata": {
        "id": "wR3jkdDS56Gw"
      },
      "source": [
        "# Outlier Detection and Treatment"
      ]
    },
    {
      "cell_type": "code",
      "metadata": {
        "colab": {
          "base_uri": "https://localhost:8080/",
          "height": 267
        },
        "id": "r6C0w_mpybcP",
        "outputId": "4c29f8c8-f548-46b1-82d1-c992689137b5"
      },
      "source": [
        "from scipy.stats import zscore\n",
        "za = np.abs(zscore(data['a']))\n",
        "zb = np.abs(zscore(data['b']))\n",
        "zc = np.abs(zscore(data['c']))\n",
        "zQ = np.abs(zscore(data['Q']))\n",
        "\n",
        "data['Zscorea'] = za\n",
        "data['Zscoreb'] = zb\n",
        "data['Zscorec'] = zc\n",
        "data['ZscoreQ'] = zQ\n",
        "\n",
        "outliers_a=len(data[data['Zscorea']>3])\n",
        "outliers_b=len(data[data['Zscoreb']>3])\n",
        "outliers_c=len(data[data['Zscorec']>3])\n",
        "outliers_Q=len(data[data['ZscoreQ']>3])\n",
        "\n",
        "data_z = data[data['Zscorea']<3]\n",
        "data_z = data[data['Zscoreb']<3]\n",
        "data_z = data[data['Zscorec']<3]\n",
        "data_z = data[data['ZscoreQ']<3]\n",
        "\n",
        "data=data_z.drop(['Zscorea', 'Zscoreb','Zscorec', 'ZscoreQ'], axis=1)\n",
        "data"
      ],
      "execution_count": 17,
      "outputs": [
        {
          "output_type": "execute_result",
          "data": {
            "text/html": [
              "<div>\n",
              "<style scoped>\n",
              "    .dataframe tbody tr th:only-of-type {\n",
              "        vertical-align: middle;\n",
              "    }\n",
              "\n",
              "    .dataframe tbody tr th {\n",
              "        vertical-align: top;\n",
              "    }\n",
              "\n",
              "    .dataframe thead th {\n",
              "        text-align: right;\n",
              "    }\n",
              "</style>\n",
              "<table border=\"1\" class=\"dataframe\">\n",
              "  <thead>\n",
              "    <tr style=\"text-align: right;\">\n",
              "      <th></th>\n",
              "      <th>a</th>\n",
              "      <th>b</th>\n",
              "      <th>c</th>\n",
              "      <th>Q</th>\n",
              "    </tr>\n",
              "  </thead>\n",
              "  <tbody>\n",
              "    <tr>\n",
              "      <th>0</th>\n",
              "      <td>1</td>\n",
              "      <td>1</td>\n",
              "      <td>1</td>\n",
              "      <td>1</td>\n",
              "    </tr>\n",
              "    <tr>\n",
              "      <th>1</th>\n",
              "      <td>1</td>\n",
              "      <td>1</td>\n",
              "      <td>0</td>\n",
              "      <td>1</td>\n",
              "    </tr>\n",
              "    <tr>\n",
              "      <th>2</th>\n",
              "      <td>1</td>\n",
              "      <td>0</td>\n",
              "      <td>1</td>\n",
              "      <td>1</td>\n",
              "    </tr>\n",
              "    <tr>\n",
              "      <th>3</th>\n",
              "      <td>1</td>\n",
              "      <td>0</td>\n",
              "      <td>0</td>\n",
              "      <td>1</td>\n",
              "    </tr>\n",
              "    <tr>\n",
              "      <th>4</th>\n",
              "      <td>0</td>\n",
              "      <td>1</td>\n",
              "      <td>1</td>\n",
              "      <td>0</td>\n",
              "    </tr>\n",
              "    <tr>\n",
              "      <th>5</th>\n",
              "      <td>0</td>\n",
              "      <td>1</td>\n",
              "      <td>0</td>\n",
              "      <td>0</td>\n",
              "    </tr>\n",
              "    <tr>\n",
              "      <th>6</th>\n",
              "      <td>0</td>\n",
              "      <td>0</td>\n",
              "      <td>1</td>\n",
              "      <td>0</td>\n",
              "    </tr>\n",
              "  </tbody>\n",
              "</table>\n",
              "</div>"
            ],
            "text/plain": [
              "   a  b  c  Q\n",
              "0  1  1  1  1\n",
              "1  1  1  0  1\n",
              "2  1  0  1  1\n",
              "3  1  0  0  1\n",
              "4  0  1  1  0\n",
              "5  0  1  0  0\n",
              "6  0  0  1  0"
            ]
          },
          "metadata": {},
          "execution_count": 17
        }
      ]
    },
    {
      "cell_type": "markdown",
      "metadata": {
        "id": "EGeno6wH6DA5"
      },
      "source": [
        "# Missing Values Detection and Treatment"
      ]
    },
    {
      "cell_type": "code",
      "metadata": {
        "colab": {
          "base_uri": "https://localhost:8080/"
        },
        "id": "12EjJQLjzUOA",
        "outputId": "799fd497-943e-48b6-dc31-4caf7802ec6b"
      },
      "source": [
        "print(data.isnull().sum())"
      ],
      "execution_count": 18,
      "outputs": [
        {
          "output_type": "stream",
          "name": "stdout",
          "text": [
            "a    0\n",
            "b    0\n",
            "c    0\n",
            "Q    0\n",
            "dtype: int64\n"
          ]
        }
      ]
    },
    {
      "cell_type": "code",
      "metadata": {
        "colab": {
          "base_uri": "https://localhost:8080/",
          "height": 267
        },
        "id": "PyI4seyYzYf5",
        "outputId": "158d33b4-8617-4fa0-f84e-406448d19f04"
      },
      "source": [
        "m1=data['a'].mean()\n",
        "m2=data['b'].mean()\n",
        "m3=data['c'].mean()\n",
        "m5=data['Q'].mean()\n",
        "\n",
        "data['a'].fillna(value=m1, inplace=True)\n",
        "data['b'].fillna(value=m2, inplace=True)\n",
        "data['c'].fillna(value=m3, inplace=True)\n",
        "data['Q'].fillna(value=m5, inplace=True)\n",
        "\n",
        "data"
      ],
      "execution_count": 19,
      "outputs": [
        {
          "output_type": "execute_result",
          "data": {
            "text/html": [
              "<div>\n",
              "<style scoped>\n",
              "    .dataframe tbody tr th:only-of-type {\n",
              "        vertical-align: middle;\n",
              "    }\n",
              "\n",
              "    .dataframe tbody tr th {\n",
              "        vertical-align: top;\n",
              "    }\n",
              "\n",
              "    .dataframe thead th {\n",
              "        text-align: right;\n",
              "    }\n",
              "</style>\n",
              "<table border=\"1\" class=\"dataframe\">\n",
              "  <thead>\n",
              "    <tr style=\"text-align: right;\">\n",
              "      <th></th>\n",
              "      <th>a</th>\n",
              "      <th>b</th>\n",
              "      <th>c</th>\n",
              "      <th>Q</th>\n",
              "    </tr>\n",
              "  </thead>\n",
              "  <tbody>\n",
              "    <tr>\n",
              "      <th>0</th>\n",
              "      <td>1</td>\n",
              "      <td>1</td>\n",
              "      <td>1</td>\n",
              "      <td>1</td>\n",
              "    </tr>\n",
              "    <tr>\n",
              "      <th>1</th>\n",
              "      <td>1</td>\n",
              "      <td>1</td>\n",
              "      <td>0</td>\n",
              "      <td>1</td>\n",
              "    </tr>\n",
              "    <tr>\n",
              "      <th>2</th>\n",
              "      <td>1</td>\n",
              "      <td>0</td>\n",
              "      <td>1</td>\n",
              "      <td>1</td>\n",
              "    </tr>\n",
              "    <tr>\n",
              "      <th>3</th>\n",
              "      <td>1</td>\n",
              "      <td>0</td>\n",
              "      <td>0</td>\n",
              "      <td>1</td>\n",
              "    </tr>\n",
              "    <tr>\n",
              "      <th>4</th>\n",
              "      <td>0</td>\n",
              "      <td>1</td>\n",
              "      <td>1</td>\n",
              "      <td>0</td>\n",
              "    </tr>\n",
              "    <tr>\n",
              "      <th>5</th>\n",
              "      <td>0</td>\n",
              "      <td>1</td>\n",
              "      <td>0</td>\n",
              "      <td>0</td>\n",
              "    </tr>\n",
              "    <tr>\n",
              "      <th>6</th>\n",
              "      <td>0</td>\n",
              "      <td>0</td>\n",
              "      <td>1</td>\n",
              "      <td>0</td>\n",
              "    </tr>\n",
              "  </tbody>\n",
              "</table>\n",
              "</div>"
            ],
            "text/plain": [
              "   a  b  c  Q\n",
              "0  1  1  1  1\n",
              "1  1  1  0  1\n",
              "2  1  0  1  1\n",
              "3  1  0  0  1\n",
              "4  0  1  1  0\n",
              "5  0  1  0  0\n",
              "6  0  0  1  0"
            ]
          },
          "metadata": {},
          "execution_count": 19
        }
      ]
    },
    {
      "cell_type": "markdown",
      "metadata": {
        "id": "BVdpA-Hr6IpB"
      },
      "source": [
        "# Data Split"
      ]
    },
    {
      "cell_type": "code",
      "metadata": {
        "colab": {
          "base_uri": "https://localhost:8080/"
        },
        "id": "fk79FylPzq5w",
        "outputId": "8202eaa6-051c-4b65-d11e-becb4cccb0ef"
      },
      "source": [
        "from sklearn.model_selection import train_test_split\n",
        "dataframe = data.values\n",
        "X, y = dataframe[:, :-1], dataframe[:, -1]\n",
        "x_train, x_test, y_train, y_test = train_test_split(X, y, test_size = 0.20, random_state = 10)\n",
        "x_train"
      ],
      "execution_count": 20,
      "outputs": [
        {
          "output_type": "execute_result",
          "data": {
            "text/plain": [
              "array([[1, 1, 1],\n",
              "       [1, 0, 0],\n",
              "       [0, 1, 1],\n",
              "       [0, 1, 0],\n",
              "       [1, 1, 0]])"
            ]
          },
          "metadata": {},
          "execution_count": 20
        }
      ]
    },
    {
      "cell_type": "markdown",
      "metadata": {
        "id": "0sqH7Shc6LRi"
      },
      "source": [
        "#Initialization"
      ]
    },
    {
      "cell_type": "code",
      "metadata": {
        "id": "qwFfsoACzwZQ"
      },
      "source": [
        "w1=random.uniform(-10,10)\n",
        "w2=random.uniform(-10,10)\n",
        "w3=random.uniform(-10,10)\n",
        "bias=random.uniform(-10,10)\n",
        "eta=0.01\n",
        "max_iter=100000"
      ],
      "execution_count": 23,
      "outputs": []
    },
    {
      "cell_type": "markdown",
      "metadata": {
        "id": "B5pWl3de6Or6"
      },
      "source": [
        "# Model Training Using Stochastic Gradient Descent Algorithm"
      ]
    },
    {
      "cell_type": "code",
      "metadata": {
        "colab": {
          "base_uri": "https://localhost:8080/"
        },
        "id": "_vuluHsE0CSZ",
        "outputId": "520ab9c7-c610-46f9-8115-f45874a8ad96"
      },
      "source": [
        "for iter in range(max_iter):\n",
        "  for sample in range(x_train.shape[0]):\n",
        "    net=w1*x_train[sample,0]+w2*x_train[sample,1]+w3*x_train[sample,2]+bias\n",
        "    p=1/(1+mt.exp(-net))\n",
        "    w1=w1-eta*x_train[sample,0]*(p-y_train[sample])\n",
        "    w2=w2-eta*x_train[sample,1]*(p-y_train[sample])\n",
        "    w3=w3-eta*x_train[sample,2]*(p-y_train[sample])\n",
        "    bias=bias-eta*(p-y_train[sample])\n",
        "print('model parameter w1,w2,w3 and bias',w1,w2,w3,bias)"
      ],
      "execution_count": 24,
      "outputs": [
        {
          "output_type": "stream",
          "name": "stdout",
          "text": [
            "model parameter w1,w2,w3 and bias 13.621543588888066 -3.663289138540288 -0.2423574981450892 -2.91041145243134\n"
          ]
        }
      ]
    },
    {
      "cell_type": "markdown",
      "metadata": {
        "id": "2qcxELZK6V3D"
      },
      "source": [
        "# Prediction on training data"
      ]
    },
    {
      "cell_type": "code",
      "metadata": {
        "id": "FOOx84uY3Iwh"
      },
      "source": [
        "y_pred_train = []\n",
        "for sample in range(x_train.shape[0]):\n",
        "  x1=x_train[sample,0]\n",
        "  x2=x_train[sample,1]\n",
        "  x3=x_train[sample,1]\n",
        "  y=y_train[sample]\n",
        "  net=w1*x_train[sample,0]+w2*x_train[sample,1]+w3*x_train[sample,2]+bias\n",
        "  y_p_tr = np.round(1/(1+mt.exp(-net)))\n",
        "  y_pred_train.append(y_p_tr)\n",
        "y_pred_train = np.array(y_pred_train)"
      ],
      "execution_count": 26,
      "outputs": []
    },
    {
      "cell_type": "markdown",
      "metadata": {
        "id": "sfEe8LHZ6ZAC"
      },
      "source": [
        "# Prediction on testing data"
      ]
    },
    {
      "cell_type": "code",
      "metadata": {
        "id": "rOHRFU2M3vBZ"
      },
      "source": [
        "y_pred_test = []\n",
        "for sample in range(x_test.shape[0]):\n",
        "  x1=x_test[sample,0]\n",
        "  x2=x_test[sample,1]\n",
        "  x3=x_test[sample,1]\n",
        "  y=y_test[sample]\n",
        "  net=w1*x_test[sample,0]+w2*x_test[sample,1]+w3*x_test[sample,2]+bias\n",
        "  y_p_te = np.round(1/(1+mt.exp(-net)))\n",
        "  y_pred_test.append(y_p_te)\n",
        "y_pred_test = np.array(y_pred_test)"
      ],
      "execution_count": 30,
      "outputs": []
    },
    {
      "cell_type": "markdown",
      "metadata": {
        "id": "udAs_8US6cvR"
      },
      "source": [
        "# Accuracy of the model"
      ]
    },
    {
      "cell_type": "code",
      "metadata": {
        "colab": {
          "base_uri": "https://localhost:8080/"
        },
        "id": "S8Q3ddPM4GiA",
        "outputId": "dd5002fd-137f-4a91-e25b-9b4b749cffd5"
      },
      "source": [
        "from sklearn.metrics import accuracy_score\n",
        "train_accuracy=accuracy_score(y_train, y_pred_train)\n",
        "train_accuracy"
      ],
      "execution_count": 34,
      "outputs": [
        {
          "output_type": "execute_result",
          "data": {
            "text/plain": [
              "1.0"
            ]
          },
          "metadata": {},
          "execution_count": 34
        }
      ]
    },
    {
      "cell_type": "code",
      "metadata": {
        "colab": {
          "base_uri": "https://localhost:8080/"
        },
        "id": "nK_botYL4pHY",
        "outputId": "0432df77-7351-4163-8fae-cc81b23d5118"
      },
      "source": [
        "test_accuracy=accuracy_score(y_test, y_pred_test)\n",
        "test_accuracy"
      ],
      "execution_count": 37,
      "outputs": [
        {
          "output_type": "execute_result",
          "data": {
            "text/plain": [
              "1.0"
            ]
          },
          "metadata": {},
          "execution_count": 37
        }
      ]
    },
    {
      "cell_type": "markdown",
      "metadata": {
        "id": "aDYa9gm16jl6"
      },
      "source": [
        "#Confusion Matrix"
      ]
    },
    {
      "cell_type": "code",
      "metadata": {
        "colab": {
          "base_uri": "https://localhost:8080/"
        },
        "id": "9MJ0Kmuj4tXH",
        "outputId": "3db37132-6383-4b3b-ce40-c4f3696544e8"
      },
      "source": [
        "from sklearn.metrics import confusion_matrix\n",
        "confusion_matrix(y_test, y_pred_test)"
      ],
      "execution_count": 38,
      "outputs": [
        {
          "output_type": "execute_result",
          "data": {
            "text/plain": [
              "array([[1, 0],\n",
              "       [0, 1]])"
            ]
          },
          "metadata": {},
          "execution_count": 38
        }
      ]
    },
    {
      "cell_type": "markdown",
      "metadata": {
        "id": "sEC2_F6i6wpK"
      },
      "source": [
        "#Deployment"
      ]
    },
    {
      "cell_type": "code",
      "metadata": {
        "colab": {
          "base_uri": "https://localhost:8080/"
        },
        "id": "jAIi4C486yZJ",
        "outputId": "0f392eec-3e4e-48a6-df1a-f6e8bd4e81c6"
      },
      "source": [
        "X1=input('enter coefficient of square term')\n",
        "X2=input('enter coefficient of x term')\n",
        "X3=input('enter constant')\n",
        "print('X1=',X1)\n",
        "print('X2=',X2)\n",
        "Y=w1*float(X1)+w2*float(X2)+float(X3)\n",
        "p=np.round(1/(1+mt.exp(-Y)))\n",
        "if(p==1):\n",
        "  print('It is a quadratic equation')\n",
        "if(p==0):\n",
        "  print('It is a not quadratic equation')\n"
      ],
      "execution_count": 42,
      "outputs": [
        {
          "output_type": "stream",
          "name": "stdout",
          "text": [
            "enter coefficient of square term0\n",
            "enter coefficient of x term1\n",
            "enter constant1\n",
            "X1= 0\n",
            "X2= 1\n",
            "It is a not quadratic equation\n"
          ]
        }
      ]
    },
    {
      "cell_type": "markdown",
      "metadata": {
        "id": "cAjB8Rq85kFh"
      },
      "source": [
        "## Thank you"
      ]
    }
  ]
}
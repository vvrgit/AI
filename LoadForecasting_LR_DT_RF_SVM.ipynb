{
  "nbformat": 4,
  "nbformat_minor": 0,
  "metadata": {
    "colab": {
      "provenance": [],
      "mount_file_id": "1zpT9vETTS6lR7QsNg-Mv3eK4NKNu1Six",
      "authorship_tag": "ABX9TyMl6HFco6NI47IVX/2IlVdf",
      "include_colab_link": true
    },
    "kernelspec": {
      "name": "python3",
      "display_name": "Python 3"
    },
    "language_info": {
      "name": "python"
    }
  },
  "cells": [
    {
      "cell_type": "markdown",
      "metadata": {
        "id": "view-in-github",
        "colab_type": "text"
      },
      "source": [
        "<a href=\"https://colab.research.google.com/github/vvrgit/AI/blob/main/LoadForecasting_LR_DT_RF_SVM.ipynb\" target=\"_parent\"><img src=\"https://colab.research.google.com/assets/colab-badge.svg\" alt=\"Open In Colab\"/></a>"
      ]
    },
    {
      "cell_type": "code",
      "execution_count": null,
      "metadata": {
        "colab": {
          "base_uri": "https://localhost:8080/"
        },
        "id": "isXA8IwykIn6",
        "outputId": "0777bb08-ce2e-41e6-b1ee-a11977e6a97b"
      },
      "outputs": [
        {
          "output_type": "stream",
          "name": "stdout",
          "text": [
            "Drive already mounted at /content/drive; to attempt to forcibly remount, call drive.mount(\"/content/drive\", force_remount=True).\n"
          ]
        }
      ],
      "source": [
        "from google.colab import drive\n",
        "drive.mount('/content/drive')"
      ]
    },
    {
      "cell_type": "code",
      "source": [
        "import numpy as np\n",
        "import matplotlib.pyplot as plt\n",
        "import keras  #Keras is the deep learning library that helps you to code Deep Neural Networks with fewer lines of code\n",
        "#from keras.datasets import mnist\n",
        "from keras.models import Sequential\n",
        "from keras.layers import Dense\n",
        "from tensorflow.keras.optimizers import RMSprop,Adadelta,SGD,Adagrad,Adam\n",
        "#import pylab as plt\n",
        "#import seaborn as sns #For data visualization\n",
        "import pandas as pd # For Data manipulation"
      ],
      "metadata": {
        "id": "RMzaNQvIleU7"
      },
      "execution_count": null,
      "outputs": []
    },
    {
      "cell_type": "code",
      "source": [
        "load_data=pd.read_excel(\"/content/drive/MyDrive/Load.xlsx\")\n",
        "load_data.head()\n",
        "min_load=load_data.min()\n",
        "print(min_load)\n",
        "max_load=load_data.max()\n",
        "print(max_load)"
      ],
      "metadata": {
        "colab": {
          "base_uri": "https://localhost:8080/"
        },
        "id": "OLBj3FBKlL0j",
        "outputId": "1a6bf551-c3ba-4874-d518-051116e73131"
      },
      "execution_count": null,
      "outputs": [
        {
          "output_type": "stream",
          "name": "stdout",
          "text": [
            "L(T-1)     1229.18\n",
            "L(T-2)     1229.18\n",
            "L(T-24)    1229.18\n",
            "L(T-48)    1229.18\n",
            "P(T-1)      598.75\n",
            "P(T-2)      598.75\n",
            "P(T-24)     598.75\n",
            "P(T-48)     598.75\n",
            "Day           0.00\n",
            "Season        0.00\n",
            "L(T)       1229.18\n",
            "dtype: float64\n",
            "L(T-1)     15096.73\n",
            "L(T-2)     15096.73\n",
            "L(T-24)    15096.73\n",
            "L(T-48)    15096.73\n",
            "P(T-1)     20000.00\n",
            "P(T-2)     20000.00\n",
            "P(T-24)    20000.00\n",
            "P(T-48)    20000.00\n",
            "Day            1.00\n",
            "Season         2.00\n",
            "L(T)       15096.73\n",
            "dtype: float64\n"
          ]
        }
      ]
    },
    {
      "cell_type": "code",
      "source": [
        "load_data.head()"
      ],
      "metadata": {
        "colab": {
          "base_uri": "https://localhost:8080/",
          "height": 206
        },
        "id": "w70kYfnFl48k",
        "outputId": "b6df01f6-4983-4b56-988a-0ac2c77ea2f9"
      },
      "execution_count": null,
      "outputs": [
        {
          "output_type": "execute_result",
          "data": {
            "text/plain": [
              "    L(T-1)   L(T-2)  L(T-24)  L(T-48)   P(T-1)   P(T-2)  P(T-24)  P(T-48)  \\\n",
              "0  4851.90  4309.93  5257.03  4574.50  2313.77  2333.89  2328.34  2285.62   \n",
              "1  5604.93  4851.90  5527.90  5217.88  2005.82  2313.77  2143.30  2097.21   \n",
              "2  6012.75  5604.93  5820.83  5314.53  1886.45  2005.82  2024.52  2008.19   \n",
              "3  6163.53  6012.75  5910.98  5471.73  1810.42  1886.45  1942.67  2008.32   \n",
              "4  6310.30  6163.53  6189.18  5974.50  1805.42  1810.42  2071.41  2038.73   \n",
              "\n",
              "   Day  Season     L(T)  \n",
              "0    1       2  5604.93  \n",
              "1    1       2  6012.75  \n",
              "2    1       2  6163.53  \n",
              "3    1       2  6310.30  \n",
              "4    1       2  6606.13  "
            ],
            "text/html": [
              "\n",
              "  <div id=\"df-9f4947c7-6b38-467a-9ec2-3851045e4dd6\" class=\"colab-df-container\">\n",
              "    <div>\n",
              "<style scoped>\n",
              "    .dataframe tbody tr th:only-of-type {\n",
              "        vertical-align: middle;\n",
              "    }\n",
              "\n",
              "    .dataframe tbody tr th {\n",
              "        vertical-align: top;\n",
              "    }\n",
              "\n",
              "    .dataframe thead th {\n",
              "        text-align: right;\n",
              "    }\n",
              "</style>\n",
              "<table border=\"1\" class=\"dataframe\">\n",
              "  <thead>\n",
              "    <tr style=\"text-align: right;\">\n",
              "      <th></th>\n",
              "      <th>L(T-1)</th>\n",
              "      <th>L(T-2)</th>\n",
              "      <th>L(T-24)</th>\n",
              "      <th>L(T-48)</th>\n",
              "      <th>P(T-1)</th>\n",
              "      <th>P(T-2)</th>\n",
              "      <th>P(T-24)</th>\n",
              "      <th>P(T-48)</th>\n",
              "      <th>Day</th>\n",
              "      <th>Season</th>\n",
              "      <th>L(T)</th>\n",
              "    </tr>\n",
              "  </thead>\n",
              "  <tbody>\n",
              "    <tr>\n",
              "      <th>0</th>\n",
              "      <td>4851.90</td>\n",
              "      <td>4309.93</td>\n",
              "      <td>5257.03</td>\n",
              "      <td>4574.50</td>\n",
              "      <td>2313.77</td>\n",
              "      <td>2333.89</td>\n",
              "      <td>2328.34</td>\n",
              "      <td>2285.62</td>\n",
              "      <td>1</td>\n",
              "      <td>2</td>\n",
              "      <td>5604.93</td>\n",
              "    </tr>\n",
              "    <tr>\n",
              "      <th>1</th>\n",
              "      <td>5604.93</td>\n",
              "      <td>4851.90</td>\n",
              "      <td>5527.90</td>\n",
              "      <td>5217.88</td>\n",
              "      <td>2005.82</td>\n",
              "      <td>2313.77</td>\n",
              "      <td>2143.30</td>\n",
              "      <td>2097.21</td>\n",
              "      <td>1</td>\n",
              "      <td>2</td>\n",
              "      <td>6012.75</td>\n",
              "    </tr>\n",
              "    <tr>\n",
              "      <th>2</th>\n",
              "      <td>6012.75</td>\n",
              "      <td>5604.93</td>\n",
              "      <td>5820.83</td>\n",
              "      <td>5314.53</td>\n",
              "      <td>1886.45</td>\n",
              "      <td>2005.82</td>\n",
              "      <td>2024.52</td>\n",
              "      <td>2008.19</td>\n",
              "      <td>1</td>\n",
              "      <td>2</td>\n",
              "      <td>6163.53</td>\n",
              "    </tr>\n",
              "    <tr>\n",
              "      <th>3</th>\n",
              "      <td>6163.53</td>\n",
              "      <td>6012.75</td>\n",
              "      <td>5910.98</td>\n",
              "      <td>5471.73</td>\n",
              "      <td>1810.42</td>\n",
              "      <td>1886.45</td>\n",
              "      <td>1942.67</td>\n",
              "      <td>2008.32</td>\n",
              "      <td>1</td>\n",
              "      <td>2</td>\n",
              "      <td>6310.30</td>\n",
              "    </tr>\n",
              "    <tr>\n",
              "      <th>4</th>\n",
              "      <td>6310.30</td>\n",
              "      <td>6163.53</td>\n",
              "      <td>6189.18</td>\n",
              "      <td>5974.50</td>\n",
              "      <td>1805.42</td>\n",
              "      <td>1810.42</td>\n",
              "      <td>2071.41</td>\n",
              "      <td>2038.73</td>\n",
              "      <td>1</td>\n",
              "      <td>2</td>\n",
              "      <td>6606.13</td>\n",
              "    </tr>\n",
              "  </tbody>\n",
              "</table>\n",
              "</div>\n",
              "    <div class=\"colab-df-buttons\">\n",
              "\n",
              "  <div class=\"colab-df-container\">\n",
              "    <button class=\"colab-df-convert\" onclick=\"convertToInteractive('df-9f4947c7-6b38-467a-9ec2-3851045e4dd6')\"\n",
              "            title=\"Convert this dataframe to an interactive table.\"\n",
              "            style=\"display:none;\">\n",
              "\n",
              "  <svg xmlns=\"http://www.w3.org/2000/svg\" height=\"24px\" viewBox=\"0 -960 960 960\">\n",
              "    <path d=\"M120-120v-720h720v720H120Zm60-500h600v-160H180v160Zm220 220h160v-160H400v160Zm0 220h160v-160H400v160ZM180-400h160v-160H180v160Zm440 0h160v-160H620v160ZM180-180h160v-160H180v160Zm440 0h160v-160H620v160Z\"/>\n",
              "  </svg>\n",
              "    </button>\n",
              "\n",
              "  <style>\n",
              "    .colab-df-container {\n",
              "      display:flex;\n",
              "      gap: 12px;\n",
              "    }\n",
              "\n",
              "    .colab-df-convert {\n",
              "      background-color: #E8F0FE;\n",
              "      border: none;\n",
              "      border-radius: 50%;\n",
              "      cursor: pointer;\n",
              "      display: none;\n",
              "      fill: #1967D2;\n",
              "      height: 32px;\n",
              "      padding: 0 0 0 0;\n",
              "      width: 32px;\n",
              "    }\n",
              "\n",
              "    .colab-df-convert:hover {\n",
              "      background-color: #E2EBFA;\n",
              "      box-shadow: 0px 1px 2px rgba(60, 64, 67, 0.3), 0px 1px 3px 1px rgba(60, 64, 67, 0.15);\n",
              "      fill: #174EA6;\n",
              "    }\n",
              "\n",
              "    .colab-df-buttons div {\n",
              "      margin-bottom: 4px;\n",
              "    }\n",
              "\n",
              "    [theme=dark] .colab-df-convert {\n",
              "      background-color: #3B4455;\n",
              "      fill: #D2E3FC;\n",
              "    }\n",
              "\n",
              "    [theme=dark] .colab-df-convert:hover {\n",
              "      background-color: #434B5C;\n",
              "      box-shadow: 0px 1px 3px 1px rgba(0, 0, 0, 0.15);\n",
              "      filter: drop-shadow(0px 1px 2px rgba(0, 0, 0, 0.3));\n",
              "      fill: #FFFFFF;\n",
              "    }\n",
              "  </style>\n",
              "\n",
              "    <script>\n",
              "      const buttonEl =\n",
              "        document.querySelector('#df-9f4947c7-6b38-467a-9ec2-3851045e4dd6 button.colab-df-convert');\n",
              "      buttonEl.style.display =\n",
              "        google.colab.kernel.accessAllowed ? 'block' : 'none';\n",
              "\n",
              "      async function convertToInteractive(key) {\n",
              "        const element = document.querySelector('#df-9f4947c7-6b38-467a-9ec2-3851045e4dd6');\n",
              "        const dataTable =\n",
              "          await google.colab.kernel.invokeFunction('convertToInteractive',\n",
              "                                                    [key], {});\n",
              "        if (!dataTable) return;\n",
              "\n",
              "        const docLinkHtml = 'Like what you see? Visit the ' +\n",
              "          '<a target=\"_blank\" href=https://colab.research.google.com/notebooks/data_table.ipynb>data table notebook</a>'\n",
              "          + ' to learn more about interactive tables.';\n",
              "        element.innerHTML = '';\n",
              "        dataTable['output_type'] = 'display_data';\n",
              "        await google.colab.output.renderOutput(dataTable, element);\n",
              "        const docLink = document.createElement('div');\n",
              "        docLink.innerHTML = docLinkHtml;\n",
              "        element.appendChild(docLink);\n",
              "      }\n",
              "    </script>\n",
              "  </div>\n",
              "\n",
              "\n",
              "<div id=\"df-5b57209d-37ae-4164-9359-9d13f2932c36\">\n",
              "  <button class=\"colab-df-quickchart\" onclick=\"quickchart('df-5b57209d-37ae-4164-9359-9d13f2932c36')\"\n",
              "            title=\"Suggest charts.\"\n",
              "            style=\"display:none;\">\n",
              "\n",
              "<svg xmlns=\"http://www.w3.org/2000/svg\" height=\"24px\"viewBox=\"0 0 24 24\"\n",
              "     width=\"24px\">\n",
              "    <g>\n",
              "        <path d=\"M19 3H5c-1.1 0-2 .9-2 2v14c0 1.1.9 2 2 2h14c1.1 0 2-.9 2-2V5c0-1.1-.9-2-2-2zM9 17H7v-7h2v7zm4 0h-2V7h2v10zm4 0h-2v-4h2v4z\"/>\n",
              "    </g>\n",
              "</svg>\n",
              "  </button>\n",
              "\n",
              "<style>\n",
              "  .colab-df-quickchart {\n",
              "      --bg-color: #E8F0FE;\n",
              "      --fill-color: #1967D2;\n",
              "      --hover-bg-color: #E2EBFA;\n",
              "      --hover-fill-color: #174EA6;\n",
              "      --disabled-fill-color: #AAA;\n",
              "      --disabled-bg-color: #DDD;\n",
              "  }\n",
              "\n",
              "  [theme=dark] .colab-df-quickchart {\n",
              "      --bg-color: #3B4455;\n",
              "      --fill-color: #D2E3FC;\n",
              "      --hover-bg-color: #434B5C;\n",
              "      --hover-fill-color: #FFFFFF;\n",
              "      --disabled-bg-color: #3B4455;\n",
              "      --disabled-fill-color: #666;\n",
              "  }\n",
              "\n",
              "  .colab-df-quickchart {\n",
              "    background-color: var(--bg-color);\n",
              "    border: none;\n",
              "    border-radius: 50%;\n",
              "    cursor: pointer;\n",
              "    display: none;\n",
              "    fill: var(--fill-color);\n",
              "    height: 32px;\n",
              "    padding: 0;\n",
              "    width: 32px;\n",
              "  }\n",
              "\n",
              "  .colab-df-quickchart:hover {\n",
              "    background-color: var(--hover-bg-color);\n",
              "    box-shadow: 0 1px 2px rgba(60, 64, 67, 0.3), 0 1px 3px 1px rgba(60, 64, 67, 0.15);\n",
              "    fill: var(--button-hover-fill-color);\n",
              "  }\n",
              "\n",
              "  .colab-df-quickchart-complete:disabled,\n",
              "  .colab-df-quickchart-complete:disabled:hover {\n",
              "    background-color: var(--disabled-bg-color);\n",
              "    fill: var(--disabled-fill-color);\n",
              "    box-shadow: none;\n",
              "  }\n",
              "\n",
              "  .colab-df-spinner {\n",
              "    border: 2px solid var(--fill-color);\n",
              "    border-color: transparent;\n",
              "    border-bottom-color: var(--fill-color);\n",
              "    animation:\n",
              "      spin 1s steps(1) infinite;\n",
              "  }\n",
              "\n",
              "  @keyframes spin {\n",
              "    0% {\n",
              "      border-color: transparent;\n",
              "      border-bottom-color: var(--fill-color);\n",
              "      border-left-color: var(--fill-color);\n",
              "    }\n",
              "    20% {\n",
              "      border-color: transparent;\n",
              "      border-left-color: var(--fill-color);\n",
              "      border-top-color: var(--fill-color);\n",
              "    }\n",
              "    30% {\n",
              "      border-color: transparent;\n",
              "      border-left-color: var(--fill-color);\n",
              "      border-top-color: var(--fill-color);\n",
              "      border-right-color: var(--fill-color);\n",
              "    }\n",
              "    40% {\n",
              "      border-color: transparent;\n",
              "      border-right-color: var(--fill-color);\n",
              "      border-top-color: var(--fill-color);\n",
              "    }\n",
              "    60% {\n",
              "      border-color: transparent;\n",
              "      border-right-color: var(--fill-color);\n",
              "    }\n",
              "    80% {\n",
              "      border-color: transparent;\n",
              "      border-right-color: var(--fill-color);\n",
              "      border-bottom-color: var(--fill-color);\n",
              "    }\n",
              "    90% {\n",
              "      border-color: transparent;\n",
              "      border-bottom-color: var(--fill-color);\n",
              "    }\n",
              "  }\n",
              "</style>\n",
              "\n",
              "  <script>\n",
              "    async function quickchart(key) {\n",
              "      const quickchartButtonEl =\n",
              "        document.querySelector('#' + key + ' button');\n",
              "      quickchartButtonEl.disabled = true;  // To prevent multiple clicks.\n",
              "      quickchartButtonEl.classList.add('colab-df-spinner');\n",
              "      try {\n",
              "        const charts = await google.colab.kernel.invokeFunction(\n",
              "            'suggestCharts', [key], {});\n",
              "      } catch (error) {\n",
              "        console.error('Error during call to suggestCharts:', error);\n",
              "      }\n",
              "      quickchartButtonEl.classList.remove('colab-df-spinner');\n",
              "      quickchartButtonEl.classList.add('colab-df-quickchart-complete');\n",
              "    }\n",
              "    (() => {\n",
              "      let quickchartButtonEl =\n",
              "        document.querySelector('#df-5b57209d-37ae-4164-9359-9d13f2932c36 button');\n",
              "      quickchartButtonEl.style.display =\n",
              "        google.colab.kernel.accessAllowed ? 'block' : 'none';\n",
              "    })();\n",
              "  </script>\n",
              "</div>\n",
              "    </div>\n",
              "  </div>\n"
            ]
          },
          "metadata": {},
          "execution_count": 28
        }
      ]
    },
    {
      "cell_type": "code",
      "source": [
        "print(load_data.shape) # details about number of samples and features\n",
        "load_data.describe()"
      ],
      "metadata": {
        "colab": {
          "base_uri": "https://localhost:8080/",
          "height": 337
        },
        "id": "2S2swm5Hl9x_",
        "outputId": "a07349b7-a7fe-4244-823a-0a95326c5d4e"
      },
      "execution_count": null,
      "outputs": [
        {
          "output_type": "stream",
          "name": "stdout",
          "text": [
            "(23304, 11)\n"
          ]
        },
        {
          "output_type": "execute_result",
          "data": {
            "text/plain": [
              "             L(T-1)        L(T-2)       L(T-24)       L(T-48)        P(T-1)  \\\n",
              "count  23304.000000  23304.000000  23304.000000  23304.000000  23304.000000   \n",
              "mean    6599.603310   6599.702593   6603.358441   6605.967243   5059.075687   \n",
              "std     2012.373466   2012.203412   2011.188930   2010.564244   3135.934965   \n",
              "min     1229.180000   1229.180000   1229.180000   1229.180000    598.750000   \n",
              "25%     5134.032500   5134.032500   5137.087500   5139.557500   2995.015000   \n",
              "50%     6355.980000   6355.980000   6359.210000   6362.490000   3879.070000   \n",
              "75%     7883.382500   7883.382500   7888.057500   7890.882500   6000.290000   \n",
              "max    15096.730000  15096.730000  15096.730000  15096.730000  20000.000000   \n",
              "\n",
              "             P(T-2)       P(T-24)       P(T-48)           Day        Season  \\\n",
              "count  23304.000000  23304.000000  23304.000000  23304.000000  23304.000000   \n",
              "mean    5058.746726   5053.714292   5048.181380      0.143194      0.988671   \n",
              "std     3135.818725   3133.813298   3131.785046      0.350278      0.789283   \n",
              "min      598.750000    598.750000    598.750000      0.000000      0.000000   \n",
              "25%     2994.965000   2994.637500   2993.872500      0.000000      0.000000   \n",
              "50%     3878.760000   3875.995000   3872.970000      0.000000      1.000000   \n",
              "75%     6000.282500   5999.212500   5990.867500      0.000000      2.000000   \n",
              "max    20000.000000  20000.000000  20000.000000      1.000000      2.000000   \n",
              "\n",
              "               L(T)  \n",
              "count  23304.000000  \n",
              "mean    6599.482203  \n",
              "std     2012.563564  \n",
              "min     1229.180000  \n",
              "25%     5134.032500  \n",
              "50%     6355.980000  \n",
              "75%     7883.382500  \n",
              "max    15096.730000  "
            ],
            "text/html": [
              "\n",
              "  <div id=\"df-68505aa5-633a-493f-bd0e-6f283b130688\" class=\"colab-df-container\">\n",
              "    <div>\n",
              "<style scoped>\n",
              "    .dataframe tbody tr th:only-of-type {\n",
              "        vertical-align: middle;\n",
              "    }\n",
              "\n",
              "    .dataframe tbody tr th {\n",
              "        vertical-align: top;\n",
              "    }\n",
              "\n",
              "    .dataframe thead th {\n",
              "        text-align: right;\n",
              "    }\n",
              "</style>\n",
              "<table border=\"1\" class=\"dataframe\">\n",
              "  <thead>\n",
              "    <tr style=\"text-align: right;\">\n",
              "      <th></th>\n",
              "      <th>L(T-1)</th>\n",
              "      <th>L(T-2)</th>\n",
              "      <th>L(T-24)</th>\n",
              "      <th>L(T-48)</th>\n",
              "      <th>P(T-1)</th>\n",
              "      <th>P(T-2)</th>\n",
              "      <th>P(T-24)</th>\n",
              "      <th>P(T-48)</th>\n",
              "      <th>Day</th>\n",
              "      <th>Season</th>\n",
              "      <th>L(T)</th>\n",
              "    </tr>\n",
              "  </thead>\n",
              "  <tbody>\n",
              "    <tr>\n",
              "      <th>count</th>\n",
              "      <td>23304.000000</td>\n",
              "      <td>23304.000000</td>\n",
              "      <td>23304.000000</td>\n",
              "      <td>23304.000000</td>\n",
              "      <td>23304.000000</td>\n",
              "      <td>23304.000000</td>\n",
              "      <td>23304.000000</td>\n",
              "      <td>23304.000000</td>\n",
              "      <td>23304.000000</td>\n",
              "      <td>23304.000000</td>\n",
              "      <td>23304.000000</td>\n",
              "    </tr>\n",
              "    <tr>\n",
              "      <th>mean</th>\n",
              "      <td>6599.603310</td>\n",
              "      <td>6599.702593</td>\n",
              "      <td>6603.358441</td>\n",
              "      <td>6605.967243</td>\n",
              "      <td>5059.075687</td>\n",
              "      <td>5058.746726</td>\n",
              "      <td>5053.714292</td>\n",
              "      <td>5048.181380</td>\n",
              "      <td>0.143194</td>\n",
              "      <td>0.988671</td>\n",
              "      <td>6599.482203</td>\n",
              "    </tr>\n",
              "    <tr>\n",
              "      <th>std</th>\n",
              "      <td>2012.373466</td>\n",
              "      <td>2012.203412</td>\n",
              "      <td>2011.188930</td>\n",
              "      <td>2010.564244</td>\n",
              "      <td>3135.934965</td>\n",
              "      <td>3135.818725</td>\n",
              "      <td>3133.813298</td>\n",
              "      <td>3131.785046</td>\n",
              "      <td>0.350278</td>\n",
              "      <td>0.789283</td>\n",
              "      <td>2012.563564</td>\n",
              "    </tr>\n",
              "    <tr>\n",
              "      <th>min</th>\n",
              "      <td>1229.180000</td>\n",
              "      <td>1229.180000</td>\n",
              "      <td>1229.180000</td>\n",
              "      <td>1229.180000</td>\n",
              "      <td>598.750000</td>\n",
              "      <td>598.750000</td>\n",
              "      <td>598.750000</td>\n",
              "      <td>598.750000</td>\n",
              "      <td>0.000000</td>\n",
              "      <td>0.000000</td>\n",
              "      <td>1229.180000</td>\n",
              "    </tr>\n",
              "    <tr>\n",
              "      <th>25%</th>\n",
              "      <td>5134.032500</td>\n",
              "      <td>5134.032500</td>\n",
              "      <td>5137.087500</td>\n",
              "      <td>5139.557500</td>\n",
              "      <td>2995.015000</td>\n",
              "      <td>2994.965000</td>\n",
              "      <td>2994.637500</td>\n",
              "      <td>2993.872500</td>\n",
              "      <td>0.000000</td>\n",
              "      <td>0.000000</td>\n",
              "      <td>5134.032500</td>\n",
              "    </tr>\n",
              "    <tr>\n",
              "      <th>50%</th>\n",
              "      <td>6355.980000</td>\n",
              "      <td>6355.980000</td>\n",
              "      <td>6359.210000</td>\n",
              "      <td>6362.490000</td>\n",
              "      <td>3879.070000</td>\n",
              "      <td>3878.760000</td>\n",
              "      <td>3875.995000</td>\n",
              "      <td>3872.970000</td>\n",
              "      <td>0.000000</td>\n",
              "      <td>1.000000</td>\n",
              "      <td>6355.980000</td>\n",
              "    </tr>\n",
              "    <tr>\n",
              "      <th>75%</th>\n",
              "      <td>7883.382500</td>\n",
              "      <td>7883.382500</td>\n",
              "      <td>7888.057500</td>\n",
              "      <td>7890.882500</td>\n",
              "      <td>6000.290000</td>\n",
              "      <td>6000.282500</td>\n",
              "      <td>5999.212500</td>\n",
              "      <td>5990.867500</td>\n",
              "      <td>0.000000</td>\n",
              "      <td>2.000000</td>\n",
              "      <td>7883.382500</td>\n",
              "    </tr>\n",
              "    <tr>\n",
              "      <th>max</th>\n",
              "      <td>15096.730000</td>\n",
              "      <td>15096.730000</td>\n",
              "      <td>15096.730000</td>\n",
              "      <td>15096.730000</td>\n",
              "      <td>20000.000000</td>\n",
              "      <td>20000.000000</td>\n",
              "      <td>20000.000000</td>\n",
              "      <td>20000.000000</td>\n",
              "      <td>1.000000</td>\n",
              "      <td>2.000000</td>\n",
              "      <td>15096.730000</td>\n",
              "    </tr>\n",
              "  </tbody>\n",
              "</table>\n",
              "</div>\n",
              "    <div class=\"colab-df-buttons\">\n",
              "\n",
              "  <div class=\"colab-df-container\">\n",
              "    <button class=\"colab-df-convert\" onclick=\"convertToInteractive('df-68505aa5-633a-493f-bd0e-6f283b130688')\"\n",
              "            title=\"Convert this dataframe to an interactive table.\"\n",
              "            style=\"display:none;\">\n",
              "\n",
              "  <svg xmlns=\"http://www.w3.org/2000/svg\" height=\"24px\" viewBox=\"0 -960 960 960\">\n",
              "    <path d=\"M120-120v-720h720v720H120Zm60-500h600v-160H180v160Zm220 220h160v-160H400v160Zm0 220h160v-160H400v160ZM180-400h160v-160H180v160Zm440 0h160v-160H620v160ZM180-180h160v-160H180v160Zm440 0h160v-160H620v160Z\"/>\n",
              "  </svg>\n",
              "    </button>\n",
              "\n",
              "  <style>\n",
              "    .colab-df-container {\n",
              "      display:flex;\n",
              "      gap: 12px;\n",
              "    }\n",
              "\n",
              "    .colab-df-convert {\n",
              "      background-color: #E8F0FE;\n",
              "      border: none;\n",
              "      border-radius: 50%;\n",
              "      cursor: pointer;\n",
              "      display: none;\n",
              "      fill: #1967D2;\n",
              "      height: 32px;\n",
              "      padding: 0 0 0 0;\n",
              "      width: 32px;\n",
              "    }\n",
              "\n",
              "    .colab-df-convert:hover {\n",
              "      background-color: #E2EBFA;\n",
              "      box-shadow: 0px 1px 2px rgba(60, 64, 67, 0.3), 0px 1px 3px 1px rgba(60, 64, 67, 0.15);\n",
              "      fill: #174EA6;\n",
              "    }\n",
              "\n",
              "    .colab-df-buttons div {\n",
              "      margin-bottom: 4px;\n",
              "    }\n",
              "\n",
              "    [theme=dark] .colab-df-convert {\n",
              "      background-color: #3B4455;\n",
              "      fill: #D2E3FC;\n",
              "    }\n",
              "\n",
              "    [theme=dark] .colab-df-convert:hover {\n",
              "      background-color: #434B5C;\n",
              "      box-shadow: 0px 1px 3px 1px rgba(0, 0, 0, 0.15);\n",
              "      filter: drop-shadow(0px 1px 2px rgba(0, 0, 0, 0.3));\n",
              "      fill: #FFFFFF;\n",
              "    }\n",
              "  </style>\n",
              "\n",
              "    <script>\n",
              "      const buttonEl =\n",
              "        document.querySelector('#df-68505aa5-633a-493f-bd0e-6f283b130688 button.colab-df-convert');\n",
              "      buttonEl.style.display =\n",
              "        google.colab.kernel.accessAllowed ? 'block' : 'none';\n",
              "\n",
              "      async function convertToInteractive(key) {\n",
              "        const element = document.querySelector('#df-68505aa5-633a-493f-bd0e-6f283b130688');\n",
              "        const dataTable =\n",
              "          await google.colab.kernel.invokeFunction('convertToInteractive',\n",
              "                                                    [key], {});\n",
              "        if (!dataTable) return;\n",
              "\n",
              "        const docLinkHtml = 'Like what you see? Visit the ' +\n",
              "          '<a target=\"_blank\" href=https://colab.research.google.com/notebooks/data_table.ipynb>data table notebook</a>'\n",
              "          + ' to learn more about interactive tables.';\n",
              "        element.innerHTML = '';\n",
              "        dataTable['output_type'] = 'display_data';\n",
              "        await google.colab.output.renderOutput(dataTable, element);\n",
              "        const docLink = document.createElement('div');\n",
              "        docLink.innerHTML = docLinkHtml;\n",
              "        element.appendChild(docLink);\n",
              "      }\n",
              "    </script>\n",
              "  </div>\n",
              "\n",
              "\n",
              "<div id=\"df-0ba94f6c-7e2a-4e9b-9a09-1d4d051d2f64\">\n",
              "  <button class=\"colab-df-quickchart\" onclick=\"quickchart('df-0ba94f6c-7e2a-4e9b-9a09-1d4d051d2f64')\"\n",
              "            title=\"Suggest charts.\"\n",
              "            style=\"display:none;\">\n",
              "\n",
              "<svg xmlns=\"http://www.w3.org/2000/svg\" height=\"24px\"viewBox=\"0 0 24 24\"\n",
              "     width=\"24px\">\n",
              "    <g>\n",
              "        <path d=\"M19 3H5c-1.1 0-2 .9-2 2v14c0 1.1.9 2 2 2h14c1.1 0 2-.9 2-2V5c0-1.1-.9-2-2-2zM9 17H7v-7h2v7zm4 0h-2V7h2v10zm4 0h-2v-4h2v4z\"/>\n",
              "    </g>\n",
              "</svg>\n",
              "  </button>\n",
              "\n",
              "<style>\n",
              "  .colab-df-quickchart {\n",
              "      --bg-color: #E8F0FE;\n",
              "      --fill-color: #1967D2;\n",
              "      --hover-bg-color: #E2EBFA;\n",
              "      --hover-fill-color: #174EA6;\n",
              "      --disabled-fill-color: #AAA;\n",
              "      --disabled-bg-color: #DDD;\n",
              "  }\n",
              "\n",
              "  [theme=dark] .colab-df-quickchart {\n",
              "      --bg-color: #3B4455;\n",
              "      --fill-color: #D2E3FC;\n",
              "      --hover-bg-color: #434B5C;\n",
              "      --hover-fill-color: #FFFFFF;\n",
              "      --disabled-bg-color: #3B4455;\n",
              "      --disabled-fill-color: #666;\n",
              "  }\n",
              "\n",
              "  .colab-df-quickchart {\n",
              "    background-color: var(--bg-color);\n",
              "    border: none;\n",
              "    border-radius: 50%;\n",
              "    cursor: pointer;\n",
              "    display: none;\n",
              "    fill: var(--fill-color);\n",
              "    height: 32px;\n",
              "    padding: 0;\n",
              "    width: 32px;\n",
              "  }\n",
              "\n",
              "  .colab-df-quickchart:hover {\n",
              "    background-color: var(--hover-bg-color);\n",
              "    box-shadow: 0 1px 2px rgba(60, 64, 67, 0.3), 0 1px 3px 1px rgba(60, 64, 67, 0.15);\n",
              "    fill: var(--button-hover-fill-color);\n",
              "  }\n",
              "\n",
              "  .colab-df-quickchart-complete:disabled,\n",
              "  .colab-df-quickchart-complete:disabled:hover {\n",
              "    background-color: var(--disabled-bg-color);\n",
              "    fill: var(--disabled-fill-color);\n",
              "    box-shadow: none;\n",
              "  }\n",
              "\n",
              "  .colab-df-spinner {\n",
              "    border: 2px solid var(--fill-color);\n",
              "    border-color: transparent;\n",
              "    border-bottom-color: var(--fill-color);\n",
              "    animation:\n",
              "      spin 1s steps(1) infinite;\n",
              "  }\n",
              "\n",
              "  @keyframes spin {\n",
              "    0% {\n",
              "      border-color: transparent;\n",
              "      border-bottom-color: var(--fill-color);\n",
              "      border-left-color: var(--fill-color);\n",
              "    }\n",
              "    20% {\n",
              "      border-color: transparent;\n",
              "      border-left-color: var(--fill-color);\n",
              "      border-top-color: var(--fill-color);\n",
              "    }\n",
              "    30% {\n",
              "      border-color: transparent;\n",
              "      border-left-color: var(--fill-color);\n",
              "      border-top-color: var(--fill-color);\n",
              "      border-right-color: var(--fill-color);\n",
              "    }\n",
              "    40% {\n",
              "      border-color: transparent;\n",
              "      border-right-color: var(--fill-color);\n",
              "      border-top-color: var(--fill-color);\n",
              "    }\n",
              "    60% {\n",
              "      border-color: transparent;\n",
              "      border-right-color: var(--fill-color);\n",
              "    }\n",
              "    80% {\n",
              "      border-color: transparent;\n",
              "      border-right-color: var(--fill-color);\n",
              "      border-bottom-color: var(--fill-color);\n",
              "    }\n",
              "    90% {\n",
              "      border-color: transparent;\n",
              "      border-bottom-color: var(--fill-color);\n",
              "    }\n",
              "  }\n",
              "</style>\n",
              "\n",
              "  <script>\n",
              "    async function quickchart(key) {\n",
              "      const quickchartButtonEl =\n",
              "        document.querySelector('#' + key + ' button');\n",
              "      quickchartButtonEl.disabled = true;  // To prevent multiple clicks.\n",
              "      quickchartButtonEl.classList.add('colab-df-spinner');\n",
              "      try {\n",
              "        const charts = await google.colab.kernel.invokeFunction(\n",
              "            'suggestCharts', [key], {});\n",
              "      } catch (error) {\n",
              "        console.error('Error during call to suggestCharts:', error);\n",
              "      }\n",
              "      quickchartButtonEl.classList.remove('colab-df-spinner');\n",
              "      quickchartButtonEl.classList.add('colab-df-quickchart-complete');\n",
              "    }\n",
              "    (() => {\n",
              "      let quickchartButtonEl =\n",
              "        document.querySelector('#df-0ba94f6c-7e2a-4e9b-9a09-1d4d051d2f64 button');\n",
              "      quickchartButtonEl.style.display =\n",
              "        google.colab.kernel.accessAllowed ? 'block' : 'none';\n",
              "    })();\n",
              "  </script>\n",
              "</div>\n",
              "    </div>\n",
              "  </div>\n"
            ]
          },
          "metadata": {},
          "execution_count": 29
        }
      ]
    },
    {
      "cell_type": "code",
      "source": [
        "from sklearn.preprocessing import MinMaxScaler\n",
        "ms=MinMaxScaler()\n",
        "load_data=ms.fit_transform(load_data)\n",
        "print(load_data)"
      ],
      "metadata": {
        "colab": {
          "base_uri": "https://localhost:8080/"
        },
        "id": "OnBLIhJImedb",
        "outputId": "3d31fccb-0d59-41ce-f0f2-ca099c9fdbc7"
      },
      "execution_count": null,
      "outputs": [
        {
          "output_type": "stream",
          "name": "stdout",
          "text": [
            "[[0.2612372  0.22215532 0.29045145 ... 1.         1.         0.31553879]\n",
            " [0.31553879 0.2612372  0.3099841  ... 1.         1.         0.34494702]\n",
            " [0.34494702 0.31553879 0.33110751 ... 1.         1.         0.35581988]\n",
            " ...\n",
            " [0.04409575 0.04811016 0.09046587 ... 0.         0.         0.043971  ]\n",
            " [0.043971   0.04409575 0.08935392 ... 0.         0.         0.05531402]\n",
            " [0.05531402 0.043971   0.08745741 ... 0.         0.         0.05772108]]\n"
          ]
        }
      ]
    },
    {
      "cell_type": "code",
      "source": [
        "dataset=pd.DataFrame(data=load_data[0:,0:])\n",
        "print(dataset[1].values)"
      ],
      "metadata": {
        "colab": {
          "base_uri": "https://localhost:8080/"
        },
        "id": "3qESzDk6miQn",
        "outputId": "2e37df21-b2f0-46b9-a7e5-2e5439218e3a"
      },
      "execution_count": null,
      "outputs": [
        {
          "output_type": "stream",
          "name": "stdout",
          "text": [
            "[0.22215532 0.2612372  0.31553879 ... 0.04811016 0.04409575 0.043971  ]\n"
          ]
        }
      ]
    },
    {
      "cell_type": "code",
      "source": [
        "X=dataset.iloc[:,0:10].values\n",
        "Y=dataset.iloc[:,10:].values\n",
        "print(X)\n",
        "print(Y)"
      ],
      "metadata": {
        "colab": {
          "base_uri": "https://localhost:8080/"
        },
        "id": "V2JkOpz5mmG_",
        "outputId": "716a3db7-68e3-4ea6-c7a0-f9fd1cd44f56"
      },
      "execution_count": null,
      "outputs": [
        {
          "output_type": "stream",
          "name": "stdout",
          "text": [
            "[[0.2612372  0.22215532 0.29045145 ... 0.08694646 1.         1.        ]\n",
            " [0.31553879 0.2612372  0.3099841  ... 0.07723523 1.         1.        ]\n",
            " [0.34494702 0.31553879 0.33110751 ... 0.07264687 1.         1.        ]\n",
            " ...\n",
            " [0.04409575 0.04811016 0.09046587 ... 0.48456929 0.         0.        ]\n",
            " [0.043971   0.04409575 0.08935392 ... 0.48456929 0.         0.        ]\n",
            " [0.05531402 0.043971   0.08745741 ... 0.48456929 0.         0.        ]]\n",
            "[[0.31553879]\n",
            " [0.34494702]\n",
            " [0.35581988]\n",
            " ...\n",
            " [0.043971  ]\n",
            " [0.05531402]\n",
            " [0.05772108]]\n"
          ]
        }
      ]
    },
    {
      "cell_type": "code",
      "source": [
        "from sklearn.model_selection import train_test_split\n",
        "X_train, X_test, y_train, y_test = train_test_split(X, Y, test_size=0.2, random_state=0)\n",
        "print(y_test[0:5])\n",
        "print(X_test.shape)\n",
        "print(X_train.shape)"
      ],
      "metadata": {
        "colab": {
          "base_uri": "https://localhost:8080/"
        },
        "id": "gKrOBGcLmHBM",
        "outputId": "b39c4f96-7df4-4d79-c11a-a9ec931e9344"
      },
      "execution_count": null,
      "outputs": [
        {
          "output_type": "stream",
          "name": "stdout",
          "text": [
            "[[0.36760278]\n",
            " [0.32372193]\n",
            " [0.42424942]\n",
            " [0.27153679]\n",
            " [0.39462053]]\n",
            "(4661, 10)\n",
            "(18643, 10)\n"
          ]
        }
      ]
    },
    {
      "cell_type": "code",
      "source": [
        "import numpy as np\n",
        "from sklearn.svm import SVR\n",
        "from sklearn.metrics import mean_squared_error, mean_absolute_error, r2_score\n",
        "\n",
        "# Create and train the SVM model\n",
        "svm_model = SVR(kernel='rbf')  # You can choose different kernels like 'linear', 'poly', or 'rbf'\n",
        "svm_model.fit(X_train, y_train.ravel())  # We use ravel to convert y_train to a 1D array\n",
        "\n",
        "# Predict on the test set\n",
        "svm_predictions = svm_model.predict(X_test)\n",
        "\n",
        "# Calculate and print test loss\n",
        "svm_test_loss = mean_squared_error(y_test, svm_predictions)\n",
        "print('SVM Test Loss:', svm_test_loss)\n",
        "\n",
        "# Calculate and print training loss (if needed)\n",
        "svm_train_predictions = svm_model.predict(X_train)\n",
        "svm_train_loss = mean_squared_error(y_train, svm_train_predictions)\n",
        "print('SVM Training Loss:', svm_train_loss)\n",
        "\n",
        "# Calculate and print R-squared (Coefficient of determination)\n",
        "r2 = r2_score(y_test, svm_predictions)\n",
        "print('SVM R-squared:', r2)"
      ],
      "metadata": {
        "colab": {
          "base_uri": "https://localhost:8080/"
        },
        "id": "0VGZpv1YkMh7",
        "outputId": "ca90ef99-dc51-4d20-c20a-4e491f02c8ed"
      },
      "execution_count": null,
      "outputs": [
        {
          "output_type": "stream",
          "name": "stdout",
          "text": [
            "SVM Test Loss: 0.001955865497109175\n",
            "SVM Training Loss: 0.0018700251707086414\n",
            "SVM R-squared: 0.9103685304750746\n"
          ]
        }
      ]
    },
    {
      "cell_type": "code",
      "source": [
        "from sklearn.ensemble import RandomForestRegressor\n",
        "\n",
        "# Create and train the Random Forest model\n",
        "rf_model = RandomForestRegressor(n_estimators=100, random_state=0)  # You can adjust the number of estimators\n",
        "rf_model.fit(X_train, y_train.ravel())\n",
        "\n",
        "# Predict on the test set\n",
        "rf_predictions = rf_model.predict(X_test)\n",
        "\n",
        "# Calculate and print test loss\n",
        "rf_test_loss = mean_squared_error(y_test, rf_predictions)\n",
        "print('Random Forest Test Loss:', rf_test_loss)\n",
        "\n",
        "# Calculate and print training loss (if needed)\n",
        "rf_train_predictions = rf_model.predict(X_train)\n",
        "rf_train_loss = mean_squared_error(y_train, rf_train_predictions)\n",
        "print('Random Forest Training Loss:', rf_train_loss)\n"
      ],
      "metadata": {
        "colab": {
          "base_uri": "https://localhost:8080/"
        },
        "id": "UeKiTG12kNut",
        "outputId": "7cdaef7d-9c62-4904-8e3b-110014b5b1b9"
      },
      "execution_count": null,
      "outputs": [
        {
          "output_type": "stream",
          "name": "stdout",
          "text": [
            "Random Forest Test Loss: 0.0017489793817471258\n",
            "Random Forest Training Loss: 0.0002493277312064685\n"
          ]
        }
      ]
    },
    {
      "cell_type": "code",
      "source": [
        "from sklearn.metrics import mean_squared_error\n",
        "\n",
        "# Calculate MSE for the SVM model\n",
        "svm_test_mse = mean_squared_error(y_test, svm_predictions)\n",
        "print('SVM Test MSE:', svm_test_mse)\n",
        "\n",
        "# Calculate MSE for the Random Forest model\n",
        "rf_test_mse = mean_squared_error(y_test, rf_predictions)\n",
        "print('Random Forest Test MSE:', rf_test_mse)"
      ],
      "metadata": {
        "colab": {
          "base_uri": "https://localhost:8080/"
        },
        "id": "9u7w_tXGkN65",
        "outputId": "fd18d819-5a9d-4dea-bb65-501170bb1962"
      },
      "execution_count": null,
      "outputs": [
        {
          "output_type": "stream",
          "name": "stdout",
          "text": [
            "SVM Test MSE: 0.001955865497109175\n",
            "Random Forest Test MSE: 0.0017489793817471258\n"
          ]
        }
      ]
    },
    {
      "cell_type": "code",
      "source": [
        "import numpy as np\n",
        "\n",
        "# Calculate RMSE for the SVM model\n",
        "svm_test_rmse = np.sqrt(svm_test_mse)\n",
        "print('SVM Test RMSE:', svm_test_rmse)\n",
        "\n",
        "# Calculate RMSE for the Random Forest model\n",
        "rf_test_rmse = np.sqrt(rf_test_mse)\n",
        "print('Random Forest Test RMSE:', rf_test_rmse)"
      ],
      "metadata": {
        "colab": {
          "base_uri": "https://localhost:8080/"
        },
        "id": "QEifiTBSlGqz",
        "outputId": "19d2c03a-9dd1-4237-ec96-1ebb412c39b2"
      },
      "execution_count": null,
      "outputs": [
        {
          "output_type": "stream",
          "name": "stdout",
          "text": [
            "SVM Test RMSE: 0.044225168141106885\n",
            "Random Forest Test RMSE: 0.04182080082622911\n"
          ]
        }
      ]
    },
    {
      "cell_type": "code",
      "source": [
        "# Fitting Decision Tree Regression to the dataset\n",
        "from sklearn.tree import DecisionTreeRegressor\n",
        "regressor = DecisionTreeRegressor(max_depth=None)\n",
        "regressor.fit(X_train, y_train)\n",
        "regressor.get_depth()"
      ],
      "metadata": {
        "colab": {
          "base_uri": "https://localhost:8080/"
        },
        "id": "JrNrWrpoqqCn",
        "outputId": "69f29655-1c67-400d-e116-c77f616d1297"
      },
      "execution_count": null,
      "outputs": [
        {
          "output_type": "execute_result",
          "data": {
            "text/plain": [
              "37"
            ]
          },
          "metadata": {},
          "execution_count": 39
        }
      ]
    },
    {
      "cell_type": "code",
      "source": [
        "y_pred_test =  regressor.predict(X_test)\n",
        "y_pred_train =  regressor.predict(X_train)\n",
        "print(y_pred_test)\n",
        "print(y_pred_train)"
      ],
      "metadata": {
        "colab": {
          "base_uri": "https://localhost:8080/"
        },
        "id": "-g1TIEFTqwfO",
        "outputId": "7c424c4b-e4c6-45a4-e477-5bba1c87ffdd"
      },
      "execution_count": null,
      "outputs": [
        {
          "output_type": "stream",
          "name": "stdout",
          "text": [
            "[0.51769058 0.34486265 0.44147308 ... 0.33097627 0.40769855 0.68641685]\n",
            "[0.60331926 0.48791027 0.1732094  ... 0.59904021 0.35952277 0.52554344]\n"
          ]
        }
      ]
    },
    {
      "cell_type": "code",
      "source": [
        "import math\n",
        "from sklearn.metrics import mean_squared_error\n",
        "from sklearn.metrics import mean_absolute_error\n",
        "\n",
        "\n",
        "#Training Accuracies\n",
        "rmse = math.sqrt(mean_squared_error(y_train, y_pred_train))\n",
        "print('Root mean square error', rmse)\n",
        "mse = (mean_squared_error(y_train, y_pred_train))\n",
        "print('Mean square error', mse)\n",
        "mae=mean_absolute_error(y_train, y_pred_train)\n",
        "print('Mean absolute error', mae)"
      ],
      "metadata": {
        "colab": {
          "base_uri": "https://localhost:8080/"
        },
        "id": "eSzr3J70rN8k",
        "outputId": "53a5e9da-e168-4b66-8cfb-972b564db15f"
      },
      "execution_count": null,
      "outputs": [
        {
          "output_type": "stream",
          "name": "stdout",
          "text": [
            "Root mean square error 0.0\n",
            "Mean square error 0.0\n",
            "Mean absolute error 0.0\n"
          ]
        }
      ]
    },
    {
      "cell_type": "code",
      "source": [
        "import numpy as np\n",
        "from sklearn.tree import DecisionTreeRegressor\n",
        "from sklearn.metrics import mean_squared_error, r2_score\n",
        "\n",
        "# Create and train the Decision Tree model\n",
        "dt_model = DecisionTreeRegressor(random_state=0)\n",
        "dt_model.fit(X_train, y_train)\n",
        "\n",
        "# Predict on the test set\n",
        "dt_predictions = dt_model.predict(X_test)\n",
        "\n",
        "# Calculate and print test loss\n",
        "dt_test_loss = mean_squared_error(y_test, dt_predictions)\n",
        "print('Decision Tree Test Loss:', dt_test_loss)\n",
        "\n",
        "# Calculate and print training loss (if needed)\n",
        "dt_train_predictions = dt_model.predict(X_train)\n",
        "dt_train_loss = mean_squared_error(y_train, dt_train_predictions)\n",
        "print('Decision Tree Training Loss:', dt_train_loss)\n",
        "\n",
        "# Calculate and print R-squared (Coefficient of determination)\n",
        "r2 = r2_score(y_test, dt_predictions)\n",
        "print('Decision Tree R-squared:', r2)"
      ],
      "metadata": {
        "colab": {
          "base_uri": "https://localhost:8080/"
        },
        "id": "zooSmuBzruZF",
        "outputId": "04dbd7d6-ff60-4151-b08f-2a70c888a16b"
      },
      "execution_count": null,
      "outputs": [
        {
          "output_type": "stream",
          "name": "stdout",
          "text": [
            "Decision Tree Test Loss: 0.0034483152134961183\n",
            "Decision Tree Training Loss: 0.0\n",
            "Decision Tree R-squared: 0.8419740210011173\n"
          ]
        }
      ]
    },
    {
      "cell_type": "code",
      "source": [
        "import numpy as np\n",
        "from sklearn.linear_model import LinearRegression\n",
        "from sklearn.metrics import mean_squared_error, r2_score\n",
        "\n",
        "# Create and train the Linear Regression model\n",
        "lr_model = LinearRegression()\n",
        "lr_model.fit(X_train, y_train)\n",
        "\n",
        "# Predict on the test set\n",
        "lr_predictions = lr_model.predict(X_test)\n",
        "\n",
        "# Calculate and print test loss (MSE)\n",
        "lr_test_loss = mean_squared_error(y_test, lr_predictions)\n",
        "print('Linear Regression Test Loss (MSE):', lr_test_loss)\n",
        "\n",
        "# Calculate and print training loss (MSE)\n",
        "lr_train_predictions = lr_model.predict(X_train)\n",
        "lr_train_loss = mean_squared_error(y_train, lr_train_predictions)\n",
        "print('Linear Regression Training Loss (MSE):', lr_train_loss)\n",
        "\n",
        "# Calculate and print R-squared (Coefficient of determination)\n",
        "r2 = r2_score(y_test, lr_predictions)\n",
        "print('Linear Regression R-squared:', r2)"
      ],
      "metadata": {
        "colab": {
          "base_uri": "https://localhost:8080/"
        },
        "id": "bx8CZ_Rhwvf_",
        "outputId": "bb8c386b-8c38-4d91-d80f-40518162d7d6"
      },
      "execution_count": null,
      "outputs": [
        {
          "output_type": "stream",
          "name": "stdout",
          "text": [
            "Linear Regression Test Loss (MSE): 0.001856109304822003\n",
            "Linear Regression Training Loss (MSE): 0.0018528345686538012\n",
            "Linear Regression R-squared: 0.9149400585899301\n"
          ]
        }
      ]
    }
  ]
}
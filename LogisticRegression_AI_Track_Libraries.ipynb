{
  "nbformat": 4,
  "nbformat_minor": 0,
  "metadata": {
    "colab": {
      "name": "LogisticRegression-AI Track - Libraries",
      "provenance": [],
      "collapsed_sections": [],
      "authorship_tag": "ABX9TyOZLv8AtGqziizosQMrRpWO",
      "include_colab_link": true
    },
    "kernelspec": {
      "name": "python3",
      "display_name": "Python 3"
    },
    "language_info": {
      "name": "python"
    }
  },
  "cells": [
    {
      "cell_type": "markdown",
      "metadata": {
        "id": "view-in-github",
        "colab_type": "text"
      },
      "source": [
        "<a href=\"https://colab.research.google.com/github/vvrgit/AI/blob/main/LogisticRegression_AI_Track_Libraries.ipynb\" target=\"_parent\"><img src=\"https://colab.research.google.com/assets/colab-badge.svg\" alt=\"Open In Colab\"/></a>"
      ]
    },
    {
      "cell_type": "markdown",
      "metadata": {
        "id": "FuGYX7EiXOSP"
      },
      "source": [
        "#Product being purchased through an advertisement on social media. We will be predicting the value of Purchased by considering gender, age and salary"
      ]
    },
    {
      "cell_type": "markdown",
      "metadata": {
        "id": "QekxM0-hXdGG"
      },
      "source": [
        "#Mount Google Drive"
      ]
    },
    {
      "cell_type": "code",
      "metadata": {
        "colab": {
          "base_uri": "https://localhost:8080/"
        },
        "id": "Npyl0DT4TUVM",
        "outputId": "910437bf-ea96-416c-a811-91980041c89a"
      },
      "source": [
        "from google.colab import drive\n",
        "drive.mount('/content/drive')"
      ],
      "execution_count": 1,
      "outputs": [
        {
          "output_type": "stream",
          "name": "stdout",
          "text": [
            "Mounted at /content/drive\n"
          ]
        }
      ]
    },
    {
      "cell_type": "markdown",
      "metadata": {
        "id": "l246qtOfX2xW"
      },
      "source": [
        "#Import Libraries"
      ]
    },
    {
      "cell_type": "code",
      "metadata": {
        "id": "WO2dd75sXUOF"
      },
      "source": [
        "import numpy as np\n",
        "import pandas as pd"
      ],
      "execution_count": 2,
      "outputs": []
    },
    {
      "cell_type": "markdown",
      "metadata": {
        "id": "bhMF2ok4X64v"
      },
      "source": [
        "#Load Data"
      ]
    },
    {
      "cell_type": "code",
      "metadata": {
        "colab": {
          "base_uri": "https://localhost:8080/",
          "height": 205
        },
        "id": "HyFinGU3X4wU",
        "outputId": "af0e4f79-120b-448c-c405-faff86756366"
      },
      "source": [
        "data = pd.read_csv(\"/content/drive/MyDrive/AI Data/Social_Network_Ads.csv\")\n",
        "data.head()"
      ],
      "execution_count": 7,
      "outputs": [
        {
          "output_type": "execute_result",
          "data": {
            "text/html": [
              "<div>\n",
              "<style scoped>\n",
              "    .dataframe tbody tr th:only-of-type {\n",
              "        vertical-align: middle;\n",
              "    }\n",
              "\n",
              "    .dataframe tbody tr th {\n",
              "        vertical-align: top;\n",
              "    }\n",
              "\n",
              "    .dataframe thead th {\n",
              "        text-align: right;\n",
              "    }\n",
              "</style>\n",
              "<table border=\"1\" class=\"dataframe\">\n",
              "  <thead>\n",
              "    <tr style=\"text-align: right;\">\n",
              "      <th></th>\n",
              "      <th>User ID</th>\n",
              "      <th>Gender</th>\n",
              "      <th>Age</th>\n",
              "      <th>EstimatedSalary</th>\n",
              "      <th>Purchased</th>\n",
              "    </tr>\n",
              "  </thead>\n",
              "  <tbody>\n",
              "    <tr>\n",
              "      <th>0</th>\n",
              "      <td>15624510</td>\n",
              "      <td>Male</td>\n",
              "      <td>19</td>\n",
              "      <td>19000</td>\n",
              "      <td>0</td>\n",
              "    </tr>\n",
              "    <tr>\n",
              "      <th>1</th>\n",
              "      <td>15810944</td>\n",
              "      <td>Male</td>\n",
              "      <td>35</td>\n",
              "      <td>20000</td>\n",
              "      <td>0</td>\n",
              "    </tr>\n",
              "    <tr>\n",
              "      <th>2</th>\n",
              "      <td>15668575</td>\n",
              "      <td>Female</td>\n",
              "      <td>26</td>\n",
              "      <td>43000</td>\n",
              "      <td>0</td>\n",
              "    </tr>\n",
              "    <tr>\n",
              "      <th>3</th>\n",
              "      <td>15603246</td>\n",
              "      <td>Female</td>\n",
              "      <td>27</td>\n",
              "      <td>57000</td>\n",
              "      <td>0</td>\n",
              "    </tr>\n",
              "    <tr>\n",
              "      <th>4</th>\n",
              "      <td>15804002</td>\n",
              "      <td>Male</td>\n",
              "      <td>19</td>\n",
              "      <td>76000</td>\n",
              "      <td>0</td>\n",
              "    </tr>\n",
              "  </tbody>\n",
              "</table>\n",
              "</div>"
            ],
            "text/plain": [
              "    User ID  Gender  Age  EstimatedSalary  Purchased\n",
              "0  15624510    Male   19            19000          0\n",
              "1  15810944    Male   35            20000          0\n",
              "2  15668575  Female   26            43000          0\n",
              "3  15603246  Female   27            57000          0\n",
              "4  15804002    Male   19            76000          0"
            ]
          },
          "metadata": {},
          "execution_count": 7
        }
      ]
    },
    {
      "cell_type": "code",
      "metadata": {
        "colab": {
          "base_uri": "https://localhost:8080/"
        },
        "id": "79aIynyDYQDM",
        "outputId": "f984cc8e-819a-4787-9de7-faa78e9d4411"
      },
      "source": [
        "data.drop(['User ID'], axis = 1, inplace = True)\n",
        "# Checking for null values\n",
        "print(data.info())"
      ],
      "execution_count": 8,
      "outputs": [
        {
          "output_type": "stream",
          "name": "stdout",
          "text": [
            "<class 'pandas.core.frame.DataFrame'>\n",
            "RangeIndex: 400 entries, 0 to 399\n",
            "Data columns (total 4 columns):\n",
            " #   Column           Non-Null Count  Dtype \n",
            "---  ------           --------------  ----- \n",
            " 0   Gender           400 non-null    object\n",
            " 1   Age              400 non-null    int64 \n",
            " 2   EstimatedSalary  400 non-null    int64 \n",
            " 3   Purchased        400 non-null    int64 \n",
            "dtypes: int64(3), object(1)\n",
            "memory usage: 12.6+ KB\n",
            "None\n"
          ]
        }
      ]
    },
    {
      "cell_type": "markdown",
      "metadata": {
        "id": "2bPR5BMhZGu4"
      },
      "source": [
        "#Binary Conversion"
      ]
    },
    {
      "cell_type": "code",
      "metadata": {
        "colab": {
          "base_uri": "https://localhost:8080/",
          "height": 421
        },
        "id": "jkNcAA88YhSN",
        "outputId": "3ffc0882-505c-4f63-9295-b5d30f657cb9"
      },
      "source": [
        "# Converting the categorical variable into numerical\n",
        "varlist =  ['Gender']\n",
        "\n",
        "# Defining the map function\n",
        "def binary_map(x):\n",
        "    return x.map({'Male': 1, \"Female\": 0})\n",
        "\n",
        "# Applying the function to the housing list\n",
        "data[varlist] = data[varlist].apply(binary_map)\n",
        "\n",
        "# Check the housing dataframe now\n",
        "data"
      ],
      "execution_count": 9,
      "outputs": [
        {
          "output_type": "execute_result",
          "data": {
            "text/html": [
              "<div>\n",
              "<style scoped>\n",
              "    .dataframe tbody tr th:only-of-type {\n",
              "        vertical-align: middle;\n",
              "    }\n",
              "\n",
              "    .dataframe tbody tr th {\n",
              "        vertical-align: top;\n",
              "    }\n",
              "\n",
              "    .dataframe thead th {\n",
              "        text-align: right;\n",
              "    }\n",
              "</style>\n",
              "<table border=\"1\" class=\"dataframe\">\n",
              "  <thead>\n",
              "    <tr style=\"text-align: right;\">\n",
              "      <th></th>\n",
              "      <th>Gender</th>\n",
              "      <th>Age</th>\n",
              "      <th>EstimatedSalary</th>\n",
              "      <th>Purchased</th>\n",
              "    </tr>\n",
              "  </thead>\n",
              "  <tbody>\n",
              "    <tr>\n",
              "      <th>0</th>\n",
              "      <td>1</td>\n",
              "      <td>19</td>\n",
              "      <td>19000</td>\n",
              "      <td>0</td>\n",
              "    </tr>\n",
              "    <tr>\n",
              "      <th>1</th>\n",
              "      <td>1</td>\n",
              "      <td>35</td>\n",
              "      <td>20000</td>\n",
              "      <td>0</td>\n",
              "    </tr>\n",
              "    <tr>\n",
              "      <th>2</th>\n",
              "      <td>0</td>\n",
              "      <td>26</td>\n",
              "      <td>43000</td>\n",
              "      <td>0</td>\n",
              "    </tr>\n",
              "    <tr>\n",
              "      <th>3</th>\n",
              "      <td>0</td>\n",
              "      <td>27</td>\n",
              "      <td>57000</td>\n",
              "      <td>0</td>\n",
              "    </tr>\n",
              "    <tr>\n",
              "      <th>4</th>\n",
              "      <td>1</td>\n",
              "      <td>19</td>\n",
              "      <td>76000</td>\n",
              "      <td>0</td>\n",
              "    </tr>\n",
              "    <tr>\n",
              "      <th>...</th>\n",
              "      <td>...</td>\n",
              "      <td>...</td>\n",
              "      <td>...</td>\n",
              "      <td>...</td>\n",
              "    </tr>\n",
              "    <tr>\n",
              "      <th>395</th>\n",
              "      <td>0</td>\n",
              "      <td>46</td>\n",
              "      <td>41000</td>\n",
              "      <td>1</td>\n",
              "    </tr>\n",
              "    <tr>\n",
              "      <th>396</th>\n",
              "      <td>1</td>\n",
              "      <td>51</td>\n",
              "      <td>23000</td>\n",
              "      <td>1</td>\n",
              "    </tr>\n",
              "    <tr>\n",
              "      <th>397</th>\n",
              "      <td>0</td>\n",
              "      <td>50</td>\n",
              "      <td>20000</td>\n",
              "      <td>1</td>\n",
              "    </tr>\n",
              "    <tr>\n",
              "      <th>398</th>\n",
              "      <td>1</td>\n",
              "      <td>36</td>\n",
              "      <td>33000</td>\n",
              "      <td>0</td>\n",
              "    </tr>\n",
              "    <tr>\n",
              "      <th>399</th>\n",
              "      <td>0</td>\n",
              "      <td>49</td>\n",
              "      <td>36000</td>\n",
              "      <td>1</td>\n",
              "    </tr>\n",
              "  </tbody>\n",
              "</table>\n",
              "<p>400 rows × 4 columns</p>\n",
              "</div>"
            ],
            "text/plain": [
              "     Gender  Age  EstimatedSalary  Purchased\n",
              "0         1   19            19000          0\n",
              "1         1   35            20000          0\n",
              "2         0   26            43000          0\n",
              "3         0   27            57000          0\n",
              "4         1   19            76000          0\n",
              "..      ...  ...              ...        ...\n",
              "395       0   46            41000          1\n",
              "396       1   51            23000          1\n",
              "397       0   50            20000          1\n",
              "398       1   36            33000          0\n",
              "399       0   49            36000          1\n",
              "\n",
              "[400 rows x 4 columns]"
            ]
          },
          "metadata": {},
          "execution_count": 9
        }
      ]
    },
    {
      "cell_type": "markdown",
      "metadata": {
        "id": "96s9KknHZrBH"
      },
      "source": [
        "#Data Normalization"
      ]
    },
    {
      "cell_type": "code",
      "metadata": {
        "colab": {
          "base_uri": "https://localhost:8080/",
          "height": 421
        },
        "id": "tzWriMTMZSz_",
        "outputId": "d98f7b23-ad22-416b-c929-770fe372fcd3"
      },
      "source": [
        "from sklearn.preprocessing import MinMaxScaler\n",
        "scaler = MinMaxScaler()\n",
        "\n",
        "# Applying scaler() to all the columns except the 'yes-no' and 'dummy' variables\n",
        "num_vars = ['Age', 'EstimatedSalary']\n",
        "data[num_vars] = scaler.fit_transform(data[num_vars])\n",
        "\n",
        "data"
      ],
      "execution_count": 10,
      "outputs": [
        {
          "output_type": "execute_result",
          "data": {
            "text/html": [
              "<div>\n",
              "<style scoped>\n",
              "    .dataframe tbody tr th:only-of-type {\n",
              "        vertical-align: middle;\n",
              "    }\n",
              "\n",
              "    .dataframe tbody tr th {\n",
              "        vertical-align: top;\n",
              "    }\n",
              "\n",
              "    .dataframe thead th {\n",
              "        text-align: right;\n",
              "    }\n",
              "</style>\n",
              "<table border=\"1\" class=\"dataframe\">\n",
              "  <thead>\n",
              "    <tr style=\"text-align: right;\">\n",
              "      <th></th>\n",
              "      <th>Gender</th>\n",
              "      <th>Age</th>\n",
              "      <th>EstimatedSalary</th>\n",
              "      <th>Purchased</th>\n",
              "    </tr>\n",
              "  </thead>\n",
              "  <tbody>\n",
              "    <tr>\n",
              "      <th>0</th>\n",
              "      <td>1</td>\n",
              "      <td>0.023810</td>\n",
              "      <td>0.029630</td>\n",
              "      <td>0</td>\n",
              "    </tr>\n",
              "    <tr>\n",
              "      <th>1</th>\n",
              "      <td>1</td>\n",
              "      <td>0.404762</td>\n",
              "      <td>0.037037</td>\n",
              "      <td>0</td>\n",
              "    </tr>\n",
              "    <tr>\n",
              "      <th>2</th>\n",
              "      <td>0</td>\n",
              "      <td>0.190476</td>\n",
              "      <td>0.207407</td>\n",
              "      <td>0</td>\n",
              "    </tr>\n",
              "    <tr>\n",
              "      <th>3</th>\n",
              "      <td>0</td>\n",
              "      <td>0.214286</td>\n",
              "      <td>0.311111</td>\n",
              "      <td>0</td>\n",
              "    </tr>\n",
              "    <tr>\n",
              "      <th>4</th>\n",
              "      <td>1</td>\n",
              "      <td>0.023810</td>\n",
              "      <td>0.451852</td>\n",
              "      <td>0</td>\n",
              "    </tr>\n",
              "    <tr>\n",
              "      <th>...</th>\n",
              "      <td>...</td>\n",
              "      <td>...</td>\n",
              "      <td>...</td>\n",
              "      <td>...</td>\n",
              "    </tr>\n",
              "    <tr>\n",
              "      <th>395</th>\n",
              "      <td>0</td>\n",
              "      <td>0.666667</td>\n",
              "      <td>0.192593</td>\n",
              "      <td>1</td>\n",
              "    </tr>\n",
              "    <tr>\n",
              "      <th>396</th>\n",
              "      <td>1</td>\n",
              "      <td>0.785714</td>\n",
              "      <td>0.059259</td>\n",
              "      <td>1</td>\n",
              "    </tr>\n",
              "    <tr>\n",
              "      <th>397</th>\n",
              "      <td>0</td>\n",
              "      <td>0.761905</td>\n",
              "      <td>0.037037</td>\n",
              "      <td>1</td>\n",
              "    </tr>\n",
              "    <tr>\n",
              "      <th>398</th>\n",
              "      <td>1</td>\n",
              "      <td>0.428571</td>\n",
              "      <td>0.133333</td>\n",
              "      <td>0</td>\n",
              "    </tr>\n",
              "    <tr>\n",
              "      <th>399</th>\n",
              "      <td>0</td>\n",
              "      <td>0.738095</td>\n",
              "      <td>0.155556</td>\n",
              "      <td>1</td>\n",
              "    </tr>\n",
              "  </tbody>\n",
              "</table>\n",
              "<p>400 rows × 4 columns</p>\n",
              "</div>"
            ],
            "text/plain": [
              "     Gender       Age  EstimatedSalary  Purchased\n",
              "0         1  0.023810         0.029630          0\n",
              "1         1  0.404762         0.037037          0\n",
              "2         0  0.190476         0.207407          0\n",
              "3         0  0.214286         0.311111          0\n",
              "4         1  0.023810         0.451852          0\n",
              "..      ...       ...              ...        ...\n",
              "395       0  0.666667         0.192593          1\n",
              "396       1  0.785714         0.059259          1\n",
              "397       0  0.761905         0.037037          1\n",
              "398       1  0.428571         0.133333          0\n",
              "399       0  0.738095         0.155556          1\n",
              "\n",
              "[400 rows x 4 columns]"
            ]
          },
          "metadata": {},
          "execution_count": 10
        }
      ]
    },
    {
      "cell_type": "markdown",
      "metadata": {
        "id": "LApkfSogaM_3"
      },
      "source": [
        "#Data Split"
      ]
    },
    {
      "cell_type": "code",
      "metadata": {
        "id": "Tau9WCmBZnzn"
      },
      "source": [
        "from sklearn.model_selection import train_test_split\n",
        "df_train, df_test = train_test_split(data, train_size = 0.7, test_size = 0.3, random_state = 100)\n"
      ],
      "execution_count": 11,
      "outputs": []
    },
    {
      "cell_type": "markdown",
      "metadata": {
        "id": "hCUX3OPjaPCm"
      },
      "source": [
        "#Dividing the training data set into X and Y\n"
      ]
    },
    {
      "cell_type": "code",
      "metadata": {
        "id": "zES0NGP6aGsG"
      },
      "source": [
        "y_train = df_train.pop('Purchased')\n",
        "X_train = df_train\n",
        "y_test = df_test.pop('Purchased')\n",
        "X_test = df_test"
      ],
      "execution_count": 12,
      "outputs": []
    },
    {
      "cell_type": "markdown",
      "metadata": {
        "id": "rgVpkXXjaahu"
      },
      "source": [
        "#Model Training"
      ]
    },
    {
      "cell_type": "code",
      "metadata": {
        "colab": {
          "base_uri": "https://localhost:8080/"
        },
        "id": "KRwfeh1QaYbF",
        "outputId": "8b13f631-af14-465e-b6e9-1c37578554c9"
      },
      "source": [
        "from sklearn.linear_model import LogisticRegression\n",
        "lr_model = LogisticRegression()\n",
        "lr_model.fit(X_train,y_train)\n"
      ],
      "execution_count": 17,
      "outputs": [
        {
          "output_type": "execute_result",
          "data": {
            "text/plain": [
              "LogisticRegression(C=1.0, class_weight=None, dual=False, fit_intercept=True,\n",
              "                   intercept_scaling=1, l1_ratio=None, max_iter=100,\n",
              "                   multi_class='auto', n_jobs=None, penalty='l2',\n",
              "                   random_state=None, solver='lbfgs', tol=0.0001, verbose=0,\n",
              "                   warm_start=False)"
            ]
          },
          "metadata": {},
          "execution_count": 17
        }
      ]
    },
    {
      "cell_type": "code",
      "metadata": {
        "id": "ule1Lzp2a_st"
      },
      "source": [
        "y_pred_train = lr_model.predict(X_train)\n",
        "y_pred_test = lr_model.predict(X_test)"
      ],
      "execution_count": 18,
      "outputs": []
    },
    {
      "cell_type": "code",
      "metadata": {
        "colab": {
          "base_uri": "https://localhost:8080/"
        },
        "id": "b-vUl7FkbOXu",
        "outputId": "016a8654-cdfd-4639-eaef-71b4b709d709"
      },
      "source": [
        "print(\" Training Accuracy\",lr_model.score(X_train, y_train))\n",
        "print(\" Testing Accuracy\",lr_model.score(X_test, y_test))"
      ],
      "execution_count": 20,
      "outputs": [
        {
          "output_type": "stream",
          "name": "stdout",
          "text": [
            " Training Accuracy 0.8178571428571428\n",
            " Testing Accuracy 0.8\n"
          ]
        }
      ]
    },
    {
      "cell_type": "markdown",
      "metadata": {
        "id": "5NQq6hgSgIwO"
      },
      "source": [
        "![image.png](data:image/png;base64,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)"
      ]
    },
    {
      "cell_type": "code",
      "metadata": {
        "colab": {
          "base_uri": "https://localhost:8080/"
        },
        "id": "_3CL6Tjmfi5H",
        "outputId": "8c402577-1889-4c73-c38b-7e17005088ce"
      },
      "source": [
        "from sklearn.metrics import confusion_matrix\n",
        "confusion_matrix(y_test, y_pred_test)"
      ],
      "execution_count": 39,
      "outputs": [
        {
          "output_type": "execute_result",
          "data": {
            "text/plain": [
              "array([[73,  2],\n",
              "       [22, 23]])"
            ]
          },
          "metadata": {},
          "execution_count": 39
        }
      ]
    },
    {
      "cell_type": "code",
      "metadata": {
        "colab": {
          "base_uri": "https://localhost:8080/"
        },
        "id": "Iuu0eoMdfmwY",
        "outputId": "a598e055-e986-4ec3-fa22-63790f0c74d3"
      },
      "source": [
        "confusion_matrix(y_train, y_pred_train)"
      ],
      "execution_count": 40,
      "outputs": [
        {
          "output_type": "execute_result",
          "data": {
            "text/plain": [
              "array([[171,  11],\n",
              "       [ 40,  58]])"
            ]
          },
          "metadata": {},
          "execution_count": 40
        }
      ]
    },
    {
      "cell_type": "markdown",
      "metadata": {
        "id": "oe0dbZKMhARP"
      },
      "source": [
        "#Precision tells us how many of the correctly predicted cases actually turned out to be positive."
      ]
    },
    {
      "cell_type": "markdown",
      "metadata": {
        "id": "B5EMrwi3hHOH"
      },
      "source": [
        "![image.png](data:image/png;base64,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)"
      ]
    },
    {
      "cell_type": "markdown",
      "metadata": {
        "id": "HjeV2TL0hEkI"
      },
      "source": [
        "#Recall tells us how many of the actual positive cases we were able to predict correctly with our model."
      ]
    },
    {
      "cell_type": "markdown",
      "metadata": {
        "id": "IGkpscHhhQm4"
      },
      "source": [
        "![image.png](data:image/png;base64,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)"
      ]
    },
    {
      "cell_type": "markdown",
      "metadata": {
        "id": "TgZCMCTf1oaS"
      },
      "source": [
        "#F1-Score\n",
        "In practice, when we try to increase the precision of our model, the recall goes down, and vice-versa. The F1-score captures both the trends in a single value:"
      ]
    },
    {
      "cell_type": "markdown",
      "metadata": {
        "id": "eZafbwqC1rRZ"
      },
      "source": [
        "![image.png](data:image/png;base64,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)"
      ]
    },
    {
      "cell_type": "markdown",
      "metadata": {
        "id": "SoSH_r8I16Ny"
      },
      "source": [
        "F1-score is a harmonic mean of Precision and Recall, and so it gives a combined idea about these two metrics."
      ]
    },
    {
      "cell_type": "markdown",
      "metadata": {
        "id": "4lGZDJoOfr1w"
      },
      "source": [
        "# Save Model"
      ]
    },
    {
      "cell_type": "code",
      "metadata": {
        "id": "IF14kWG0cC8e"
      },
      "source": [
        "import pickle\n",
        "# Save the model\n",
        "filename = 'model.pkl'\n",
        "pickle.dump(lr_model, open(filename, 'wb'))"
      ],
      "execution_count": 21,
      "outputs": []
    },
    {
      "cell_type": "markdown",
      "metadata": {
        "id": "Zj8ZHwgOftrX"
      },
      "source": [
        "# Deploy Model"
      ]
    },
    {
      "cell_type": "code",
      "metadata": {
        "colab": {
          "base_uri": "https://localhost:8080/"
        },
        "id": "AvShZ47BcVO_",
        "outputId": "12dc2549-6ec4-41e5-d5d3-c9ed62969b3c"
      },
      "source": [
        "list_of_columns = data.columns\n",
        "input_data=pd.DataFrame(columns=list_of_columns)\n",
        "input_data.drop(['Purchased'], axis='columns', inplace=True)\n",
        "\n",
        "input_data.at[0, 'Gender'] = input('enter Gender')\n",
        "input_data.at[0, 'Age'] = int(input('enter Age'))\n",
        "input_data.at[0, 'EstimatedSalary'] = int(input('enter Salary'))\n",
        "\n",
        "# Defining the map function\n",
        "def binary_map(x):\n",
        "    return x.map({'Male': 1, \"Female\": 0})\n",
        "\n",
        "# Applying the function to the housing list\n",
        "input_data[varlist] = input_data[varlist].apply(binary_map)\n",
        "\n",
        "\n",
        "input_data['Age']=(input_data['Age']-data['Age'].min())/(data['Age'].max()-data['Age'].min())\n",
        "input_data['EstimatedSalary']=(input_data['EstimatedSalary']-data['EstimatedSalary'].min())/(data['EstimatedSalary'].max()-data['EstimatedSalary'].min())\n",
        "\n",
        "y_pred =  lr_model.predict(input_data)\n",
        "\n",
        "if(y_pred[0]==1):\n",
        "  print('Will purchase product')\n",
        "if(y_pred[0]==0):\n",
        "  print('Will not purchase product')"
      ],
      "execution_count": 36,
      "outputs": [
        {
          "output_type": "stream",
          "name": "stdout",
          "text": [
            "enter GenderMale\n",
            "enter Age19\n",
            "enter Salary19000\n",
            "Will purchase product\n"
          ]
        }
      ]
    },
    {
      "cell_type": "code",
      "metadata": {
        "colab": {
          "base_uri": "https://localhost:8080/"
        },
        "id": "Gh6WqT5Ae7Lv",
        "outputId": "fb0fa163-59ce-4ff3-d724-6a29a7225d7d"
      },
      "source": [
        "list_of_columns = data.columns\n",
        "input_data=pd.DataFrame(columns=list_of_columns)\n",
        "input_data.drop(['Purchased'], axis='columns', inplace=True)\n",
        "\n",
        "input_data.at[0, 'Gender'] = input('enter Gender')\n",
        "input_data.at[0, 'Age'] = int(input('enter Age'))\n",
        "input_data.at[0, 'EstimatedSalary'] = int(input('enter Salary'))\n",
        "\n",
        "# Defining the map function\n",
        "def binary_map(x):\n",
        "    return x.map({'Male': 1, \"Female\": 0})\n",
        "\n",
        "# Applying the function to the housing list\n",
        "input_data[varlist] = input_data[varlist].apply(binary_map)\n",
        "\n",
        "\n",
        "input_data['Age']=(input_data['Age']-data['Age'].min())/(data['Age'].max()-data['Age'].min())\n",
        "input_data['EstimatedSalary']=(input_data['EstimatedSalary']-data['EstimatedSalary'].min())/(data['EstimatedSalary'].max()-data['EstimatedSalary'].min())\n",
        "\n",
        "import pickle\n",
        "model = pickle.load(open('model.pkl', 'rb'))\n",
        "y_pred =  model.predict(input_data)\n",
        "\n",
        "if(y_pred[0]==1):\n",
        "  print('Will purchase product')\n",
        "if(y_pred[0]==0):\n",
        "  print('Will not purchase product')"
      ],
      "execution_count": 38,
      "outputs": [
        {
          "output_type": "stream",
          "name": "stdout",
          "text": [
            "enter GenderFemale\n",
            "enter Age19\n",
            "enter Salary19000\n",
            "Will purchase product\n"
          ]
        }
      ]
    },
    {
      "cell_type": "markdown",
      "metadata": {
        "id": "NuabqykPfxWP"
      },
      "source": [
        "# Thank you"
      ]
    }
  ]
}
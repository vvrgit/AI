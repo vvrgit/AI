{
  "nbformat": 4,
  "nbformat_minor": 0,
  "metadata": {
    "colab": {
      "name": "Optimization.ipynb",
      "provenance": [],
      "authorship_tag": "ABX9TyOJ8HhZQZ1gEZyfyxj6NapN",
      "include_colab_link": true
    },
    "kernelspec": {
      "name": "python3",
      "display_name": "Python 3"
    },
    "language_info": {
      "name": "python"
    }
  },
  "cells": [
    {
      "cell_type": "markdown",
      "metadata": {
        "id": "view-in-github",
        "colab_type": "text"
      },
      "source": [
        "<a href=\"https://colab.research.google.com/github/vvrgit/AI/blob/main/Optimization.ipynb\" target=\"_parent\"><img src=\"https://colab.research.google.com/assets/colab-badge.svg\" alt=\"Open In Colab\"/></a>"
      ]
    },
    {
      "cell_type": "markdown",
      "metadata": {
        "id": "O9nFdIoXIWCx"
      },
      "source": [
        "# **Linear Optimization**"
      ]
    },
    {
      "cell_type": "code",
      "metadata": {
        "colab": {
          "base_uri": "https://localhost:8080/"
        },
        "id": "Ce1MAoFE_GaS",
        "outputId": "b9b060d0-e1e2-4b23-b275-6392461d5792"
      },
      "source": [
        "#Import linprog funbction from scipy\n",
        "from scipy.optimize import linprog\n",
        "\n",
        "obj=[-6,-5]  #Objective Function\n",
        "\n",
        "#Constraints\n",
        "lhs_ieq=[[1,1],[3,2]]\n",
        "rhs_ieq=[5,12]\n",
        "\n",
        "#decisiopn Variable boundaries\n",
        "bnd=[(0,float(\"inf\")),(0,float(\"inf\"))]\n",
        "\n",
        "\n",
        "# Implementation of linprog function\n",
        "opt=linprog(c=obj,A_ub=lhs_ieq,b_ub=rhs_ieq,bounds=bnd,method=\"Simplex\")\n",
        "\n",
        "#Solution\n",
        "opt.x"
      ],
      "execution_count": null,
      "outputs": [
        {
          "output_type": "execute_result",
          "data": {
            "text/plain": [
              "array([2., 3.])"
            ]
          },
          "metadata": {
            "tags": []
          },
          "execution_count": 7
        }
      ]
    },
    {
      "cell_type": "markdown",
      "metadata": {
        "id": "iAdXEzF4D4Mf"
      },
      "source": [
        "# **Gradient Descent Optimization Algorithm**"
      ]
    },
    {
      "cell_type": "code",
      "metadata": {
        "colab": {
          "base_uri": "https://localhost:8080/"
        },
        "id": "RfBK9D4bEBcL",
        "outputId": "660e704e-6b22-454b-f8a5-5ec44e9b6470"
      },
      "source": [
        "import numpy as np\n",
        "x_o=np.random.uniform(-10,10)\n",
        "eta=0.9\n",
        "eps=0.00001\n",
        "max_iter=1000\n",
        "iter=0\n",
        "\n",
        "def derivative(x):\n",
        "  x_derivative=2*x\n",
        "  return x_derivative\n",
        "\n",
        "while iter<max_iter:\n",
        "  del_x=-eta*derivative(x_o)\n",
        "  x_o=x_o+del_x\n",
        "  iter=iter+1\n",
        "  #print(\"iteration=\",iter,\"\\n x value=\",x_o)\n",
        "\n",
        "print(\"solution x_o = \", round(x_o))\n",
        "\n",
        "\n"
      ],
      "execution_count": null,
      "outputs": [
        {
          "output_type": "stream",
          "text": [
            "solution x_o =  0\n"
          ],
          "name": "stdout"
        }
      ]
    },
    {
      "cell_type": "markdown",
      "metadata": {
        "id": "FuPmYWVBPF2Z"
      },
      "source": [
        "Min f(x)=x^2+5\n",
        "f(x) is objective function\n",
        "x is a control variable"
      ]
    },
    {
      "cell_type": "markdown",
      "metadata": {
        "id": "q-SvWd4XU7aT"
      },
      "source": [
        "Step1: Intialization of control variable (x) randomly, Initialize learning rate (eta), Initilize maximum number of iteration/epochs (iter_max)"
      ]
    },
    {
      "cell_type": "code",
      "metadata": {
        "id": "TCtpyOvUU1ry"
      },
      "source": [
        "import numpy as np\n",
        "x=np.random.uniform(-100,100)\n",
        "eta=0.9\n",
        "iter_max=200"
      ],
      "execution_count": null,
      "outputs": []
    },
    {
      "cell_type": "code",
      "metadata": {
        "colab": {
          "base_uri": "https://localhost:8080/"
        },
        "id": "ZKOF1b8DWJ8D",
        "outputId": "1f98867c-a7df-42bc-e0f7-f0889ae82818"
      },
      "source": [
        "iter=1\n",
        "while iter<=iter_max:\n",
        "  slope=2*x\n",
        "  step_length=-eta*slope\n",
        "  x=x+step_length\n",
        "  iter=iter+1\n",
        "print(\"control variable=\",round(x))\n",
        "obj=x*x+5\n",
        "print(\"objective function=\",obj)\n"
      ],
      "execution_count": null,
      "outputs": [
        {
          "output_type": "stream",
          "text": [
            "control variable= 0\n",
            "objective function= 5.0\n"
          ],
          "name": "stdout"
        }
      ]
    },
    {
      "cell_type": "markdown",
      "metadata": {
        "id": "bGQ4Fzmqy5n3"
      },
      "source": [
        "Multi Varibale Optimization Using Gradient Descent Algorithm"
      ]
    },
    {
      "cell_type": "markdown",
      "metadata": {
        "id": "tn2MRH32y_vH"
      },
      "source": [
        "Minimize x^2+y^2+10"
      ]
    },
    {
      "cell_type": "markdown",
      "metadata": {
        "id": "pgUs_E1zzKf-"
      },
      "source": [
        "Step1: Initialization"
      ]
    },
    {
      "cell_type": "code",
      "metadata": {
        "id": "kpV2992uX7l7"
      },
      "source": [
        "import numpy as np\n",
        "import math as mt\n",
        "eta=0.1\n",
        "x=np.random.uniform(-10,10)\n",
        "y=np.random.uniform(-10,10)\n",
        "itermax=100\n",
        "iter=1"
      ],
      "execution_count": 2,
      "outputs": []
    },
    {
      "cell_type": "markdown",
      "metadata": {
        "id": "gclrNF_Szjon"
      },
      "source": [
        "Iterative Algorithm"
      ]
    },
    {
      "cell_type": "code",
      "metadata": {
        "id": "VYYh6ENdzinH"
      },
      "source": [
        "while iter<=itermax:\n",
        "  delx=-eta*2*x\n",
        "  dely=-eta*2*y\n",
        "  x=x+delx\n",
        "  y=y+dely\n",
        "  iter=iter+1"
      ],
      "execution_count": 3,
      "outputs": []
    },
    {
      "cell_type": "markdown",
      "metadata": {
        "id": "aCMt5_6-z7_A"
      },
      "source": [
        "Print Solution"
      ]
    },
    {
      "cell_type": "code",
      "metadata": {
        "colab": {
          "base_uri": "https://localhost:8080/"
        },
        "id": "qqDSURcoz9b8",
        "outputId": "1b69fbb7-2961-4a8f-a695-b6cceaa96b67"
      },
      "source": [
        "obj=mt.pow(x,2)+mt.pow(y,2)+10\n",
        "print('Minimum value of objective function is',obj,'will get at x=',x,'y=',y)"
      ],
      "execution_count": 4,
      "outputs": [
        {
          "output_type": "stream",
          "name": "stdout",
          "text": [
            "Minimum value of objective function is 10.0 will get at x= 5.756840060899661e-11 y= 2.433438681975671e-10\n"
          ]
        }
      ]
    }
  ]
}
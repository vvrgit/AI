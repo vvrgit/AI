{
  "nbformat": 4,
  "nbformat_minor": 0,
  "metadata": {
    "colab": {
      "name": "Optimization.ipynb",
      "provenance": [],
      "authorship_tag": "ABX9TyO33z3BzEPb2raoj6VNImC3",
      "include_colab_link": true
    },
    "kernelspec": {
      "name": "python3",
      "display_name": "Python 3"
    },
    "language_info": {
      "name": "python"
    }
  },
  "cells": [
    {
      "cell_type": "markdown",
      "metadata": {
        "id": "view-in-github",
        "colab_type": "text"
      },
      "source": [
        "<a href=\"https://colab.research.google.com/github/vvrgit/AI/blob/main/Optimization.ipynb\" target=\"_parent\"><img src=\"https://colab.research.google.com/assets/colab-badge.svg\" alt=\"Open In Colab\"/></a>"
      ]
    },
    {
      "cell_type": "markdown",
      "metadata": {
        "id": "O9nFdIoXIWCx"
      },
      "source": [
        "# **Linear Optimization**"
      ]
    },
    {
      "cell_type": "code",
      "metadata": {
        "colab": {
          "base_uri": "https://localhost:8080/"
        },
        "id": "Ce1MAoFE_GaS",
        "outputId": "b9b060d0-e1e2-4b23-b275-6392461d5792"
      },
      "source": [
        "#Import linprog funbction from scipy\n",
        "from scipy.optimize import linprog\n",
        "\n",
        "obj=[-6,-5]  #Objective Function\n",
        "\n",
        "#Constraints\n",
        "lhs_ieq=[[1,1],[3,2]]\n",
        "rhs_ieq=[5,12]\n",
        "\n",
        "#decisiopn Variable boundaries\n",
        "bnd=[(0,float(\"inf\")),(0,float(\"inf\"))]\n",
        "\n",
        "\n",
        "# Implementation of linprog function\n",
        "opt=linprog(c=obj,A_ub=lhs_ieq,b_ub=rhs_ieq,bounds=bnd,method=\"Simplex\")\n",
        "\n",
        "#Solution\n",
        "opt.x"
      ],
      "execution_count": 7,
      "outputs": [
        {
          "output_type": "execute_result",
          "data": {
            "text/plain": [
              "array([2., 3.])"
            ]
          },
          "metadata": {
            "tags": []
          },
          "execution_count": 7
        }
      ]
    },
    {
      "cell_type": "markdown",
      "metadata": {
        "id": "iAdXEzF4D4Mf"
      },
      "source": [
        "# **Gradient Descent Optimization Algorithm**"
      ]
    },
    {
      "cell_type": "code",
      "metadata": {
        "colab": {
          "base_uri": "https://localhost:8080/"
        },
        "id": "RfBK9D4bEBcL",
        "outputId": "b371dcaa-df44-4b92-b23e-78f6cc2a54e0"
      },
      "source": [
        "import numpy as np\n",
        "x_o=np.random.uniform(-10,10)\n",
        "eta=0.9\n",
        "eps=0.00001\n",
        "max_iter=1000\n",
        "iter=0\n",
        "\n",
        "def derivative(x):\n",
        "  x_derivative=2*x\n",
        "  return x_derivative\n",
        "\n",
        "while iter<max_iter:\n",
        "  del_x=-eta*derivative(x_o)\n",
        "  x_o=x_o+del_x\n",
        "  iter=iter+1\n",
        "  #print(\"iteration=\",iter,\"\\n x value=\",x_o)\n",
        "\n",
        "print(\"solution x_o = \", round(x_o))\n",
        "\n",
        "\n"
      ],
      "execution_count": 12,
      "outputs": [
        {
          "output_type": "stream",
          "text": [
            "solution x_o =  0\n"
          ],
          "name": "stdout"
        }
      ]
    }
  ]
}
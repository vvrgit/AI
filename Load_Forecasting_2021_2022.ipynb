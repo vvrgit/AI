{
  "nbformat": 4,
  "nbformat_minor": 0,
  "metadata": {
    "colab": {
      "name": "Load_Forecasting_2021_2022.ipynb",
      "provenance": [],
      "include_colab_link": true
    },
    "kernelspec": {
      "name": "python3",
      "display_name": "Python 3"
    },
    "language_info": {
      "name": "python"
    }
  },
  "cells": [
    {
      "cell_type": "markdown",
      "metadata": {
        "id": "view-in-github",
        "colab_type": "text"
      },
      "source": [
        "<a href=\"https://colab.research.google.com/github/vvrgit/AI/blob/main/Load_Forecasting_2021_2022.ipynb\" target=\"_parent\"><img src=\"https://colab.research.google.com/assets/colab-badge.svg\" alt=\"Open In Colab\"/></a>"
      ]
    },
    {
      "cell_type": "markdown",
      "metadata": {
        "id": "Xze3BMhpMtbw"
      },
      "source": [
        "# Import required libraries"
      ]
    },
    {
      "cell_type": "code",
      "metadata": {
        "id": "ReKKTAewMqow"
      },
      "source": [
        "import numpy as np\n",
        "import math as mt\n",
        "import random\n",
        "import pandas as pd\n",
        "import matplotlib.pyplot as plt"
      ],
      "execution_count": 1,
      "outputs": []
    },
    {
      "cell_type": "markdown",
      "metadata": {
        "id": "szK6zzn5Mwb5"
      },
      "source": [
        "## Import Data"
      ]
    },
    {
      "cell_type": "code",
      "metadata": {
        "colab": {
          "base_uri": "https://localhost:8080/",
          "height": 374
        },
        "id": "op6JfZsAMvbo",
        "outputId": "81afee9f-2768-45ab-ad95-6dc17c285cae"
      },
      "source": [
        "data = pd.read_excel('/content/Active Power Load - 33_11KV - Godishala Substation  (1).xlsx')\n",
        "data.head()"
      ],
      "execution_count": 4,
      "outputs": [
        {
          "output_type": "execute_result",
          "data": {
            "text/html": [
              "\n",
              "  <div id=\"df-ade943cb-cea9-4131-802f-852a01fff65e\">\n",
              "    <div class=\"colab-df-container\">\n",
              "      <div>\n",
              "<style scoped>\n",
              "    .dataframe tbody tr th:only-of-type {\n",
              "        vertical-align: middle;\n",
              "    }\n",
              "\n",
              "    .dataframe tbody tr th {\n",
              "        vertical-align: top;\n",
              "    }\n",
              "\n",
              "    .dataframe thead th {\n",
              "        text-align: right;\n",
              "    }\n",
              "</style>\n",
              "<table border=\"1\" class=\"dataframe\">\n",
              "  <thead>\n",
              "    <tr style=\"text-align: right;\">\n",
              "      <th></th>\n",
              "      <th>DATE</th>\n",
              "      <th>TIME</th>\n",
              "      <th>VOLTAGE</th>\n",
              "      <th>CURRENT</th>\n",
              "      <th>PF</th>\n",
              "      <th>POWER (KW)</th>\n",
              "      <th>\"WEEKEND/WEEKDAY\"</th>\n",
              "      <th>SEASON</th>\n",
              "      <th>Temp (F)</th>\n",
              "      <th>Humidity (%)</th>\n",
              "      <th>Substation Shutdown</th>\n",
              "      <th>F1</th>\n",
              "      <th>F2</th>\n",
              "      <th>F3</th>\n",
              "      <th>F4</th>\n",
              "      <th>Jul-Oct-</th>\n",
              "      <th>Rainy</th>\n",
              "      <th>0</th>\n",
              "    </tr>\n",
              "  </thead>\n",
              "  <tbody>\n",
              "    <tr>\n",
              "      <th>0</th>\n",
              "      <td>2021-01-01</td>\n",
              "      <td>01-00</td>\n",
              "      <td>11.6</td>\n",
              "      <td>102</td>\n",
              "      <td>0.96</td>\n",
              "      <td>1967.388015</td>\n",
              "      <td>0</td>\n",
              "      <td>1</td>\n",
              "      <td>65</td>\n",
              "      <td>90</td>\n",
              "      <td>NaN</td>\n",
              "      <td>NaN</td>\n",
              "      <td>NaN</td>\n",
              "      <td>NaN</td>\n",
              "      <td>NaN</td>\n",
              "      <td>Nov-Feb</td>\n",
              "      <td>Winter</td>\n",
              "      <td>1.0</td>\n",
              "    </tr>\n",
              "    <tr>\n",
              "      <th>1</th>\n",
              "      <td>NaT</td>\n",
              "      <td>02-00</td>\n",
              "      <td>11.6</td>\n",
              "      <td>102</td>\n",
              "      <td>0.96</td>\n",
              "      <td>1967.388015</td>\n",
              "      <td>0</td>\n",
              "      <td>1</td>\n",
              "      <td>65</td>\n",
              "      <td>90</td>\n",
              "      <td>NaN</td>\n",
              "      <td>NaN</td>\n",
              "      <td>NaN</td>\n",
              "      <td>NaN</td>\n",
              "      <td>NaN</td>\n",
              "      <td>Mar-Jun</td>\n",
              "      <td>Summer</td>\n",
              "      <td>2.0</td>\n",
              "    </tr>\n",
              "    <tr>\n",
              "      <th>2</th>\n",
              "      <td>NaT</td>\n",
              "      <td>03-00</td>\n",
              "      <td>11.6</td>\n",
              "      <td>102</td>\n",
              "      <td>0.96</td>\n",
              "      <td>1967.388015</td>\n",
              "      <td>0</td>\n",
              "      <td>1</td>\n",
              "      <td>65</td>\n",
              "      <td>90</td>\n",
              "      <td>NaN</td>\n",
              "      <td>NaN</td>\n",
              "      <td>NaN</td>\n",
              "      <td>NaN</td>\n",
              "      <td>NaN</td>\n",
              "      <td>NaN</td>\n",
              "      <td>NaN</td>\n",
              "      <td>NaN</td>\n",
              "    </tr>\n",
              "    <tr>\n",
              "      <th>3</th>\n",
              "      <td>NaT</td>\n",
              "      <td>04-00</td>\n",
              "      <td>11.3</td>\n",
              "      <td>130</td>\n",
              "      <td>0.96</td>\n",
              "      <td>2442.607331</td>\n",
              "      <td>0</td>\n",
              "      <td>1</td>\n",
              "      <td>78</td>\n",
              "      <td>49</td>\n",
              "      <td>NaN</td>\n",
              "      <td>NaN</td>\n",
              "      <td>NaN</td>\n",
              "      <td>NaN</td>\n",
              "      <td>NaN</td>\n",
              "      <td>Weekend</td>\n",
              "      <td>1</td>\n",
              "      <td>NaN</td>\n",
              "    </tr>\n",
              "    <tr>\n",
              "      <th>4</th>\n",
              "      <td>NaT</td>\n",
              "      <td>05-00</td>\n",
              "      <td>11.2</td>\n",
              "      <td>148</td>\n",
              "      <td>0.96</td>\n",
              "      <td>2756.205522</td>\n",
              "      <td>0</td>\n",
              "      <td>1</td>\n",
              "      <td>78</td>\n",
              "      <td>49</td>\n",
              "      <td>NaN</td>\n",
              "      <td>NaN</td>\n",
              "      <td>NaN</td>\n",
              "      <td>NaN</td>\n",
              "      <td>NaN</td>\n",
              "      <td>Weekday</td>\n",
              "      <td>0</td>\n",
              "      <td>NaN</td>\n",
              "    </tr>\n",
              "  </tbody>\n",
              "</table>\n",
              "</div>\n",
              "      <button class=\"colab-df-convert\" onclick=\"convertToInteractive('df-ade943cb-cea9-4131-802f-852a01fff65e')\"\n",
              "              title=\"Convert this dataframe to an interactive table.\"\n",
              "              style=\"display:none;\">\n",
              "        \n",
              "  <svg xmlns=\"http://www.w3.org/2000/svg\" height=\"24px\"viewBox=\"0 0 24 24\"\n",
              "       width=\"24px\">\n",
              "    <path d=\"M0 0h24v24H0V0z\" fill=\"none\"/>\n",
              "    <path d=\"M18.56 5.44l.94 2.06.94-2.06 2.06-.94-2.06-.94-.94-2.06-.94 2.06-2.06.94zm-11 1L8.5 8.5l.94-2.06 2.06-.94-2.06-.94L8.5 2.5l-.94 2.06-2.06.94zm10 10l.94 2.06.94-2.06 2.06-.94-2.06-.94-.94-2.06-.94 2.06-2.06.94z\"/><path d=\"M17.41 7.96l-1.37-1.37c-.4-.4-.92-.59-1.43-.59-.52 0-1.04.2-1.43.59L10.3 9.45l-7.72 7.72c-.78.78-.78 2.05 0 2.83L4 21.41c.39.39.9.59 1.41.59.51 0 1.02-.2 1.41-.59l7.78-7.78 2.81-2.81c.8-.78.8-2.07 0-2.86zM5.41 20L4 18.59l7.72-7.72 1.47 1.35L5.41 20z\"/>\n",
              "  </svg>\n",
              "      </button>\n",
              "      \n",
              "  <style>\n",
              "    .colab-df-container {\n",
              "      display:flex;\n",
              "      flex-wrap:wrap;\n",
              "      gap: 12px;\n",
              "    }\n",
              "\n",
              "    .colab-df-convert {\n",
              "      background-color: #E8F0FE;\n",
              "      border: none;\n",
              "      border-radius: 50%;\n",
              "      cursor: pointer;\n",
              "      display: none;\n",
              "      fill: #1967D2;\n",
              "      height: 32px;\n",
              "      padding: 0 0 0 0;\n",
              "      width: 32px;\n",
              "    }\n",
              "\n",
              "    .colab-df-convert:hover {\n",
              "      background-color: #E2EBFA;\n",
              "      box-shadow: 0px 1px 2px rgba(60, 64, 67, 0.3), 0px 1px 3px 1px rgba(60, 64, 67, 0.15);\n",
              "      fill: #174EA6;\n",
              "    }\n",
              "\n",
              "    [theme=dark] .colab-df-convert {\n",
              "      background-color: #3B4455;\n",
              "      fill: #D2E3FC;\n",
              "    }\n",
              "\n",
              "    [theme=dark] .colab-df-convert:hover {\n",
              "      background-color: #434B5C;\n",
              "      box-shadow: 0px 1px 3px 1px rgba(0, 0, 0, 0.15);\n",
              "      filter: drop-shadow(0px 1px 2px rgba(0, 0, 0, 0.3));\n",
              "      fill: #FFFFFF;\n",
              "    }\n",
              "  </style>\n",
              "\n",
              "      <script>\n",
              "        const buttonEl =\n",
              "          document.querySelector('#df-ade943cb-cea9-4131-802f-852a01fff65e button.colab-df-convert');\n",
              "        buttonEl.style.display =\n",
              "          google.colab.kernel.accessAllowed ? 'block' : 'none';\n",
              "\n",
              "        async function convertToInteractive(key) {\n",
              "          const element = document.querySelector('#df-ade943cb-cea9-4131-802f-852a01fff65e');\n",
              "          const dataTable =\n",
              "            await google.colab.kernel.invokeFunction('convertToInteractive',\n",
              "                                                     [key], {});\n",
              "          if (!dataTable) return;\n",
              "\n",
              "          const docLinkHtml = 'Like what you see? Visit the ' +\n",
              "            '<a target=\"_blank\" href=https://colab.research.google.com/notebooks/data_table.ipynb>data table notebook</a>'\n",
              "            + ' to learn more about interactive tables.';\n",
              "          element.innerHTML = '';\n",
              "          dataTable['output_type'] = 'display_data';\n",
              "          await google.colab.output.renderOutput(dataTable, element);\n",
              "          const docLink = document.createElement('div');\n",
              "          docLink.innerHTML = docLinkHtml;\n",
              "          element.appendChild(docLink);\n",
              "        }\n",
              "      </script>\n",
              "    </div>\n",
              "  </div>\n",
              "  "
            ],
            "text/plain": [
              "        DATE   TIME  VOLTAGE  CURRENT    PF  ...  F3  F4  Jul-Oct-   Rainy    0\n",
              "0 2021-01-01  01-00     11.6      102  0.96  ... NaN NaN   Nov-Feb  Winter  1.0\n",
              "1        NaT  02-00     11.6      102  0.96  ... NaN NaN   Mar-Jun  Summer  2.0\n",
              "2        NaT  03-00     11.6      102  0.96  ... NaN NaN       NaN     NaN  NaN\n",
              "3        NaT  04-00     11.3      130  0.96  ... NaN NaN   Weekend       1  NaN\n",
              "4        NaT  05-00     11.2      148  0.96  ... NaN NaN   Weekday       0  NaN\n",
              "\n",
              "[5 rows x 18 columns]"
            ]
          },
          "metadata": {},
          "execution_count": 4
        }
      ]
    },
    {
      "cell_type": "code",
      "source": [
        "data.describe()"
      ],
      "metadata": {
        "id": "--u0f7t6MIq1",
        "outputId": "d89aabf8-5d4e-4669-ec29-18c626e8b2e9",
        "colab": {
          "base_uri": "https://localhost:8080/",
          "height": 382
        }
      },
      "execution_count": null,
      "outputs": [
        {
          "output_type": "execute_result",
          "data": {
            "text/html": [
              "\n",
              "  <div id=\"df-c256cd99-27cc-4e06-923f-54eb59f0efb8\">\n",
              "    <div class=\"colab-df-container\">\n",
              "      <div>\n",
              "<style scoped>\n",
              "    .dataframe tbody tr th:only-of-type {\n",
              "        vertical-align: middle;\n",
              "    }\n",
              "\n",
              "    .dataframe tbody tr th {\n",
              "        vertical-align: top;\n",
              "    }\n",
              "\n",
              "    .dataframe thead th {\n",
              "        text-align: right;\n",
              "    }\n",
              "</style>\n",
              "<table border=\"1\" class=\"dataframe\">\n",
              "  <thead>\n",
              "    <tr style=\"text-align: right;\">\n",
              "      <th></th>\n",
              "      <th>VOLTAGE</th>\n",
              "      <th>CURRENT</th>\n",
              "      <th>PF</th>\n",
              "      <th>POWER (KW)</th>\n",
              "      <th>\"WEEKEND/WEEKDAY\"</th>\n",
              "      <th>SEASON</th>\n",
              "      <th>Temp (F)</th>\n",
              "      <th>Humidity (%)</th>\n",
              "      <th>Substation Shutdown</th>\n",
              "      <th>F1</th>\n",
              "      <th>F2</th>\n",
              "      <th>F3</th>\n",
              "      <th>F4</th>\n",
              "      <th>0</th>\n",
              "    </tr>\n",
              "  </thead>\n",
              "  <tbody>\n",
              "    <tr>\n",
              "      <th>count</th>\n",
              "      <td>8760.000000</td>\n",
              "      <td>8760.000000</td>\n",
              "      <td>8760.000000</td>\n",
              "      <td>8760.000000</td>\n",
              "      <td>8760.000000</td>\n",
              "      <td>8760.00000</td>\n",
              "      <td>8760.000000</td>\n",
              "      <td>8760.000000</td>\n",
              "      <td>66.0</td>\n",
              "      <td>25.0</td>\n",
              "      <td>71.0</td>\n",
              "      <td>97.0</td>\n",
              "      <td>46.0</td>\n",
              "      <td>2.000000</td>\n",
              "    </tr>\n",
              "    <tr>\n",
              "      <th>mean</th>\n",
              "      <td>11.550228</td>\n",
              "      <td>114.802854</td>\n",
              "      <td>0.929584</td>\n",
              "      <td>2129.985907</td>\n",
              "      <td>0.142466</td>\n",
              "      <td>0.99726</td>\n",
              "      <td>81.184132</td>\n",
              "      <td>67.726712</td>\n",
              "      <td>1.0</td>\n",
              "      <td>1.0</td>\n",
              "      <td>1.0</td>\n",
              "      <td>1.0</td>\n",
              "      <td>1.0</td>\n",
              "      <td>1.500000</td>\n",
              "    </tr>\n",
              "    <tr>\n",
              "      <th>std</th>\n",
              "      <td>0.179907</td>\n",
              "      <td>69.966107</td>\n",
              "      <td>0.058151</td>\n",
              "      <td>1302.278205</td>\n",
              "      <td>0.349547</td>\n",
              "      <td>0.81933</td>\n",
              "      <td>8.881827</td>\n",
              "      <td>20.684501</td>\n",
              "      <td>0.0</td>\n",
              "      <td>0.0</td>\n",
              "      <td>0.0</td>\n",
              "      <td>0.0</td>\n",
              "      <td>0.0</td>\n",
              "      <td>0.707107</td>\n",
              "    </tr>\n",
              "    <tr>\n",
              "      <th>min</th>\n",
              "      <td>11.000000</td>\n",
              "      <td>21.000000</td>\n",
              "      <td>0.690000</td>\n",
              "      <td>412.034103</td>\n",
              "      <td>0.000000</td>\n",
              "      <td>0.00000</td>\n",
              "      <td>50.000000</td>\n",
              "      <td>14.000000</td>\n",
              "      <td>1.0</td>\n",
              "      <td>1.0</td>\n",
              "      <td>1.0</td>\n",
              "      <td>1.0</td>\n",
              "      <td>1.0</td>\n",
              "      <td>1.000000</td>\n",
              "    </tr>\n",
              "    <tr>\n",
              "      <th>25%</th>\n",
              "      <td>11.400000</td>\n",
              "      <td>56.750000</td>\n",
              "      <td>0.900000</td>\n",
              "      <td>1062.656472</td>\n",
              "      <td>0.000000</td>\n",
              "      <td>0.00000</td>\n",
              "      <td>76.000000</td>\n",
              "      <td>52.000000</td>\n",
              "      <td>1.0</td>\n",
              "      <td>1.0</td>\n",
              "      <td>1.0</td>\n",
              "      <td>1.0</td>\n",
              "      <td>1.0</td>\n",
              "      <td>1.250000</td>\n",
              "    </tr>\n",
              "    <tr>\n",
              "      <th>50%</th>\n",
              "      <td>11.600000</td>\n",
              "      <td>92.000000</td>\n",
              "      <td>0.960000</td>\n",
              "      <td>1683.688485</td>\n",
              "      <td>0.000000</td>\n",
              "      <td>1.00000</td>\n",
              "      <td>81.000000</td>\n",
              "      <td>72.000000</td>\n",
              "      <td>1.0</td>\n",
              "      <td>1.0</td>\n",
              "      <td>1.0</td>\n",
              "      <td>1.0</td>\n",
              "      <td>1.0</td>\n",
              "      <td>1.500000</td>\n",
              "    </tr>\n",
              "    <tr>\n",
              "      <th>75%</th>\n",
              "      <td>11.700000</td>\n",
              "      <td>164.000000</td>\n",
              "      <td>0.970000</td>\n",
              "      <td>3025.768919</td>\n",
              "      <td>0.000000</td>\n",
              "      <td>2.00000</td>\n",
              "      <td>86.000000</td>\n",
              "      <td>87.000000</td>\n",
              "      <td>1.0</td>\n",
              "      <td>1.0</td>\n",
              "      <td>1.0</td>\n",
              "      <td>1.0</td>\n",
              "      <td>1.0</td>\n",
              "      <td>1.750000</td>\n",
              "    </tr>\n",
              "    <tr>\n",
              "      <th>max</th>\n",
              "      <td>12.000000</td>\n",
              "      <td>379.000000</td>\n",
              "      <td>1.000000</td>\n",
              "      <td>6306.206465</td>\n",
              "      <td>1.000000</td>\n",
              "      <td>2.00000</td>\n",
              "      <td>108.000000</td>\n",
              "      <td>102.000000</td>\n",
              "      <td>1.0</td>\n",
              "      <td>1.0</td>\n",
              "      <td>1.0</td>\n",
              "      <td>1.0</td>\n",
              "      <td>1.0</td>\n",
              "      <td>2.000000</td>\n",
              "    </tr>\n",
              "  </tbody>\n",
              "</table>\n",
              "</div>\n",
              "      <button class=\"colab-df-convert\" onclick=\"convertToInteractive('df-c256cd99-27cc-4e06-923f-54eb59f0efb8')\"\n",
              "              title=\"Convert this dataframe to an interactive table.\"\n",
              "              style=\"display:none;\">\n",
              "        \n",
              "  <svg xmlns=\"http://www.w3.org/2000/svg\" height=\"24px\"viewBox=\"0 0 24 24\"\n",
              "       width=\"24px\">\n",
              "    <path d=\"M0 0h24v24H0V0z\" fill=\"none\"/>\n",
              "    <path d=\"M18.56 5.44l.94 2.06.94-2.06 2.06-.94-2.06-.94-.94-2.06-.94 2.06-2.06.94zm-11 1L8.5 8.5l.94-2.06 2.06-.94-2.06-.94L8.5 2.5l-.94 2.06-2.06.94zm10 10l.94 2.06.94-2.06 2.06-.94-2.06-.94-.94-2.06-.94 2.06-2.06.94z\"/><path d=\"M17.41 7.96l-1.37-1.37c-.4-.4-.92-.59-1.43-.59-.52 0-1.04.2-1.43.59L10.3 9.45l-7.72 7.72c-.78.78-.78 2.05 0 2.83L4 21.41c.39.39.9.59 1.41.59.51 0 1.02-.2 1.41-.59l7.78-7.78 2.81-2.81c.8-.78.8-2.07 0-2.86zM5.41 20L4 18.59l7.72-7.72 1.47 1.35L5.41 20z\"/>\n",
              "  </svg>\n",
              "      </button>\n",
              "      \n",
              "  <style>\n",
              "    .colab-df-container {\n",
              "      display:flex;\n",
              "      flex-wrap:wrap;\n",
              "      gap: 12px;\n",
              "    }\n",
              "\n",
              "    .colab-df-convert {\n",
              "      background-color: #E8F0FE;\n",
              "      border: none;\n",
              "      border-radius: 50%;\n",
              "      cursor: pointer;\n",
              "      display: none;\n",
              "      fill: #1967D2;\n",
              "      height: 32px;\n",
              "      padding: 0 0 0 0;\n",
              "      width: 32px;\n",
              "    }\n",
              "\n",
              "    .colab-df-convert:hover {\n",
              "      background-color: #E2EBFA;\n",
              "      box-shadow: 0px 1px 2px rgba(60, 64, 67, 0.3), 0px 1px 3px 1px rgba(60, 64, 67, 0.15);\n",
              "      fill: #174EA6;\n",
              "    }\n",
              "\n",
              "    [theme=dark] .colab-df-convert {\n",
              "      background-color: #3B4455;\n",
              "      fill: #D2E3FC;\n",
              "    }\n",
              "\n",
              "    [theme=dark] .colab-df-convert:hover {\n",
              "      background-color: #434B5C;\n",
              "      box-shadow: 0px 1px 3px 1px rgba(0, 0, 0, 0.15);\n",
              "      filter: drop-shadow(0px 1px 2px rgba(0, 0, 0, 0.3));\n",
              "      fill: #FFFFFF;\n",
              "    }\n",
              "  </style>\n",
              "\n",
              "      <script>\n",
              "        const buttonEl =\n",
              "          document.querySelector('#df-c256cd99-27cc-4e06-923f-54eb59f0efb8 button.colab-df-convert');\n",
              "        buttonEl.style.display =\n",
              "          google.colab.kernel.accessAllowed ? 'block' : 'none';\n",
              "\n",
              "        async function convertToInteractive(key) {\n",
              "          const element = document.querySelector('#df-c256cd99-27cc-4e06-923f-54eb59f0efb8');\n",
              "          const dataTable =\n",
              "            await google.colab.kernel.invokeFunction('convertToInteractive',\n",
              "                                                     [key], {});\n",
              "          if (!dataTable) return;\n",
              "\n",
              "          const docLinkHtml = 'Like what you see? Visit the ' +\n",
              "            '<a target=\"_blank\" href=https://colab.research.google.com/notebooks/data_table.ipynb>data table notebook</a>'\n",
              "            + ' to learn more about interactive tables.';\n",
              "          element.innerHTML = '';\n",
              "          dataTable['output_type'] = 'display_data';\n",
              "          await google.colab.output.renderOutput(dataTable, element);\n",
              "          const docLink = document.createElement('div');\n",
              "          docLink.innerHTML = docLinkHtml;\n",
              "          element.appendChild(docLink);\n",
              "        }\n",
              "      </script>\n",
              "    </div>\n",
              "  </div>\n",
              "  "
            ],
            "text/plain": [
              "           VOLTAGE      CURRENT           PF  ...    F3    F4         0\n",
              "count  8760.000000  8760.000000  8760.000000  ...  97.0  46.0  2.000000\n",
              "mean     11.550228   114.802854     0.929584  ...   1.0   1.0  1.500000\n",
              "std       0.179907    69.966107     0.058151  ...   0.0   0.0  0.707107\n",
              "min      11.000000    21.000000     0.690000  ...   1.0   1.0  1.000000\n",
              "25%      11.400000    56.750000     0.900000  ...   1.0   1.0  1.250000\n",
              "50%      11.600000    92.000000     0.960000  ...   1.0   1.0  1.500000\n",
              "75%      11.700000   164.000000     0.970000  ...   1.0   1.0  1.750000\n",
              "max      12.000000   379.000000     1.000000  ...   1.0   1.0  2.000000\n",
              "\n",
              "[8 rows x 14 columns]"
            ]
          },
          "metadata": {},
          "execution_count": 19
        }
      ]
    },
    {
      "cell_type": "code",
      "source": [
        "load=data.iloc[:,5]\n",
        "temp=data.iloc[:,8]\n",
        "hum=data.iloc[:,9]\n",
        "day_status=data.iloc[:,6]\n",
        "season_status=data.iloc[:,7]"
      ],
      "metadata": {
        "id": "pBQbBSAFJehK"
      },
      "execution_count": 5,
      "outputs": []
    },
    {
      "cell_type": "code",
      "source": [
        "k=48\n",
        "a=np.zeros((len(load)-48,9))\n",
        "a.shape\n",
        "a[:,4]=day_status.iloc[48:]\n",
        "a[:,5]=season_status.iloc[48:]\n",
        "a[:,6]=temp.iloc[48:]\n",
        "a[:,7]=hum.iloc[48:]\n",
        "a[:,8]=load.iloc[48:]\n",
        "for i in range(8712):\n",
        "  a[i,0],a[i,1],a[i,2],a[i,3]=load.iloc[k-1],load.iloc[k-2],load.iloc[k-24],load.iloc[k-48]\n",
        "  k=k+1\n",
        "a\n"
      ],
      "metadata": {
        "id": "Idue5JvMLLz-",
        "outputId": "e5f67321-4774-4fe9-8758-45f948128cd3",
        "colab": {
          "base_uri": "https://localhost:8080/"
        }
      },
      "execution_count": 9,
      "outputs": [
        {
          "output_type": "execute_result",
          "data": {
            "text/plain": [
              "array([[2175.94078853,  446.57465972, 1828.91574898, ...,   65.        ,\n",
              "          92.        , 2236.75655649],\n",
              "       [2236.75655649, 2175.94078853, 1828.91574898, ...,   65.        ,\n",
              "          92.        , 2236.75655649],\n",
              "       [2236.75655649, 2236.75655649, 1828.91574898, ...,   65.        ,\n",
              "          92.        , 2354.48058578],\n",
              "       ...,\n",
              "       [1173.20461451, 1221.58079356,  898.72652303, ...,   65.        ,\n",
              "          94.        , 1078.59133914],\n",
              "       [1078.59133914, 1173.20461451, 2023.11155348, ...,   65.        ,\n",
              "          94.        ,  908.28744349],\n",
              "       [ 908.28744349, 1078.59133914, 2023.11155348, ...,   65.        ,\n",
              "          94.        ,  839.83679557]])"
            ]
          },
          "metadata": {},
          "execution_count": 9
        }
      ]
    },
    {
      "cell_type": "code",
      "source": [
        "df = pd.DataFrame(a, columns = ['T-1','T-2','T-24','T-48','DAY','SEASON','TEMP','HUMIDITY','T'])\n",
        "df"
      ],
      "metadata": {
        "id": "xtmVJvvRQaak",
        "outputId": "d06469f2-8f0d-4719-b9a9-dc77f3d5a153",
        "colab": {
          "base_uri": "https://localhost:8080/",
          "height": 423
        }
      },
      "execution_count": 10,
      "outputs": [
        {
          "output_type": "execute_result",
          "data": {
            "text/html": [
              "\n",
              "  <div id=\"df-d3d017e5-6322-4f2f-ab94-039ddb1e094e\">\n",
              "    <div class=\"colab-df-container\">\n",
              "      <div>\n",
              "<style scoped>\n",
              "    .dataframe tbody tr th:only-of-type {\n",
              "        vertical-align: middle;\n",
              "    }\n",
              "\n",
              "    .dataframe tbody tr th {\n",
              "        vertical-align: top;\n",
              "    }\n",
              "\n",
              "    .dataframe thead th {\n",
              "        text-align: right;\n",
              "    }\n",
              "</style>\n",
              "<table border=\"1\" class=\"dataframe\">\n",
              "  <thead>\n",
              "    <tr style=\"text-align: right;\">\n",
              "      <th></th>\n",
              "      <th>T-1</th>\n",
              "      <th>T-2</th>\n",
              "      <th>T-24</th>\n",
              "      <th>T-48</th>\n",
              "      <th>DAY</th>\n",
              "      <th>SEASON</th>\n",
              "      <th>TEMP</th>\n",
              "      <th>HUMIDITY</th>\n",
              "      <th>T</th>\n",
              "    </tr>\n",
              "  </thead>\n",
              "  <tbody>\n",
              "    <tr>\n",
              "      <th>0</th>\n",
              "      <td>2175.940789</td>\n",
              "      <td>446.574660</td>\n",
              "      <td>1828.915749</td>\n",
              "      <td>1967.388015</td>\n",
              "      <td>1.0</td>\n",
              "      <td>1.0</td>\n",
              "      <td>65.0</td>\n",
              "      <td>92.0</td>\n",
              "      <td>2236.756556</td>\n",
              "    </tr>\n",
              "    <tr>\n",
              "      <th>1</th>\n",
              "      <td>2236.756556</td>\n",
              "      <td>2175.940789</td>\n",
              "      <td>1828.915749</td>\n",
              "      <td>1967.388015</td>\n",
              "      <td>1.0</td>\n",
              "      <td>1.0</td>\n",
              "      <td>65.0</td>\n",
              "      <td>92.0</td>\n",
              "      <td>2236.756556</td>\n",
              "    </tr>\n",
              "    <tr>\n",
              "      <th>2</th>\n",
              "      <td>2236.756556</td>\n",
              "      <td>2236.756556</td>\n",
              "      <td>1828.915749</td>\n",
              "      <td>1967.388015</td>\n",
              "      <td>1.0</td>\n",
              "      <td>1.0</td>\n",
              "      <td>65.0</td>\n",
              "      <td>92.0</td>\n",
              "      <td>2354.480586</td>\n",
              "    </tr>\n",
              "    <tr>\n",
              "      <th>3</th>\n",
              "      <td>2354.480586</td>\n",
              "      <td>2236.756556</td>\n",
              "      <td>1892.265507</td>\n",
              "      <td>2442.607331</td>\n",
              "      <td>1.0</td>\n",
              "      <td>1.0</td>\n",
              "      <td>77.0</td>\n",
              "      <td>52.0</td>\n",
              "      <td>2511.445958</td>\n",
              "    </tr>\n",
              "    <tr>\n",
              "      <th>4</th>\n",
              "      <td>2511.445958</td>\n",
              "      <td>2354.480586</td>\n",
              "      <td>2532.344883</td>\n",
              "      <td>2756.205522</td>\n",
              "      <td>1.0</td>\n",
              "      <td>1.0</td>\n",
              "      <td>77.0</td>\n",
              "      <td>52.0</td>\n",
              "      <td>2805.756031</td>\n",
              "    </tr>\n",
              "    <tr>\n",
              "      <th>...</th>\n",
              "      <td>...</td>\n",
              "      <td>...</td>\n",
              "      <td>...</td>\n",
              "      <td>...</td>\n",
              "      <td>...</td>\n",
              "      <td>...</td>\n",
              "      <td>...</td>\n",
              "      <td>...</td>\n",
              "      <td>...</td>\n",
              "    </tr>\n",
              "    <tr>\n",
              "      <th>8707</th>\n",
              "      <td>1240.667993</td>\n",
              "      <td>1011.621595</td>\n",
              "      <td>1160.855092</td>\n",
              "      <td>1154.281959</td>\n",
              "      <td>0.0</td>\n",
              "      <td>1.0</td>\n",
              "      <td>67.0</td>\n",
              "      <td>92.0</td>\n",
              "      <td>1221.580794</td>\n",
              "    </tr>\n",
              "    <tr>\n",
              "      <th>8708</th>\n",
              "      <td>1221.580794</td>\n",
              "      <td>1240.667993</td>\n",
              "      <td>1011.067338</td>\n",
              "      <td>965.055409</td>\n",
              "      <td>0.0</td>\n",
              "      <td>1.0</td>\n",
              "      <td>67.0</td>\n",
              "      <td>92.0</td>\n",
              "      <td>1173.204615</td>\n",
              "    </tr>\n",
              "    <tr>\n",
              "      <th>8709</th>\n",
              "      <td>1173.204615</td>\n",
              "      <td>1221.580794</td>\n",
              "      <td>898.726523</td>\n",
              "      <td>851.519478</td>\n",
              "      <td>0.0</td>\n",
              "      <td>1.0</td>\n",
              "      <td>65.0</td>\n",
              "      <td>94.0</td>\n",
              "      <td>1078.591339</td>\n",
              "    </tr>\n",
              "    <tr>\n",
              "      <th>8710</th>\n",
              "      <td>1078.591339</td>\n",
              "      <td>1173.204615</td>\n",
              "      <td>2023.111553</td>\n",
              "      <td>2668.094365</td>\n",
              "      <td>0.0</td>\n",
              "      <td>1.0</td>\n",
              "      <td>65.0</td>\n",
              "      <td>94.0</td>\n",
              "      <td>908.287443</td>\n",
              "    </tr>\n",
              "    <tr>\n",
              "      <th>8711</th>\n",
              "      <td>908.287443</td>\n",
              "      <td>1078.591339</td>\n",
              "      <td>2023.111553</td>\n",
              "      <td>2724.862330</td>\n",
              "      <td>0.0</td>\n",
              "      <td>1.0</td>\n",
              "      <td>65.0</td>\n",
              "      <td>94.0</td>\n",
              "      <td>839.836796</td>\n",
              "    </tr>\n",
              "  </tbody>\n",
              "</table>\n",
              "<p>8712 rows × 9 columns</p>\n",
              "</div>\n",
              "      <button class=\"colab-df-convert\" onclick=\"convertToInteractive('df-d3d017e5-6322-4f2f-ab94-039ddb1e094e')\"\n",
              "              title=\"Convert this dataframe to an interactive table.\"\n",
              "              style=\"display:none;\">\n",
              "        \n",
              "  <svg xmlns=\"http://www.w3.org/2000/svg\" height=\"24px\"viewBox=\"0 0 24 24\"\n",
              "       width=\"24px\">\n",
              "    <path d=\"M0 0h24v24H0V0z\" fill=\"none\"/>\n",
              "    <path d=\"M18.56 5.44l.94 2.06.94-2.06 2.06-.94-2.06-.94-.94-2.06-.94 2.06-2.06.94zm-11 1L8.5 8.5l.94-2.06 2.06-.94-2.06-.94L8.5 2.5l-.94 2.06-2.06.94zm10 10l.94 2.06.94-2.06 2.06-.94-2.06-.94-.94-2.06-.94 2.06-2.06.94z\"/><path d=\"M17.41 7.96l-1.37-1.37c-.4-.4-.92-.59-1.43-.59-.52 0-1.04.2-1.43.59L10.3 9.45l-7.72 7.72c-.78.78-.78 2.05 0 2.83L4 21.41c.39.39.9.59 1.41.59.51 0 1.02-.2 1.41-.59l7.78-7.78 2.81-2.81c.8-.78.8-2.07 0-2.86zM5.41 20L4 18.59l7.72-7.72 1.47 1.35L5.41 20z\"/>\n",
              "  </svg>\n",
              "      </button>\n",
              "      \n",
              "  <style>\n",
              "    .colab-df-container {\n",
              "      display:flex;\n",
              "      flex-wrap:wrap;\n",
              "      gap: 12px;\n",
              "    }\n",
              "\n",
              "    .colab-df-convert {\n",
              "      background-color: #E8F0FE;\n",
              "      border: none;\n",
              "      border-radius: 50%;\n",
              "      cursor: pointer;\n",
              "      display: none;\n",
              "      fill: #1967D2;\n",
              "      height: 32px;\n",
              "      padding: 0 0 0 0;\n",
              "      width: 32px;\n",
              "    }\n",
              "\n",
              "    .colab-df-convert:hover {\n",
              "      background-color: #E2EBFA;\n",
              "      box-shadow: 0px 1px 2px rgba(60, 64, 67, 0.3), 0px 1px 3px 1px rgba(60, 64, 67, 0.15);\n",
              "      fill: #174EA6;\n",
              "    }\n",
              "\n",
              "    [theme=dark] .colab-df-convert {\n",
              "      background-color: #3B4455;\n",
              "      fill: #D2E3FC;\n",
              "    }\n",
              "\n",
              "    [theme=dark] .colab-df-convert:hover {\n",
              "      background-color: #434B5C;\n",
              "      box-shadow: 0px 1px 3px 1px rgba(0, 0, 0, 0.15);\n",
              "      filter: drop-shadow(0px 1px 2px rgba(0, 0, 0, 0.3));\n",
              "      fill: #FFFFFF;\n",
              "    }\n",
              "  </style>\n",
              "\n",
              "      <script>\n",
              "        const buttonEl =\n",
              "          document.querySelector('#df-d3d017e5-6322-4f2f-ab94-039ddb1e094e button.colab-df-convert');\n",
              "        buttonEl.style.display =\n",
              "          google.colab.kernel.accessAllowed ? 'block' : 'none';\n",
              "\n",
              "        async function convertToInteractive(key) {\n",
              "          const element = document.querySelector('#df-d3d017e5-6322-4f2f-ab94-039ddb1e094e');\n",
              "          const dataTable =\n",
              "            await google.colab.kernel.invokeFunction('convertToInteractive',\n",
              "                                                     [key], {});\n",
              "          if (!dataTable) return;\n",
              "\n",
              "          const docLinkHtml = 'Like what you see? Visit the ' +\n",
              "            '<a target=\"_blank\" href=https://colab.research.google.com/notebooks/data_table.ipynb>data table notebook</a>'\n",
              "            + ' to learn more about interactive tables.';\n",
              "          element.innerHTML = '';\n",
              "          dataTable['output_type'] = 'display_data';\n",
              "          await google.colab.output.renderOutput(dataTable, element);\n",
              "          const docLink = document.createElement('div');\n",
              "          docLink.innerHTML = docLinkHtml;\n",
              "          element.appendChild(docLink);\n",
              "        }\n",
              "      </script>\n",
              "    </div>\n",
              "  </div>\n",
              "  "
            ],
            "text/plain": [
              "              T-1          T-2         T-24  ...  TEMP  HUMIDITY            T\n",
              "0     2175.940789   446.574660  1828.915749  ...  65.0      92.0  2236.756556\n",
              "1     2236.756556  2175.940789  1828.915749  ...  65.0      92.0  2236.756556\n",
              "2     2236.756556  2236.756556  1828.915749  ...  65.0      92.0  2354.480586\n",
              "3     2354.480586  2236.756556  1892.265507  ...  77.0      52.0  2511.445958\n",
              "4     2511.445958  2354.480586  2532.344883  ...  77.0      52.0  2805.756031\n",
              "...           ...          ...          ...  ...   ...       ...          ...\n",
              "8707  1240.667993  1011.621595  1160.855092  ...  67.0      92.0  1221.580794\n",
              "8708  1221.580794  1240.667993  1011.067338  ...  67.0      92.0  1173.204615\n",
              "8709  1173.204615  1221.580794   898.726523  ...  65.0      94.0  1078.591339\n",
              "8710  1078.591339  1173.204615  2023.111553  ...  65.0      94.0   908.287443\n",
              "8711   908.287443  1078.591339  2023.111553  ...  65.0      94.0   839.836796\n",
              "\n",
              "[8712 rows x 9 columns]"
            ]
          },
          "metadata": {},
          "execution_count": 10
        }
      ]
    },
    {
      "cell_type": "markdown",
      "metadata": {
        "id": "Vay2R8ZlNc5q"
      },
      "source": [
        "## Missing Values Treatment"
      ]
    },
    {
      "cell_type": "code",
      "metadata": {
        "colab": {
          "base_uri": "https://localhost:8080/"
        },
        "id": "I1aGajBjNKvh",
        "outputId": "c1b5804f-cb29-423d-ba03-81b114ee6558"
      },
      "source": [
        "print(df.isnull().sum())"
      ],
      "execution_count": 11,
      "outputs": [
        {
          "output_type": "stream",
          "name": "stdout",
          "text": [
            "T-1         0\n",
            "T-2         0\n",
            "T-24        0\n",
            "T-48        0\n",
            "DAY         0\n",
            "SEASON      0\n",
            "TEMP        0\n",
            "HUMIDITY    0\n",
            "T           0\n",
            "dtype: int64\n"
          ]
        }
      ]
    },
    {
      "cell_type": "markdown",
      "metadata": {
        "id": "RrDDPeReNrqB"
      },
      "source": [
        "## Data Split"
      ]
    },
    {
      "cell_type": "code",
      "metadata": {
        "id": "l_XqjYV0NnvY"
      },
      "source": [
        "from sklearn.model_selection import train_test_split\n",
        "df_train, df_test = train_test_split(df, train_size = 0.7, test_size = 0.3, random_state = 100)"
      ],
      "execution_count": 12,
      "outputs": []
    },
    {
      "cell_type": "code",
      "source": [
        "from sklearn.preprocessing import MinMaxScaler\n",
        "scaler = MinMaxScaler()\n",
        "df_train= scaler.fit_transform(df_train)\n",
        "df_test= scaler.fit_transform(df_test)\n",
        "\n",
        "df_train"
      ],
      "metadata": {
        "id": "eFC4sO_iVlLP",
        "outputId": "9607bc08-0f76-42aa-f506-9c8ff6c50788",
        "colab": {
          "base_uri": "https://localhost:8080/"
        }
      },
      "execution_count": 14,
      "outputs": [
        {
          "output_type": "execute_result",
          "data": {
            "text/plain": [
              "array([[0.06561008, 0.06892172, 0.12023797, ..., 0.60344828, 0.72727273,\n",
              "        0.05367438],\n",
              "       [0.31100572, 0.22348079, 0.30713329, ..., 0.63793103, 0.40909091,\n",
              "        0.34791315],\n",
              "       [0.14614022, 0.19605363, 0.15337913, ..., 0.63793103, 0.29545455,\n",
              "        0.12792621],\n",
              "       ...,\n",
              "       [0.06919769, 0.08216827, 0.06948309, ..., 0.29310345, 0.88636364,\n",
              "        0.06919769],\n",
              "       [0.08520394, 0.09472491, 0.1025641 , ..., 0.55172414, 0.86363636,\n",
              "        0.199209  ],\n",
              "       [0.07019808, 0.07313026, 0.1503694 , ..., 0.53448276, 0.79545455,\n",
              "        0.05142475]])"
            ]
          },
          "metadata": {},
          "execution_count": 14
        }
      ]
    },
    {
      "cell_type": "code",
      "source": [
        "# Dividing the training data set into X and Y\n",
        "X_train = df_train[:,0:8]\n",
        "y_train = df_train[:,8]\n",
        "X_test = df_test[:,0:8]\n",
        "y_test = df_test[:,8]"
      ],
      "metadata": {
        "id": "5oclGt--V24o"
      },
      "execution_count": 15,
      "outputs": []
    },
    {
      "cell_type": "code",
      "source": [
        "y_test"
      ],
      "metadata": {
        "colab": {
          "base_uri": "https://localhost:8080/"
        },
        "id": "V0SPcS4Wpv8w",
        "outputId": "cb1fb8ca-6e4f-4f65-f758-b635a5a3a3ba"
      },
      "execution_count": 25,
      "outputs": [
        {
          "output_type": "execute_result",
          "data": {
            "text/plain": [
              "array([0.27416627, 0.3335796 , 0.81357471, ..., 0.51767503, 0.17775577,\n",
              "       0.26842455])"
            ]
          },
          "metadata": {},
          "execution_count": 25
        }
      ]
    },
    {
      "cell_type": "code",
      "source": [
        "from sklearn.linear_model import LinearRegression\n",
        "regressor = LinearRegression()\n",
        "regressor.fit(X_train, y_train)"
      ],
      "metadata": {
        "id": "15ggjwEVW1qm",
        "outputId": "77db0983-6b1a-430b-f198-59b91b48a13d",
        "colab": {
          "base_uri": "https://localhost:8080/"
        }
      },
      "execution_count": 26,
      "outputs": [
        {
          "output_type": "execute_result",
          "data": {
            "text/plain": [
              "LinearRegression()"
            ]
          },
          "metadata": {},
          "execution_count": 26
        }
      ]
    },
    {
      "cell_type": "code",
      "source": [
        "m = regressor.coef_\n",
        "c = regressor.intercept_,\n",
        "print(\"Estimated model weights, m:\" , m)\n",
        "print(\"Estimated model intercept, c:\" , c)"
      ],
      "metadata": {
        "id": "OR66gr7IX2_p",
        "outputId": "db4acf7b-a3a6-4df1-8088-e27f05c06af3",
        "colab": {
          "base_uri": "https://localhost:8080/"
        }
      },
      "execution_count": 27,
      "outputs": [
        {
          "output_type": "stream",
          "name": "stdout",
          "text": [
            "Estimated model weights, m: [ 5.80348841e-01 -9.83822028e-02  3.21305035e-01  1.50728583e-01\n",
            " -1.89472969e-04 -1.61686237e-02 -1.18353625e-02 -6.86897489e-02]\n",
            "Estimated model intercept, c: (0.06964815585650846,)\n"
          ]
        }
      ]
    },
    {
      "cell_type": "code",
      "source": [
        "y_pred_test =  regressor.predict(X_test)\n",
        "y_pred_train =  regressor.predict(X_train)\n",
        "y_pred_test"
      ],
      "metadata": {
        "id": "TjUD913aX6Lo",
        "colab": {
          "base_uri": "https://localhost:8080/"
        },
        "outputId": "94d8431f-526e-4c9c-822a-e1fe2c262f09"
      },
      "execution_count": 29,
      "outputs": [
        {
          "output_type": "execute_result",
          "data": {
            "text/plain": [
              "array([0.29047772, 0.39060215, 0.84784879, ..., 0.44990721, 0.18209023,\n",
              "       0.26728437])"
            ]
          },
          "metadata": {},
          "execution_count": 29
        }
      ]
    },
    {
      "cell_type": "code",
      "source": [
        "import math\n",
        "from sklearn.metrics import mean_squared_error \n",
        "from sklearn.metrics import mean_absolute_error\n",
        "\n",
        "\n",
        "#Training Accuracies\n",
        "rmse = math.sqrt(mean_squared_error(y_train, y_pred_train)) \n",
        "print('Root mean square error', rmse) \n",
        "mse = (mean_squared_error(y_train, y_pred_train)) \n",
        "print('Mean square error', mse) \n",
        "mae=mean_absolute_error(y_train, y_pred_train)\n",
        "print('Mean absolute error', mae)"
      ],
      "metadata": {
        "id": "fTVTZmXCYDxW",
        "outputId": "692133ab-40c7-4d81-aa60-356c8db757fd",
        "colab": {
          "base_uri": "https://localhost:8080/"
        }
      },
      "execution_count": 30,
      "outputs": [
        {
          "output_type": "stream",
          "name": "stdout",
          "text": [
            "Root mean square error 0.07102471390179683\n",
            "Mean square error 0.005044509984832093\n",
            "Mean absolute error 0.042316549656241494\n"
          ]
        }
      ]
    },
    {
      "cell_type": "code",
      "source": [
        "#Testing Accuracies\n",
        "rmse = math.sqrt(mean_squared_error(y_test, y_pred_test)) \n",
        "print('Root mean square error', rmse) \n",
        "mse = (mean_squared_error(y_test, y_pred_test)) \n",
        "print('Mean square error', mse) \n",
        "mae=mean_absolute_error(y_test, y_pred_test)\n",
        "print('Mean absolute error', mae)"
      ],
      "metadata": {
        "id": "tzhYEwyhYF2y",
        "outputId": "c055d93b-c526-4b3d-c1d0-fce742f365bb",
        "colab": {
          "base_uri": "https://localhost:8080/"
        }
      },
      "execution_count": 31,
      "outputs": [
        {
          "output_type": "stream",
          "name": "stdout",
          "text": [
            "Root mean square error 0.07163557863046116\n",
            "Mean square error 0.005131656125720983\n",
            "Mean absolute error 0.04450666015035177\n"
          ]
        }
      ]
    },
    {
      "cell_type": "code",
      "source": [
        "import pickle\n",
        "# Save the model\n",
        "filename = 'linear_regression.pkl'\n",
        "pickle.dump(regressor, open(filename, 'wb'))"
      ],
      "metadata": {
        "id": "dpzHHpACoQhR"
      },
      "execution_count": 32,
      "outputs": []
    },
    {
      "cell_type": "code",
      "source": [
        "list_of_columns = ['T-1','T-2','T-24','T-48','DAY','SEASON','TEMP','HUMIDITY']\n",
        "input_data=pd.DataFrame(columns=list_of_columns)\n",
        "\n",
        "input_data.at[0, 'T-1'] = int(input('ENTER PREVIOUS HOUR LOAD'))\n",
        "input_data.at[0, 'T-2'] = int(input('ENTER TWO HOURS BEFORE LOAD'))\n",
        "input_data.at[0, 'T-24'] = int(input('ENTER ONE DAY BEFORE LOAD'))\n",
        "input_data.at[0, 'T-48'] = int(input('ENTER TWO DAY BEFORE LOAD'))\n",
        "input_data.at[0, 'DAY'] = int(input('0: WEEKDAY AND 1:WEEKEND'))\n",
        "input_data.at[0, 'SEASON'] = int(input('0:RAINY,1:WINTER,2:SUMMER'))\n",
        "input_data.at[0, 'TEMP'] = int(input('ENTER TEMPARATURE'))\n",
        "input_data.at[0, 'HUMIDITY'] = int(input('ENTER HUMIDITY'))\n",
        "\n",
        "\n",
        "\n",
        "model = pickle.load(open('linear_regression.pkl', 'rb'))\n",
        "prediction = model.predict(input_data)\n",
        "result = prediction[0] #*(6306-432)+432\n",
        "print('Predicted load in kW',result)"
      ],
      "metadata": {
        "colab": {
          "base_uri": "https://localhost:8080/"
        },
        "id": "qZR04ONIoePy",
        "outputId": "feed2bc1-1256-40c7-f5dd-3a7c5c618230"
      },
      "execution_count": 34,
      "outputs": [
        {
          "output_type": "stream",
          "name": "stdout",
          "text": [
            "ENTER PREVIOUS HOUR LOAD2176\n",
            "ENTER TWO HOURS BEFORE LOAD447\n",
            "ENTER ONE DAY BEFORE LOAD1829\n",
            "ENTER TWO DAY BEFORE LOAD1967\n",
            "0: WEEKDAY AND 1:WEEKEND1\n",
            "0:RAINY,1:WINTER,2:SUMMER1\n",
            "ENTER TEMPARATURE65\n",
            "ENTER HUMIDITY92\n",
            "Tredicted load in kW 2095.9767990087553\n"
          ]
        },
        {
          "output_type": "stream",
          "name": "stderr",
          "text": [
            "/usr/local/lib/python3.7/dist-packages/sklearn/base.py:444: UserWarning: X has feature names, but LinearRegression was fitted without feature names\n",
            "  f\"X has feature names, but {self.__class__.__name__} was fitted without\"\n"
          ]
        }
      ]
    },
    {
      "cell_type": "markdown",
      "metadata": {
        "id": "dCnPyjFPRYHe"
      },
      "source": [
        "# Decision Tree Regressor"
      ]
    },
    {
      "cell_type": "code",
      "metadata": {
        "id": "BaF_C1xXPu8_",
        "outputId": "b5929d14-f869-412a-b271-2c1a42010f4d",
        "colab": {
          "base_uri": "https://localhost:8080/"
        }
      },
      "source": [
        "# Fitting Decision Tree Regression to the dataset\n",
        "from sklearn.tree import DecisionTreeRegressor\n",
        "regressor = DecisionTreeRegressor(max_depth=None)\n",
        "regressor.fit(X_train, y_train)\n",
        "regressor.get_depth()"
      ],
      "execution_count": 48,
      "outputs": [
        {
          "output_type": "execute_result",
          "data": {
            "text/plain": [
              "34"
            ]
          },
          "metadata": {},
          "execution_count": 48
        }
      ]
    },
    {
      "cell_type": "code",
      "source": [
        "y_pred_test =  regressor.predict(X_test)\n",
        "y_pred_train =  regressor.predict(X_train)"
      ],
      "metadata": {
        "id": "N5D1MHtuYbZk"
      },
      "execution_count": 43,
      "outputs": []
    },
    {
      "cell_type": "code",
      "source": [
        "import math\n",
        "from sklearn.metrics import mean_squared_error \n",
        "from sklearn.metrics import mean_absolute_error\n",
        "\n",
        "\n",
        "#Training Accuracies\n",
        "rmse = math.sqrt(mean_squared_error(y_train, y_pred_train)) \n",
        "print('Root mean square error', rmse) \n",
        "mse = (mean_squared_error(y_train, y_pred_train)) \n",
        "print('Mean square error', mse) \n",
        "mae=mean_absolute_error(y_train, y_pred_train)\n",
        "print('Mean absolute error', mae)"
      ],
      "metadata": {
        "id": "idzKXuzYYdBB",
        "outputId": "62336842-8b8a-4d36-b932-5ad8c2b74e64",
        "colab": {
          "base_uri": "https://localhost:8080/"
        }
      },
      "execution_count": 44,
      "outputs": [
        {
          "output_type": "stream",
          "name": "stdout",
          "text": [
            "Root mean square error 0.06563006004804028\n",
            "Mean square error 0.004307304781909374\n",
            "Mean absolute error 0.039150829888698495\n"
          ]
        }
      ]
    },
    {
      "cell_type": "code",
      "source": [
        "#Training Accuracies\n",
        "rmse = math.sqrt(mean_squared_error(y_test, y_pred_test)) \n",
        "print('Root mean square error', rmse) \n",
        "mse = (mean_squared_error(y_test, y_pred_test)) \n",
        "print('Mean square error', mse) \n",
        "mae=mean_absolute_error(y_test, y_pred_test)\n",
        "print('Mean absolute error', mae)"
      ],
      "metadata": {
        "id": "uMKMmerUYfLn",
        "outputId": "c9d78336-e37e-41fa-cbf4-98e3575e4af5",
        "colab": {
          "base_uri": "https://localhost:8080/"
        }
      },
      "execution_count": 45,
      "outputs": [
        {
          "output_type": "stream",
          "name": "stdout",
          "text": [
            "Root mean square error 0.07232056566156829\n",
            "Mean square error 0.005230264217609211\n",
            "Mean absolute error 0.043845684749535985\n"
          ]
        }
      ]
    },
    {
      "cell_type": "code",
      "source": [
        "import pickle\n",
        "# Save the model\n",
        "filename = 'decision_Tree.pkl'\n",
        "pickle.dump(regressor, open(filename, 'wb'))"
      ],
      "metadata": {
        "id": "NlM0uRBWZufs"
      },
      "execution_count": 46,
      "outputs": []
    },
    {
      "cell_type": "code",
      "source": [
        "list_of_columns = ['T-1','T-2','T-24','T-48','DAY','SEASON','TEMP','HUMIDITY']\n",
        "input_data=pd.DataFrame(columns=list_of_columns)\n",
        "\n",
        "input_data.at[0, 'T-1'] = int(input('ENTER PREVIOUS HOUR LOAD'))\n",
        "input_data.at[0, 'T-2'] = int(input('ENTER TWO HOURS BEFORE LOAD'))\n",
        "input_data.at[0, 'T-24'] = int(input('ENTER ONE DAY BEFORE LOAD'))\n",
        "input_data.at[0, 'T-48'] = int(input('ENTER TWO DAY BEFORE LOAD'))\n",
        "input_data.at[0, 'DAY'] = int(input('0: WEEKDAY AND 1:WEEKEND'))\n",
        "input_data.at[0, 'SEASON'] = int(input('0:RAINY,1:WINTER,2:SUMMER'))\n",
        "input_data.at[0, 'TEMP'] = int(input('ENTER TEMPARATURE'))\n",
        "input_data.at[0, 'HUMIDITY'] = int(input('ENTER HUMIDITY'))\n",
        "\n",
        "\n",
        "\n",
        "model = pickle.load(open('decision_Tree.pkl', 'rb'))\n",
        "prediction = model.predict(input_data)\n",
        "result = prediction[0]*(6306-432)+432.\n",
        "print('Tredicted load in kW',result)"
      ],
      "metadata": {
        "id": "WlOS6W-_Z5if",
        "outputId": "c0fd09dd-4a05-458b-8a12-0582ae832233",
        "colab": {
          "base_uri": "https://localhost:8080/"
        }
      },
      "execution_count": 47,
      "outputs": [
        {
          "output_type": "stream",
          "name": "stdout",
          "text": [
            "ENTER PREVIOUS HOUR LOAD2176\n",
            "ENTER TWO HOURS BEFORE LOAD447\n",
            "ENTER ONE DAY BEFORE LOAD1829\n",
            "ENTER TWO DAY BEFORE LOAD1967\n",
            "0: WEEKDAY AND 1:WEEKEND1\n",
            "0:RAINY,1:WINTER,2:SUMMER1\n",
            "ENTER TEMPARATURE65\n",
            "ENTER HUMIDITY92\n",
            "Tredicted load in kW 5722.885492274611\n"
          ]
        },
        {
          "output_type": "stream",
          "name": "stderr",
          "text": [
            "/usr/local/lib/python3.7/dist-packages/sklearn/base.py:444: UserWarning: X has feature names, but DecisionTreeRegressor was fitted without feature names\n",
            "  f\"X has feature names, but {self.__class__.__name__} was fitted without\"\n"
          ]
        }
      ]
    },
    {
      "cell_type": "markdown",
      "metadata": {
        "id": "yXwa1qdkoS85"
      },
      "source": [
        "# Thank You"
      ]
    }
  ]
}
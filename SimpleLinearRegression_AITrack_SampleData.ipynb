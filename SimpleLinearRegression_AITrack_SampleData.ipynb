{
  "nbformat": 4,
  "nbformat_minor": 0,
  "metadata": {
    "colab": {
      "name": "SimpleLinearRegression-AITrack-SampleData.ipynb",
      "provenance": [],
      "authorship_tag": "ABX9TyPbIed4Y00XHJDBkHNB0iVI",
      "include_colab_link": true
    },
    "kernelspec": {
      "name": "python3",
      "display_name": "Python 3"
    },
    "language_info": {
      "name": "python"
    }
  },
  "cells": [
    {
      "cell_type": "markdown",
      "metadata": {
        "id": "view-in-github",
        "colab_type": "text"
      },
      "source": [
        "<a href=\"https://colab.research.google.com/github/vvrgit/AI/blob/main/SimpleLinearRegression_AITrack_SampleData.ipynb\" target=\"_parent\"><img src=\"https://colab.research.google.com/assets/colab-badge.svg\" alt=\"Open In Colab\"/></a>"
      ]
    },
    {
      "cell_type": "markdown",
      "metadata": {
        "id": "iwDw8r2IJmsS"
      },
      "source": [
        "## Mount Google Drive"
      ]
    },
    {
      "cell_type": "markdown",
      "metadata": {
        "id": "0esJIR2pKxH3"
      },
      "source": [
        ""
      ]
    },
    {
      "cell_type": "code",
      "metadata": {
        "colab": {
          "base_uri": "https://localhost:8080/"
        },
        "id": "SPENjTepJr0q",
        "outputId": "b37a5a48-ca77-40d2-e294-1d4b1e04e9a8"
      },
      "source": [
        "from google.colab import drive\n",
        "drive.mount('/content/drive')"
      ],
      "execution_count": 92,
      "outputs": [
        {
          "output_type": "stream",
          "name": "stdout",
          "text": [
            "Drive already mounted at /content/drive; to attempt to forcibly remount, call drive.mount(\"/content/drive\", force_remount=True).\n"
          ]
        }
      ]
    },
    {
      "cell_type": "markdown",
      "metadata": {
        "id": "hHbFVQz1JuAS"
      },
      "source": [
        "# Import required libraries"
      ]
    },
    {
      "cell_type": "code",
      "metadata": {
        "id": "2i7lt1fsDOHT"
      },
      "source": [
        "import numpy as np\n",
        "import math as mt\n",
        "import random\n",
        "import pandas as pd"
      ],
      "execution_count": 93,
      "outputs": []
    },
    {
      "cell_type": "markdown",
      "metadata": {
        "id": "MFfQZAGMJzfL"
      },
      "source": [
        "## Import Data"
      ]
    },
    {
      "cell_type": "code",
      "metadata": {
        "colab": {
          "base_uri": "https://localhost:8080/",
          "height": 175
        },
        "id": "XmvMPT-MDJKE",
        "outputId": "6e7dda6c-d123-48fa-9b02-6377cf30fdfd"
      },
      "source": [
        "data = pd.read_csv('/content/drive/MyDrive/AI Data/sampledata.csv')\n",
        "data.head()"
      ],
      "execution_count": 94,
      "outputs": [
        {
          "output_type": "execute_result",
          "data": {
            "text/html": [
              "<div>\n",
              "<style scoped>\n",
              "    .dataframe tbody tr th:only-of-type {\n",
              "        vertical-align: middle;\n",
              "    }\n",
              "\n",
              "    .dataframe tbody tr th {\n",
              "        vertical-align: top;\n",
              "    }\n",
              "\n",
              "    .dataframe thead th {\n",
              "        text-align: right;\n",
              "    }\n",
              "</style>\n",
              "<table border=\"1\" class=\"dataframe\">\n",
              "  <thead>\n",
              "    <tr style=\"text-align: right;\">\n",
              "      <th></th>\n",
              "      <th>X</th>\n",
              "      <th>Y</th>\n",
              "    </tr>\n",
              "  </thead>\n",
              "  <tbody>\n",
              "    <tr>\n",
              "      <th>0</th>\n",
              "      <td>0.2</td>\n",
              "      <td>3.4</td>\n",
              "    </tr>\n",
              "    <tr>\n",
              "      <th>1</th>\n",
              "      <td>0.4</td>\n",
              "      <td>3.8</td>\n",
              "    </tr>\n",
              "    <tr>\n",
              "      <th>2</th>\n",
              "      <td>0.6</td>\n",
              "      <td>4.2</td>\n",
              "    </tr>\n",
              "    <tr>\n",
              "      <th>3</th>\n",
              "      <td>0.8</td>\n",
              "      <td>4.6</td>\n",
              "    </tr>\n",
              "  </tbody>\n",
              "</table>\n",
              "</div>"
            ],
            "text/plain": [
              "     X    Y\n",
              "0  0.2  3.4\n",
              "1  0.4  3.8\n",
              "2  0.6  4.2\n",
              "3  0.8  4.6"
            ]
          },
          "metadata": {},
          "execution_count": 94
        }
      ]
    },
    {
      "cell_type": "markdown",
      "metadata": {
        "id": "jcZM16FpJ4nT"
      },
      "source": [
        "## Outliers Treatment"
      ]
    },
    {
      "cell_type": "code",
      "metadata": {
        "id": "dzQypoRyDhXq"
      },
      "source": [
        "outliers = []\n",
        "def detect_outliers_zscore(data):\n",
        "    thres = 3\n",
        "    mean = np.mean(data)\n",
        "    std = np.std(data)\n",
        "    # print(mean, std)\n",
        "    for i in data:\n",
        "        z_score = (i-mean)/std\n",
        "        if (np.abs(z_score) > thres):\n",
        "            outliers.append(i)\n",
        "    return outliers# Driver code"
      ],
      "execution_count": 95,
      "outputs": []
    },
    {
      "cell_type": "code",
      "metadata": {
        "colab": {
          "base_uri": "https://localhost:8080/"
        },
        "id": "lgPbtrBIDvqU",
        "outputId": "394b8052-425e-4a69-9159-1fd0c28fecfa"
      },
      "source": [
        "sample_outliers_X = detect_outliers_zscore(data['X'])\n",
        "sample_outliers_Y = detect_outliers_zscore(data['Y'])\n",
        "print(\"Outliers in X column from Z-scores method: \", sample_outliers_X)\n",
        "print(\"Outliers in Y column from Z-scores method: \", sample_outliers_Y)"
      ],
      "execution_count": 96,
      "outputs": [
        {
          "output_type": "stream",
          "name": "stdout",
          "text": [
            "Outliers in X column from Z-scores method:  []\n",
            "Outliers in Y column from Z-scores method:  []\n"
          ]
        }
      ]
    },
    {
      "cell_type": "markdown",
      "metadata": {
        "id": "pkBc7QsoJ-0N"
      },
      "source": [
        "## Missing Values Treatment"
      ]
    },
    {
      "cell_type": "code",
      "metadata": {
        "colab": {
          "base_uri": "https://localhost:8080/"
        },
        "id": "k-xlDgDxDyTq",
        "outputId": "9bc8c288-bfe6-4448-f7f7-a319f725e054"
      },
      "source": [
        "print(data.isnull().sum())"
      ],
      "execution_count": 97,
      "outputs": [
        {
          "output_type": "stream",
          "name": "stdout",
          "text": [
            "X    0\n",
            "Y    0\n",
            "dtype: int64\n"
          ]
        }
      ]
    },
    {
      "cell_type": "code",
      "metadata": {
        "colab": {
          "base_uri": "https://localhost:8080/",
          "height": 175
        },
        "id": "LXEwVn9oELo5",
        "outputId": "dc3482ba-9eb6-4865-a39d-dbcf94f6fbb6"
      },
      "source": [
        "m1=data['X'].mean()\n",
        "m2=data['Y'].mean()\n",
        "data['X'].fillna(value=m1, inplace=True)\n",
        "data['Y'].fillna(value=m2, inplace=True)\n",
        "data"
      ],
      "execution_count": 98,
      "outputs": [
        {
          "output_type": "execute_result",
          "data": {
            "text/html": [
              "<div>\n",
              "<style scoped>\n",
              "    .dataframe tbody tr th:only-of-type {\n",
              "        vertical-align: middle;\n",
              "    }\n",
              "\n",
              "    .dataframe tbody tr th {\n",
              "        vertical-align: top;\n",
              "    }\n",
              "\n",
              "    .dataframe thead th {\n",
              "        text-align: right;\n",
              "    }\n",
              "</style>\n",
              "<table border=\"1\" class=\"dataframe\">\n",
              "  <thead>\n",
              "    <tr style=\"text-align: right;\">\n",
              "      <th></th>\n",
              "      <th>X</th>\n",
              "      <th>Y</th>\n",
              "    </tr>\n",
              "  </thead>\n",
              "  <tbody>\n",
              "    <tr>\n",
              "      <th>0</th>\n",
              "      <td>0.2</td>\n",
              "      <td>3.4</td>\n",
              "    </tr>\n",
              "    <tr>\n",
              "      <th>1</th>\n",
              "      <td>0.4</td>\n",
              "      <td>3.8</td>\n",
              "    </tr>\n",
              "    <tr>\n",
              "      <th>2</th>\n",
              "      <td>0.6</td>\n",
              "      <td>4.2</td>\n",
              "    </tr>\n",
              "    <tr>\n",
              "      <th>3</th>\n",
              "      <td>0.8</td>\n",
              "      <td>4.6</td>\n",
              "    </tr>\n",
              "  </tbody>\n",
              "</table>\n",
              "</div>"
            ],
            "text/plain": [
              "     X    Y\n",
              "0  0.2  3.4\n",
              "1  0.4  3.8\n",
              "2  0.6  4.2\n",
              "3  0.8  4.6"
            ]
          },
          "metadata": {},
          "execution_count": 98
        }
      ]
    },
    {
      "cell_type": "markdown",
      "metadata": {
        "id": "9OXXNnqTKD4C"
      },
      "source": [
        "## Data Split"
      ]
    },
    {
      "cell_type": "code",
      "metadata": {
        "id": "kWzSeVWrEy0r"
      },
      "source": [
        "from sklearn.model_selection import train_test_split\n",
        "x_train, x_test, y_train, y_test = train_test_split(data.X, data.Y, test_size = 0.20, random_state = 10)"
      ],
      "execution_count": 99,
      "outputs": []
    },
    {
      "cell_type": "markdown",
      "metadata": {
        "id": "Tbc2yHuEKHp0"
      },
      "source": [
        "## Initialization"
      ]
    },
    {
      "cell_type": "code",
      "metadata": {
        "id": "99equFbKFOsr"
      },
      "source": [
        "m=random.uniform(-10,10)\n",
        "c=random.uniform(-10,10)\n",
        "eta=0.9\n",
        "max_iter=10000"
      ],
      "execution_count": 100,
      "outputs": []
    },
    {
      "cell_type": "markdown",
      "metadata": {
        "id": "MIkEMeI4KM-9"
      },
      "source": [
        "## Gradient Calculation"
      ]
    },
    {
      "cell_type": "code",
      "metadata": {
        "id": "imG8iW7XGFJq"
      },
      "source": [
        "def gradient(m,c,x,y):\n",
        "  m_deriv=-1*(y-m*x-c)*x\n",
        "  c_deriv=-1*(y-m*x-c)\n",
        "  return m_deriv,c_deriv"
      ],
      "execution_count": 101,
      "outputs": []
    },
    {
      "cell_type": "markdown",
      "metadata": {
        "id": "E6Lz7bpcKRMz"
      },
      "source": [
        "## Training Using Stochastic Gradient Descent Optimizer"
      ]
    },
    {
      "cell_type": "code",
      "metadata": {
        "colab": {
          "base_uri": "https://localhost:8080/"
        },
        "id": "2pBwUPUTGiEh",
        "outputId": "40a9a055-da07-4e14-f70a-00d2ec4f38c3"
      },
      "source": [
        "for iter in range(max_iter):\n",
        "  for sample in range(x_train.shape[0]):\n",
        "    del_m,del_c=gradient(m, c, x_train.iloc[sample], y_train.iloc[sample])\n",
        "    m=m-eta*del_m\n",
        "    c=c-eta*del_c\n",
        "print('model parameter m and c',m,c)"
      ],
      "execution_count": 102,
      "outputs": [
        {
          "output_type": "stream",
          "name": "stdout",
          "text": [
            "model parameter m and c 2.0 3.0\n"
          ]
        }
      ]
    },
    {
      "cell_type": "markdown",
      "metadata": {
        "id": "lH1TjUTnKXpS"
      },
      "source": [
        "# Model Prediction on Training Data\n",
        "\n",
        "\n",
        "\n"
      ]
    },
    {
      "cell_type": "code",
      "metadata": {
        "id": "Q1O22QbjG_gq"
      },
      "source": [
        "y_pred_train = []\n",
        "for i in x_train:\n",
        "  y_p_tr = (m * i) + c\n",
        "  y_pred_train.append(y_p_tr)\n",
        "y_pred_train = np.array(y_pred_train)"
      ],
      "execution_count": 103,
      "outputs": []
    },
    {
      "cell_type": "markdown",
      "metadata": {
        "id": "Mk7K2lQRKijY"
      },
      "source": [
        "# Model Prediction on Testing Data"
      ]
    },
    {
      "cell_type": "code",
      "metadata": {
        "id": "Ptb65QY2H4fJ"
      },
      "source": [
        "y_pred_test = []\n",
        "for i in x_test:\n",
        "  y_p_te = (m * i) + c\n",
        "  y_pred_test.append(y_p_te)\n",
        "y_pred_test = np.array(y_pred_test)"
      ],
      "execution_count": 104,
      "outputs": []
    },
    {
      "cell_type": "markdown",
      "metadata": {
        "id": "U-Oy05TEKm-n"
      },
      "source": [
        "# Error Metrics Calculation"
      ]
    },
    {
      "cell_type": "code",
      "metadata": {
        "colab": {
          "base_uri": "https://localhost:8080/"
        },
        "id": "j7BjctqIH8hB",
        "outputId": "4a7b1287-27c5-443e-d7ab-b464b3a0d443"
      },
      "source": [
        "\n",
        "import math\n",
        "from sklearn.metrics import mean_squared_error \n",
        "from sklearn.metrics import mean_absolute_error\n",
        "\n",
        "\n",
        "#Training Accuracies\n",
        "rmse = math.sqrt(mean_squared_error(y_train, y_pred_train)) \n",
        "print('Root mean square error', rmse) \n",
        "mse = (mean_squared_error(y_train, y_pred_train)) \n",
        "print('Mean square error', mse) \n",
        "mae=mean_absolute_error(y_train, y_pred_train)\n",
        "print('Mean absolute error', mae)"
      ],
      "execution_count": 105,
      "outputs": [
        {
          "output_type": "stream",
          "name": "stdout",
          "text": [
            "Root mean square error 0.0\n",
            "Mean square error 0.0\n",
            "Mean absolute error 0.0\n"
          ]
        }
      ]
    },
    {
      "cell_type": "code",
      "metadata": {
        "colab": {
          "base_uri": "https://localhost:8080/"
        },
        "id": "3cCDOyKrH_Ih",
        "outputId": "ce4fb798-1b2b-461d-dd08-d12db5213b6a"
      },
      "source": [
        "#Testing Accuracies\n",
        "mse = math.sqrt(mean_squared_error(y_test, y_pred_test)) \n",
        "print('Root mean square error', mse) \n",
        "mse = (mean_squared_error(y_test, y_pred_test)) \n",
        "print('Mean square error', mse) \n",
        "mae=mean_absolute_error(y_test, y_pred_test)\n",
        "print('Mean absolute error', mae)"
      ],
      "execution_count": 106,
      "outputs": [
        {
          "output_type": "stream",
          "name": "stdout",
          "text": [
            "Root mean square error 0.0\n",
            "Mean square error 0.0\n",
            "Mean absolute error 0.0\n"
          ]
        }
      ]
    },
    {
      "cell_type": "markdown",
      "metadata": {
        "id": "EWWmQ68YKrT_"
      },
      "source": [
        "# Deployment"
      ]
    },
    {
      "cell_type": "code",
      "metadata": {
        "colab": {
          "base_uri": "https://localhost:8080/"
        },
        "id": "7__RbobPIB0x",
        "outputId": "75d0413d-f85c-44b9-a95e-f6bbc5b215a0"
      },
      "source": [
        "X=input('enter X value')\n",
        "print('X=',X)\n",
        "Y=m*float(X)+c\n",
        "print('Y=',Y)"
      ],
      "execution_count": 107,
      "outputs": [
        {
          "output_type": "stream",
          "name": "stdout",
          "text": [
            "enter X value0.4\n",
            "X= 0.4\n",
            "Y= 3.8\n"
          ]
        }
      ]
    }
  ]
}